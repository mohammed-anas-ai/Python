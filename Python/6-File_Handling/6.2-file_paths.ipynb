{
 "cells": [
  {
   "cell_type": "markdown",
   "id": "61827b47",
   "metadata": {},
   "source": [
    "#### Working With File Paths\n",
    "When working with files in Python, handling file paths correctly is crucial to ensure your code works across different operating systems and environments. Python provides several modules and functions for working with file paths effectively."
   ]
  },
  {
   "cell_type": "code",
   "execution_count": 2,
   "id": "0c99ba61",
   "metadata": {},
   "outputs": [
    {
     "name": "stdout",
     "output_type": "stream",
     "text": [
      "Current working directory : 'c:\\Users\\ma\\AI_ML_DL_NLP_BootCamp\\AI_Project\\6-File_Handling'\n"
     ]
    }
   ],
   "source": [
    "# Import os module.\n",
    "\n",
    "import os\n",
    "\n",
    "cwd = os.getcwd()\n",
    "print(f\"Current working directory : '{cwd}'\")\n"
   ]
  },
  {
   "cell_type": "code",
   "execution_count": 3,
   "id": "d6f7b6a2",
   "metadata": {},
   "outputs": [
    {
     "name": "stdout",
     "output_type": "stream",
     "text": [
      "The new directory : 'Package' created\n"
     ]
    }
   ],
   "source": [
    "# Create a new directory\n",
    "\n",
    "new_directory = \"Package\"\n",
    "\n",
    "os.mkdir(new_directory)\n",
    "print(f\"The new directory : '{new_directory}' created\")"
   ]
  },
  {
   "cell_type": "code",
   "execution_count": 6,
   "id": "1f887689",
   "metadata": {},
   "outputs": [
    {
     "name": "stdout",
     "output_type": "stream",
     "text": [
      "Listing files and directories : '['6.1-File_Operations.ipynb', '6.2-file_paths.ipynb', '6.3-Filehandling_Questions.ipynb', '6.4-Filehandling_Solutions.ipynb', 'activity.log', 'copy_image.bin', 'data.csv', 'data.json', 'data.txt', 'destination.txt', 'document.txt', 'example.bin', 'example.txt', 'file1.txt', 'file2.txt', 'image.bin', 'large.txt', 'large.txt_part1.txt', 'large.txt_part2.txt', 'large.txt_part3.txt', 'log.txt', 'merged.txt', 'output.txt', 'Package', 'protected.txt', 'reverse.txt', 'sample.txt', 'source.txt', 'stats.txt']'\n"
     ]
    }
   ],
   "source": [
    "# Listing file and directories\n",
    "\n",
    "list_items = os.listdir('.')\n",
    "print(f\"Listing files and directories : '{list_items}'\")"
   ]
  },
  {
   "cell_type": "code",
   "execution_count": 8,
   "id": "dea487aa",
   "metadata": {},
   "outputs": [
    {
     "name": "stdout",
     "output_type": "stream",
     "text": [
      "package\\sample.txt\n"
     ]
    }
   ],
   "source": [
    "# Joining paths\n",
    "\n",
    "dir_name = 'package'\n",
    "file_name = 'sample.txt'\n",
    "relative_path = os.path.join(dir_name,file_name)\n",
    "print(relative_path)"
   ]
  },
  {
   "cell_type": "code",
   "execution_count": 13,
   "id": "ada89d63",
   "metadata": {},
   "outputs": [
    {
     "name": "stdout",
     "output_type": "stream",
     "text": [
      "c:\\Users\\ma\\AI_ML_DL_NLP_BootCamp\\AI_Project\\6-File_Handling\\package\\sample.txt\n"
     ]
    }
   ],
   "source": [
    "dir_name = 'package'\n",
    "file_name = 'sample.txt'\n",
    "full_path = os.path.join(os.getcwd(),dir_name,file_name)\n",
    "print(full_path)\n"
   ]
  },
  {
   "cell_type": "code",
   "execution_count": null,
   "id": "c2487bd7",
   "metadata": {},
   "outputs": [
    {
     "name": "stdout",
     "output_type": "stream",
     "text": [
      "The relative path 'example.txt exists\n"
     ]
    }
   ],
   "source": [
    "relative_path = 'example.txt'\n",
    "\n",
    "if os.path.exists(relative_path):\n",
    "    print(f\"The relative path '{relative_path}' exists\")\n",
    "else:\n",
    "    print(f\"The relative path '{relative_path}' does not exists\")    "
   ]
  },
  {
   "cell_type": "code",
   "execution_count": 17,
   "id": "bb7381e2",
   "metadata": {},
   "outputs": [
    {
     "name": "stdout",
     "output_type": "stream",
     "text": [
      "The path 'example.txt' is a file.\n"
     ]
    }
   ],
   "source": [
    "# Checking if a path is file or a directory\n",
    "\n",
    "path = 'example.txt'\n",
    "\n",
    "if os.path.isfile(path):\n",
    "    print(f\"The path '{path}' is a file.\")\n",
    "elif os.path.isdir(path):\n",
    "    print(f\"The path '{path}' is a directory.\")\n",
    "else:\n",
    "    print(f\"The path '{path}' is neither a file nor a directory.\")        "
   ]
  },
  {
   "cell_type": "code",
   "execution_count": 20,
   "id": "154afb93",
   "metadata": {},
   "outputs": [
    {
     "name": "stdout",
     "output_type": "stream",
     "text": [
      "c:\\Users\\ma\\AI_ML_DL_NLP_BootCamp\\AI_Project\\6-File_Handling\\example.txt\n"
     ]
    }
   ],
   "source": [
    "# Obtaining the asbolute path.\n",
    "relative_path = 'example.txt'\n",
    "abs_path = os.path.abspath(relative_path)\n",
    "print(abs_path)"
   ]
  },
  {
   "cell_type": "code",
   "execution_count": null,
   "id": "ec543927",
   "metadata": {},
   "outputs": [],
   "source": []
  }
 ],
 "metadata": {
  "kernelspec": {
   "display_name": "Python 3",
   "language": "python",
   "name": "python3"
  },
  "language_info": {
   "codemirror_mode": {
    "name": "ipython",
    "version": 3
   },
   "file_extension": ".py",
   "mimetype": "text/x-python",
   "name": "python",
   "nbconvert_exporter": "python",
   "pygments_lexer": "ipython3",
   "version": "3.12.0"
  }
 },
 "nbformat": 4,
 "nbformat_minor": 5
}
