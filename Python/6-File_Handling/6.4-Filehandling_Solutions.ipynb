{
 "cells": [
  {
   "cell_type": "markdown",
   "metadata": {},
   "source": [
    "# Module: File Handling Assignments\n",
    "## Lesson: File Handling and Operations\n",
    "### Assignment 1: Reading a File\n",
    "\n",
    "Write a function that reads the contents of a file named `sample.txt` and prints each line."
   ]
  },
  {
   "cell_type": "code",
   "execution_count": 1,
   "id": "631dd16d",
   "metadata": {},
   "outputs": [
    {
     "name": "stdout",
     "output_type": "stream",
     "text": [
      "hello world\n",
      "Python is a general purpose and supports multiple paradigm.\n"
     ]
    }
   ],
   "source": [
    "def read_file(file_path):\n",
    "    with open('sample.txt',mode='w') as file:\n",
    "        file.write('hello world\\n')\n",
    "        file.write('Python is a general purpose and supports multiple paradigm.\\n')\n",
    "    with open('sample.txt',mode='r') as file:\n",
    "        for line in file:\n",
    "            print(line.strip())    \n",
    "\n",
    "read_file('sample.txt')"
   ]
  },
  {
   "cell_type": "markdown",
   "metadata": {},
   "source": [
    "### Assignment 2: Writing to a File\n",
    "\n",
    "Write a function that writes a list of strings to a file named `output.txt`, with each string on a new line."
   ]
  },
  {
   "cell_type": "code",
   "execution_count": 3,
   "metadata": {},
   "outputs": [],
   "source": [
    "def write_file(lines, filename):\n",
    "    with open(filename, 'w') as file:\n",
    "        for line in lines:\n",
    "            file.write(line + '\\n')\n",
    "\n",
    "# Test\n",
    "write_file(['Hello', 'World'], 'output.txt')"
   ]
  },
  {
   "cell_type": "markdown",
   "metadata": {},
   "source": [
    "### Assignment 3: Copying a File\n",
    "\n",
    "Write a function that copies the contents of a file named `source.txt` to a new file named `destination.txt`."
   ]
  },
  {
   "cell_type": "code",
   "execution_count": 15,
   "id": "c76d488f",
   "metadata": {},
   "outputs": [],
   "source": [
    "def copy_files(source, destination):\n",
    "\n",
    "    with open('source.txt',mode='w') as file:\n",
    "        file.writelines(['Hello \\n','World \\n','From Python \\n'])\n",
    "\n",
    "    with open('source.txt',mode='r') as src_file:\n",
    "        with open('destination.txt',mode='w') as dst_file:\n",
    "            dst_file.write(src_file.read())\n",
    "\n",
    "# function calling\n",
    "\n",
    "copy_files('source.txt', 'destination.txt')"
   ]
  },
  {
   "cell_type": "markdown",
   "metadata": {},
   "source": [
    "### Assignment 4: Appending to a File\n",
    "\n",
    "Write a function that appends a given string to the end of a file named `log.txt`."
   ]
  },
  {
   "cell_type": "code",
   "execution_count": 6,
   "id": "da154417",
   "metadata": {},
   "outputs": [],
   "source": [
    "def append_to_file(filename, text):\n",
    "    with open(filename , mode='a') as file:\n",
    "        file.write(text + '\\n')\n",
    "\n",
    "# Function call.\n",
    "\n",
    "append_to_file('log.txt', 'This is a new log entry.')"
   ]
  },
  {
   "cell_type": "markdown",
   "metadata": {},
   "source": [
    "### Assignment 5: Counting Words in a File\n",
    "\n",
    "Write a function that reads the contents of a file named `document.txt` and returns the number of words in the file."
   ]
  },
  {
   "cell_type": "code",
   "execution_count": 7,
   "id": "06a1da75",
   "metadata": {},
   "outputs": [
    {
     "data": {
      "text/plain": [
       "7"
      ]
     },
     "execution_count": 7,
     "metadata": {},
     "output_type": "execute_result"
    }
   ],
   "source": [
    "def word_count(filename):\n",
    "    with open(filename, mode='w') as file:\n",
    "        file.write('Hello this specifed file is a document.txt')\n",
    "    with open(filename, mode='r') as file:\n",
    "        text = file.read()\n",
    "        words = text.split()\n",
    "        return len(words)\n",
    "\n",
    "word_count('document.txt')"
   ]
  },
  {
   "cell_type": "markdown",
   "metadata": {},
   "source": [
    "### Assignment 6: Finding and Replacing Text\n",
    "\n",
    "Write a function that finds and replaces all occurrences of a given word in a file named `data.txt` with another word."
   ]
  },
  {
   "cell_type": "code",
   "execution_count": 11,
   "id": "7fc4e5da",
   "metadata": {},
   "outputs": [],
   "source": [
    "def find_and_replace(filename, old_word, new_word):\n",
    "    with open(filename, mode='w') as file:\n",
    "        file.writelines(['ML \\n','DL \\n','Gen AI \\n','HPC \\n'])\n",
    "    with open(filename, mode='r') as file:\n",
    "        text = file.read()\n",
    "    new_text = text.replace(old_word, new_word)\n",
    "    with open(filename, mode='w') as file:\n",
    "        file.write(new_text)\n",
    "\n",
    "# Function calling.\n",
    "\n",
    "find_and_replace('data.txt','HPC','Accelerated Computing')\n"
   ]
  },
  {
   "cell_type": "markdown",
   "metadata": {},
   "source": [
    "### Assignment 7: Reading a File in Reverse\n",
    "\n",
    "Write a function that reads the contents of a file named `reverse.txt` and prints each line in reverse order."
   ]
  },
  {
   "cell_type": "code",
   "execution_count": 20,
   "id": "9fabf4af",
   "metadata": {},
   "outputs": [
    {
     "name": "stdout",
     "output_type": "stream",
     "text": [
      "This is a file created to read reverse.\n",
      "hello world\n"
     ]
    }
   ],
   "source": [
    "def read_reverse(filename):\n",
    "    with open(filename, mode ='w') as file:\n",
    "        file.write('hello world \\n')\n",
    "        file.write('This is a file created to read reverse.')\n",
    "    with open(filename, mode ='r') as file:\n",
    "        lines = file.readlines()\n",
    "    for line in reversed(lines):\n",
    "        print(line.strip())\n",
    "\n",
    "        \n",
    "read_reverse('reverse.txt')\n"
   ]
  },
  {
   "cell_type": "markdown",
   "metadata": {},
   "source": [
    "### Assignment 8: Counting Lines, Words, and Characters\n",
    "\n",
    "Write a function that reads the contents of a file named `stats.txt` and returns the number of lines, words, and characters in the file."
   ]
  },
  {
   "cell_type": "code",
   "execution_count": 7,
   "id": "cc59d712",
   "metadata": {},
   "outputs": [
    {
     "data": {
      "text/plain": [
       "(3, 39, 199)"
      ]
     },
     "execution_count": 7,
     "metadata": {},
     "output_type": "execute_result"
    }
   ],
   "source": [
    "def count_lwc(filename):\n",
    "\n",
    "    with open(filename, mode ='w') as file:\n",
    "        file.write(\"Ai is a simulation of human intelligence.\\n\")\n",
    "        file.write('Ml is a subset of AI which is used to construct a model using stats methods.\\n')\n",
    "        file.write(\"DL is a subset of ML where neural network is used to solve complex ai problems.\\n\")\n",
    "\n",
    "    with open(filename, mode='r') as file:\n",
    "        lines = file.readlines()\n",
    "        line_count = len(lines)\n",
    "        word_count = sum(len(line.split()) for line in lines)\n",
    "        char_count = sum(len(line) for line in lines) \n",
    "\n",
    "    return line_count, word_count, char_count \n",
    "\n",
    "count_lwc('stats.txt')"
   ]
  },
  {
   "cell_type": "markdown",
   "metadata": {},
   "source": [
    "### Assignment 9: Merging Multiple Files\n",
    "\n",
    "Write a function that merges the contents of multiple files into a single file named `merged.txt`."
   ]
  },
  {
   "cell_type": "code",
   "execution_count": 12,
   "id": "4173317c",
   "metadata": {},
   "outputs": [],
   "source": [
    "# Create the input files\n",
    "\n",
    "with open('file1.txt', mode='w') as f1:\n",
    "    f1.write(\"This is a content of file1.\")\n",
    "\n",
    "with open(\"file2.txt\", mode='w') as f2:\n",
    "    f2.write(\"This is a content of file2.\")\n",
    "\n",
    "def merge_files(file_list, output_file):\n",
    "    with open(output_file, mode='w') as outfile:\n",
    "        for fname in file_list:\n",
    "            with open(fname, mode='r') as infile:\n",
    "                outfile.write(infile.read() + '\\n')\n",
    "\n",
    "# Function call.\n",
    "\n",
    "merge_files(['file1.txt','file2.txt'],'merged.txt')                "
   ]
  },
  {
   "cell_type": "markdown",
   "metadata": {},
   "source": [
    "### Assignment 10: Splitting a Large File\n",
    "\n",
    "Write a function that splits a large file named `large.txt` into smaller files of 100 lines each."
   ]
  },
  {
   "cell_type": "code",
   "execution_count": 15,
   "id": "46e6da9d",
   "metadata": {},
   "outputs": [
    {
     "name": "stdout",
     "output_type": "stream",
     "text": [
      "Created: large.txt_part1.txt\n",
      "Created: large.txt_part2.txt\n",
      "Created: large.txt_part3.txt\n"
     ]
    }
   ],
   "source": [
    "def create_sample_file(filename, total_lines):\n",
    "    with open(filename, 'w') as file:\n",
    "        for i in range(1, total_lines + 1):\n",
    "            file.write(f\"This is line {i}\\n\")\n",
    "\n",
    "def split_file(filename, lines_per_file):\n",
    "    with open(filename, 'r') as file:\n",
    "        lines = file.readlines()\n",
    "\n",
    "    for i in range(0, len(lines), lines_per_file):\n",
    "        part_filename = f\"{filename}_part{i // lines_per_file + 1}.txt\"\n",
    "        with open(part_filename, 'w') as part_file:\n",
    "            part_file.writelines(lines[i:i + lines_per_file])\n",
    "        print(f\"Created: {part_filename}\")\n",
    "\n",
    "# Create a sample file with 250 lines\n",
    "create_sample_file('large.txt', 250)\n",
    "\n",
    "# Now split the file into chunks of 100 lines each\n",
    "split_file('large.txt', 100)\n"
   ]
  },
  {
   "cell_type": "markdown",
   "metadata": {},
   "source": [
    "### Assignment 11: Creating a Log File\n",
    "\n",
    "Write a function that creates a log file named `activity.log` and writes log messages with timestamps."
   ]
  },
  {
   "cell_type": "code",
   "execution_count": 7,
   "metadata": {},
   "outputs": [],
   "source": [
    "import datetime\n",
    "\n",
    "def log_message(message, filename='activity.log'):\n",
    "    timestamp = datetime.datetime.now().isoformat()\n",
    "    with open(filename, 'a') as file:\n",
    "        file.write(f'[{timestamp}] {message}\\n')\n",
    "\n",
    "\n",
    "# Test\n",
    "log_message('This is a log message.')"
   ]
  },
  {
   "cell_type": "markdown",
   "metadata": {},
   "source": [
    "### Assignment 12: Binary File Operations\n",
    "\n",
    "Write a function that reads a binary file named `image.bin` and writes its contents to another binary file named `copy_image.bin`."
   ]
  },
  {
   "cell_type": "code",
   "execution_count": 4,
   "metadata": {},
   "outputs": [],
   "source": [
    "data = b'\\x01\\x02\\x03\\x04\\x05'\n",
    "def create_file(filename):\n",
    "    with open(filename, mode='wb') as file:\n",
    "        file.write(data)\n",
    "\n",
    "def copy_binary_file(source, destination):\n",
    "    with open(source, mode='rb') as src:\n",
    "        with open(destination, mode='wb') as dst:\n",
    "            dst.write(src.read())\n",
    "\n",
    "create_file('image.bin')\n",
    "copy_binary_file('image.bin', 'copy_image.bin')"
   ]
  },
  {
   "cell_type": "markdown",
   "metadata": {},
   "source": [
    "### Assignment 13: CSV File Operations\n",
    "\n",
    "Write a function that reads a CSV file named `data.csv` and prints its contents as a list of dictionaries."
   ]
  },
  {
   "cell_type": "code",
   "execution_count": 6,
   "id": "988dbc79",
   "metadata": {},
   "outputs": [
    {
     "name": "stdout",
     "output_type": "stream",
     "text": [
      "[{'Name': 'Anas', 'Age': '23'}, {'Name': 'AI', 'Age': '9'}]\n"
     ]
    }
   ],
   "source": [
    "import csv\n",
    "\n",
    "def write_csv(filename):\n",
    "    with open(filename, mode='w', newline='') as file:\n",
    "        writer = csv.DictWriter(file,fieldnames = ['Name', 'Age'])\n",
    "        writer.writeheader()\n",
    "        writer.writerow({'Name':'Anas','Age':23})\n",
    "        writer.writerow({'Name':'AI','Age':9})\n",
    "\n",
    "def read_csv_as_dicts(filename):\n",
    "    with open(filename, mode='r') as file:\n",
    "        reader = csv.DictReader(file)\n",
    "        return list(reader)\n",
    "\n",
    "write_csv('data.csv')\n",
    "data = read_csv_as_dicts('data.csv')\n",
    "print(data)        "
   ]
  },
  {
   "cell_type": "markdown",
   "metadata": {},
   "source": [
    "### Assignment 14: JSON File Operations\n",
    "\n",
    "Write a function that reads a JSON file named `data.json` and prints its contents as a Python dictionary."
   ]
  },
  {
   "cell_type": "code",
   "execution_count": 2,
   "id": "4cf344ab",
   "metadata": {},
   "outputs": [
    {
     "name": "stdout",
     "output_type": "stream",
     "text": [
      "{'name': 'Alice', 'age': 30, 'skills': ['Python', 'Machine Learning', 'Data Science']}\n"
     ]
    }
   ],
   "source": [
    "import json\n",
    "\n",
    "def write_json(filename):\n",
    "    data = {\n",
    "        \"name\": \"Alice\",\n",
    "        \"age\": 30,\n",
    "        \"skills\": [\"Python\", \"Machine Learning\", \"Data Science\"]\n",
    "    }\n",
    "    with open(filename, 'w') as file:\n",
    "        json.dump(data, file, indent=4)\n",
    "\n",
    "def read_json(filename):\n",
    "    with open(filename, 'r') as file:\n",
    "        data = json.load(file)\n",
    "        return data\n",
    "\n",
    "# Test\n",
    "write_json('data.json')  # Write the file first\n",
    "print(read_json('data.json'))  # Then read and print the content\n"
   ]
  },
  {
   "cell_type": "markdown",
   "metadata": {},
   "source": [
    "### Assignment 15: File Permission Handling\n",
    "\n",
    "Write a function that attempts to read a file named `protected.txt` and handles any permission errors gracefully by printing an error message."
   ]
  },
  {
   "cell_type": "code",
   "execution_count": 5,
   "metadata": {},
   "outputs": [
    {
     "name": "stdout",
     "output_type": "stream",
     "text": [
      "This is a protected file simulation.\n",
      "Access granted for reading.\n"
     ]
    }
   ],
   "source": [
    "def create_file(filename):\n",
    "    with open(filename, mode='w') as file:\n",
    "        file.write('This is a protected file simulation.\\nAccess granted for reading.')\n",
    "\n",
    "def read_protected_file(filename):\n",
    "    try:\n",
    "        with open(filename, 'r') as file:\n",
    "            print(file.read())\n",
    "    except PermissionError as e:\n",
    "        print(f\"Permission error: {e}\")\n",
    "\n",
    "# Test\n",
    "create_file('protected.txt')\n",
    "read_protected_file('protected.txt')"
   ]
  },
  {
   "cell_type": "code",
   "execution_count": null,
   "id": "f8d189d9",
   "metadata": {},
   "outputs": [],
   "source": []
  }
 ],
 "metadata": {
  "kernelspec": {
   "display_name": "Python 3",
   "language": "python",
   "name": "python3"
  },
  "language_info": {
   "codemirror_mode": {
    "name": "ipython",
    "version": 3
   },
   "file_extension": ".py",
   "mimetype": "text/x-python",
   "name": "python",
   "nbconvert_exporter": "python",
   "pygments_lexer": "ipython3",
   "version": "3.12.0"
  }
 },
 "nbformat": 4,
 "nbformat_minor": 5
}
