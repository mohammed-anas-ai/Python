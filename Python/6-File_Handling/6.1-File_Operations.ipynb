{
 "cells": [
  {
   "cell_type": "markdown",
   "id": "7bc7d87a",
   "metadata": {},
   "source": [
    "#### File handling is a crucial part of any programming language, therefore, Python provides in built functions and methods to read from and write to files both text and binary."
   ]
  },
  {
   "cell_type": "code",
   "execution_count": 19,
   "id": "0ae865e6",
   "metadata": {},
   "outputs": [
    {
     "name": "stdout",
     "output_type": "stream",
     "text": [
      "Hello world\n",
      "Append operations taking in place\n",
      "\n",
      "Append operations will take place using a append operation\n",
      "append operation will take place using append operation\n",
      "\n",
      "Append operations will take place using a append operation\n"
     ]
    }
   ],
   "source": [
    "# To read a whole file.\n",
    "\n",
    "with open('example.txt',mode='r',newline='') as file:\n",
    "    reader = file.read()\n",
    "    print(reader.strip())"
   ]
  },
  {
   "cell_type": "code",
   "execution_count": 20,
   "id": "7276fdb9",
   "metadata": {},
   "outputs": [
    {
     "name": "stdout",
     "output_type": "stream",
     "text": [
      "Hello world\n",
      "Append operations taking in place\n",
      "\n",
      "Append operations will take place using a append operation\n",
      "append operation will take place using append operation\n",
      "\n",
      "Append operations will take place using a append operation\n"
     ]
    }
   ],
   "source": [
    "# Read a file line by line.\n",
    "\n",
    "with open('example.txt',mode='r') as file:\n",
    "    for line in file:\n",
    "        print(line.strip())"
   ]
  },
  {
   "cell_type": "code",
   "execution_count": 21,
   "id": "23198be0",
   "metadata": {},
   "outputs": [],
   "source": [
    "# Writing a file (Truncating | Overwriting)\n",
    "\n",
    "with open('example.txt',mode='w') as file:\n",
    "    file.write('Hello world')\n",
    "    file.write('\\nAppend operations taking in place\\n')\n"
   ]
  },
  {
   "cell_type": "code",
   "execution_count": 22,
   "id": "0624b047",
   "metadata": {},
   "outputs": [
    {
     "name": "stdout",
     "output_type": "stream",
     "text": [
      "Hello world\n",
      "Append operations taking in place\n"
     ]
    }
   ],
   "source": [
    "with open('example.txt',mode='r') as file:\n",
    "    reader = file.read()\n",
    "    print(reader.strip())"
   ]
  },
  {
   "cell_type": "code",
   "execution_count": 8,
   "id": "948fc5e4",
   "metadata": {},
   "outputs": [],
   "source": [
    "# Writing a file without truncating.\n",
    "\n",
    "with open('example.txt',mode='a') as file:\n",
    "    file.write('append operation will take place using append operation\\n')"
   ]
  },
  {
   "cell_type": "code",
   "execution_count": 9,
   "id": "aa0866f6",
   "metadata": {},
   "outputs": [
    {
     "name": "stdout",
     "output_type": "stream",
     "text": [
      "Hello world Dynamo\n",
      "Python is a great general purpose programming language.\n",
      "Dynamo is a distributed inferencing framework\n",
      "Dynamo is a distributed inferencing framework\n",
      "Dynamo is a distributed inferencing framework\n",
      "Dynamo is a distributed inferencing framework\n",
      "append operation will take place using append operation\n"
     ]
    }
   ],
   "source": [
    "with open('example.txt','r') as file:\n",
    "    for line in file:\n",
    "        print(line.strip())"
   ]
  },
  {
   "cell_type": "code",
   "execution_count": 44,
   "id": "a1e41aaa",
   "metadata": {},
   "outputs": [],
   "source": [
    "# Writing a list of lines to a file.\n",
    "\n",
    "lines = ['First line \\n','second line \\n','third line \\n']\n",
    "\n",
    "with open('example.txt',mode='a') as file:\n",
    "    file.writelines(lines)"
   ]
  },
  {
   "cell_type": "code",
   "execution_count": 45,
   "id": "a1f60a71",
   "metadata": {},
   "outputs": [
    {
     "name": "stdout",
     "output_type": "stream",
     "text": [
      "Hello world\n",
      "Append operations taking in place\n",
      "\n",
      "append operation will take place using append operation\n",
      "append operation will take place using append operation\n",
      "First line\n",
      "second line\n",
      "third line\n"
     ]
    }
   ],
   "source": [
    "with open('example.txt','r') as file:\n",
    "    for line in file:\n",
    "        print(line.strip())"
   ]
  },
  {
   "cell_type": "code",
   "execution_count": 5,
   "id": "fb343acd",
   "metadata": {},
   "outputs": [],
   "source": [
    "# Binary File.\n",
    "# Writing to a binary file.\n",
    "\n",
    "data = b'\\x01\\x02\\x03\\x04'\n",
    "with open('example.bin',mode='wb') as file:\n",
    "    file.write(data)\n",
    "    \n"
   ]
  },
  {
   "cell_type": "code",
   "execution_count": 6,
   "id": "1dc0088f",
   "metadata": {},
   "outputs": [
    {
     "name": "stdout",
     "output_type": "stream",
     "text": [
      "b'\\x01\\x02\\x03\\x04'\n"
     ]
    }
   ],
   "source": [
    "# Reading a binary file.\n",
    "\n",
    "with open('example.bin',mode='rb') as file:\n",
    "    reader = file.read()\n",
    "    print(reader.strip())"
   ]
  },
  {
   "cell_type": "code",
   "execution_count": 10,
   "id": "57ce41f2",
   "metadata": {},
   "outputs": [],
   "source": [
    "# Read the content from a source text file and write to a destination text file.\n",
    "# Copying a text file\n",
    "\n",
    "with open('example.txt',mode='r') as src_file:\n",
    "    reader=src_file.read()\n",
    "\n",
    "with open('destination.txt','w') as dst_file:\n",
    "    dst_file.write(reader)"
   ]
  },
  {
   "cell_type": "code",
   "execution_count": 23,
   "id": "1f671ef0",
   "metadata": {},
   "outputs": [
    {
     "name": "stdout",
     "output_type": "stream",
     "text": [
      "Lines : 10, Words : 49, character : 353\n"
     ]
    }
   ],
   "source": [
    "# Read a text file and count the number of lines, words, and characters.\n",
    "# Counting lines, words, and characters in a text file\n",
    "\n",
    "def count_text_file(file_path):\n",
    "    with open(file_path,mode='r') as file:\n",
    "        lines = file.readlines()\n",
    "        lines_count = len(lines)\n",
    "        word_count = sum(len(line.split()) for line in lines)\n",
    "        character_count = sum(len(line) for line in lines)\n",
    "    return lines_count, word_count, character_count\n",
    "\n",
    "file_path = 'example.txt'\n",
    "lines, words, character = count_text_file(file_path)\n",
    "print(f\"Lines : {lines}, Words : {words}, character : {character}\") "
   ]
  },
  {
   "cell_type": "code",
   "execution_count": 61,
   "id": "0288b1e4",
   "metadata": {},
   "outputs": [],
   "source": [
    "# The w+ mode in Python is used to open a file for both reading and writing. If the file does not exist, it will be created. \n",
    "# If the file exists, its content is truncated (i.e., the file is overwritten)."
   ]
  },
  {
   "cell_type": "code",
   "execution_count": 69,
   "id": "ab2d12a2",
   "metadata": {},
   "outputs": [
    {
     "name": "stdout",
     "output_type": "stream",
     "text": [
      "hello world\n",
      "This is a new line\n",
      "\n"
     ]
    }
   ],
   "source": [
    "# Writing and then reading a file.\n",
    "\n",
    "with open('example.txt',mode='w+') as file:\n",
    "    file.write('hello world\\n')\n",
    "    file.write('This is a new line\\n')\n",
    "\n",
    "    # Move the file cursor to beginning\n",
    "    file.seek(0)\n",
    "\n",
    "    # To read a file.\n",
    "\n",
    "    with open('example.txt','r') as file:\n",
    "        reader = file.read()\n",
    "        print(reader)"
   ]
  },
  {
   "cell_type": "code",
   "execution_count": null,
   "id": "6b549b06",
   "metadata": {},
   "outputs": [],
   "source": []
  }
 ],
 "metadata": {
  "kernelspec": {
   "display_name": "Python 3",
   "language": "python",
   "name": "python3"
  },
  "language_info": {
   "codemirror_mode": {
    "name": "ipython",
    "version": 3
   },
   "file_extension": ".py",
   "mimetype": "text/x-python",
   "name": "python",
   "nbconvert_exporter": "python",
   "pygments_lexer": "ipython3",
   "version": "3.12.0"
  }
 },
 "nbformat": 4,
 "nbformat_minor": 5
}
