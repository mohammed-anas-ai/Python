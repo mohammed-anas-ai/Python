{
 "cells": [
  {
   "cell_type": "markdown",
   "id": "78ee0cd6",
   "metadata": {},
   "source": [
    "#### Python's standard library refers to the vast collections of modules and packages that comes bundled with Python to provide wide range of functionalties."
   ]
  },
  {
   "cell_type": "code",
   "execution_count": 1,
   "id": "da40f4d0",
   "metadata": {},
   "outputs": [
    {
     "name": "stdout",
     "output_type": "stream",
     "text": [
      "(array('i', [1, 2, 3, 4]), <class 'array.array'>)\n"
     ]
    }
   ],
   "source": [
    "# Array\n",
    "\n",
    "import array\n",
    "\n",
    "arr = array.array('i',[1,2,3,4])\n",
    "print((arr,type(arr)))"
   ]
  },
  {
   "cell_type": "code",
   "execution_count": 2,
   "id": "aedd4ab5",
   "metadata": {},
   "outputs": [
    {
     "name": "stdout",
     "output_type": "stream",
     "text": [
      "array('d', [1.0, 2.0, 3.0]) <class 'array.array'>\n"
     ]
    }
   ],
   "source": [
    "arry = array.array('d',[1,2,3,])\n",
    "print((arry),type(arry))"
   ]
  },
  {
   "cell_type": "code",
   "execution_count": 11,
   "id": "6b4abf8d",
   "metadata": {},
   "outputs": [
    {
     "name": "stdout",
     "output_type": "stream",
     "text": [
      "array('f', [11.0, 21.0, 31.0, 41.0]) <class 'array.array'>\n"
     ]
    }
   ],
   "source": [
    "arrys = array.array('f',[11,21,31,41])\n",
    "print((arrys),type(arrys))"
   ]
  },
  {
   "cell_type": "code",
   "execution_count": 13,
   "id": "acfc14e5",
   "metadata": {},
   "outputs": [
    {
     "name": "stdout",
     "output_type": "stream",
     "text": [
      "5.0\n",
      "8.306623862918075\n",
      "5\n",
      "120\n",
      "0.1411200080598672\n",
      "3.141592653589793\n",
      "0.7539022543433046\n",
      "14\n",
      "13\n"
     ]
    }
   ],
   "source": [
    "# Math\n",
    "\n",
    "import math\n",
    "\n",
    "print(math.sqrt(25))\n",
    "print(math.sqrt(69))\n",
    "print(math.lcm(5))\n",
    "print(math.factorial(5))\n",
    "print(math.sin(3))\n",
    "print(math.pi)\n",
    "print(math.cos(7))\n",
    "print(math.ceil(13.3))\n",
    "print(math.floor(13.3))"
   ]
  },
  {
   "cell_type": "code",
   "execution_count": 16,
   "id": "33143ebf",
   "metadata": {},
   "outputs": [
    {
     "name": "stdout",
     "output_type": "stream",
     "text": [
      "Guess the number : 64\n"
     ]
    }
   ],
   "source": [
    "# Random\n",
    "\n",
    "import random\n",
    "\n",
    "guess = random.randint(1,100)\n",
    "print(f\"Guess the number : {guess}\")"
   ]
  },
  {
   "cell_type": "code",
   "execution_count": 15,
   "id": "bbff07c7",
   "metadata": {},
   "outputs": [
    {
     "name": "stdout",
     "output_type": "stream",
     "text": [
      "Random choice : nissan gtr\n"
     ]
    }
   ],
   "source": [
    "car_choice = random.choice(['nissan gtr','lamborghini avendator','mclaren spyder'])\n",
    "print(f\"Random choice : {car_choice}\")"
   ]
  },
  {
   "cell_type": "code",
   "execution_count": 18,
   "id": "4e4c1e9a",
   "metadata": {},
   "outputs": [
    {
     "name": "stdout",
     "output_type": "stream",
     "text": [
      "c:\\Users\\ma\\AI_ML_DL_NLP_BootCamp\\AI_Project\\5-Modules\n"
     ]
    }
   ],
   "source": [
    "# File and directory access/management.\n",
    "\n",
    "import os\n",
    "print(os.getcwd()) # Obtain current working directory."
   ]
  },
  {
   "cell_type": "code",
   "execution_count": 19,
   "id": "370e38b1",
   "metadata": {},
   "outputs": [],
   "source": [
    "os.mkdir('sample_test')"
   ]
  },
  {
   "cell_type": "code",
   "execution_count": 20,
   "id": "ec6f1660",
   "metadata": {},
   "outputs": [],
   "source": [
    "os.rmdir('sample_test')"
   ]
  },
  {
   "cell_type": "code",
   "execution_count": 19,
   "id": "54160b69",
   "metadata": {},
   "outputs": [],
   "source": [
    "with open('test_file.txt',mode='w') as file:\n",
    "    pass"
   ]
  },
  {
   "cell_type": "code",
   "execution_count": 22,
   "id": "66b55075",
   "metadata": {},
   "outputs": [],
   "source": [
    "import os.path\n",
    "\n",
    "# create a file using os.open low level approach.\n",
    "\n",
    "fd = os.open('sample_file.txt',os.O_CREAT | os.O_WRONLY)\n",
    "\n",
    "# Write to the file\n",
    "os.write(fd,b'Hello World')\n",
    "\n",
    "# Close the file\n",
    "os.close(fd)"
   ]
  },
  {
   "cell_type": "code",
   "execution_count": 23,
   "id": "ebb06cf8",
   "metadata": {},
   "outputs": [
    {
     "data": {
      "text/plain": [
       "'destination.txt'"
      ]
     },
     "execution_count": 23,
     "metadata": {},
     "output_type": "execute_result"
    }
   ],
   "source": [
    "# High level operation on files and collections of files.\n",
    "\n",
    "import shutil\n",
    "\n",
    "shutil.copyfile('source.txt','destination.txt')"
   ]
  },
  {
   "cell_type": "code",
   "execution_count": 26,
   "id": "42561577",
   "metadata": {},
   "outputs": [
    {
     "name": "stdout",
     "output_type": "stream",
     "text": [
      "{\"name\": \"anas\", \"designation\": \"data scientist\"} <class 'str'>\n",
      "{'name': 'anas', 'designation': 'data scientist'} <class 'dict'>\n"
     ]
    }
   ],
   "source": [
    "# Data serialization\n",
    "\n",
    "import json\n",
    "\n",
    "data = {'name':'anas','designation':'data scientist'}\n",
    "\n",
    "json_str = json.dumps(data)\n",
    "print((json_str),type(json_str))\n",
    "\n",
    "parsed_data = json.loads(json_str)\n",
    "print((parsed_data),type((parsed_data)))"
   ]
  },
  {
   "cell_type": "code",
   "execution_count": 29,
   "id": "9b83995e",
   "metadata": {},
   "outputs": [
    {
     "name": "stdout",
     "output_type": "stream",
     "text": [
      "['name', 'age']\n",
      "['anas', '23']\n"
     ]
    }
   ],
   "source": [
    "# CSV \n",
    "\n",
    "import csv\n",
    "\n",
    "with open('example.txt',mode='w',newline='') as file:\n",
    "    writer = csv.writer(file)\n",
    "    writer.writerow(['name','age'])\n",
    "    writer.writerow(['anas',23])\n",
    "\n",
    "with open('example.txt',mode='r') as file:\n",
    "    reader = csv.reader(file)\n",
    "    for row in reader:\n",
    "        print(row)"
   ]
  },
  {
   "cell_type": "code",
   "execution_count": 42,
   "id": "9b6fb894",
   "metadata": {},
   "outputs": [
    {
     "name": "stdout",
     "output_type": "stream",
     "text": [
      "Present Date : 2025-08-06 16:16:10.421612\n",
      "Past Date : 2025-08-05 16:16:10.421612\n"
     ]
    }
   ],
   "source": [
    "# datetime\n",
    "\n",
    "from datetime import datetime,timedelta\n",
    "\n",
    "now = datetime.now()\n",
    "print(f\"Present Date : {now}\")\n",
    "\n",
    "yesterday = now - timedelta(days=1)\n",
    "print(f\"Past Date : {yesterday}\")"
   ]
  },
  {
   "cell_type": "code",
   "execution_count": 47,
   "id": "7cb27f45",
   "metadata": {},
   "outputs": [
    {
     "name": "stdout",
     "output_type": "stream",
     "text": [
      "Present date : 2025-08-06 16:18:02.109644\n",
      "The past date : 2025-08-04 16:18:02.109644\n"
     ]
    }
   ],
   "source": [
    "from datetime import datetime, timedelta\n",
    "\n",
    "now = datetime.now()\n",
    "print(f\"Present date : {now}\")\n",
    "\n",
    "yesterday = now - timedelta(days=2)\n",
    "print(f\"The past date : {yesterday}\")"
   ]
  },
  {
   "cell_type": "code",
   "execution_count": 37,
   "id": "105aafe3",
   "metadata": {},
   "outputs": [
    {
     "name": "stdout",
     "output_type": "stream",
     "text": [
      "1750765385.3864393\n",
      "1750765392.3881218\n"
     ]
    }
   ],
   "source": [
    "import time\n",
    "print(time.time())\n",
    "time.sleep(7)\n",
    "print(time.time())"
   ]
  },
  {
   "cell_type": "code",
   "execution_count": 42,
   "id": "ae98b128",
   "metadata": {},
   "outputs": [
    {
     "name": "stdout",
     "output_type": "stream",
     "text": [
      "3\n"
     ]
    }
   ],
   "source": [
    "# Regular Expression\n",
    "\n",
    "import re\n",
    "\n",
    "pattern = r'\\d+'\n",
    "text = 'There were 3 persian cats in the car.'\n",
    "match = re.search(pattern,text)\n",
    "print(match.group())"
   ]
  },
  {
   "cell_type": "code",
   "execution_count": null,
   "id": "c318d158",
   "metadata": {},
   "outputs": [],
   "source": []
  }
 ],
 "metadata": {
  "kernelspec": {
   "display_name": "Python 3",
   "language": "python",
   "name": "python3"
  },
  "language_info": {
   "codemirror_mode": {
    "name": "ipython",
    "version": 3
   },
   "file_extension": ".py",
   "mimetype": "text/x-python",
   "name": "python",
   "nbconvert_exporter": "python",
   "pygments_lexer": "ipython3",
   "version": "3.12.0"
  }
 },
 "nbformat": 4,
 "nbformat_minor": 5
}
