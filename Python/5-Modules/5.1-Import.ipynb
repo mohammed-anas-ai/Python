{
 "cells": [
  {
   "cell_type": "markdown",
   "id": "670ef73f",
   "metadata": {},
   "source": [
    "##### Importing Modules in Python: Modules and Packages\n",
    "In Python, modules and packages help organize and reuse of the code.\n"
   ]
  },
  {
   "cell_type": "markdown",
   "id": "16d62aab",
   "metadata": {},
   "source": [
    "#### 1- Modules are a single py file containing the functions.\n"
   ]
  },
  {
   "cell_type": "markdown",
   "id": "c5ced25e",
   "metadata": {},
   "source": [
    "#### 2- Packages are a collection of modules to provide  wide range of functionality."
   ]
  },
  {
   "cell_type": "code",
   "execution_count": 5,
   "id": "5d25dbfb",
   "metadata": {},
   "outputs": [
    {
     "name": "stdout",
     "output_type": "stream",
     "text": [
      "4.0\n",
      "3.141592653589793\n"
     ]
    }
   ],
   "source": [
    "import math\n",
    "\n",
    "print(math.sqrt(16))\n",
    "print(math.pi)"
   ]
  },
  {
   "cell_type": "code",
   "execution_count": 6,
   "id": "1b71a1f7",
   "metadata": {},
   "outputs": [
    {
     "name": "stdout",
     "output_type": "stream",
     "text": [
      "4.0\n",
      "8\n",
      "7\n",
      "3.141592653589793\n"
     ]
    }
   ],
   "source": [
    "import math\n",
    "print(math.sqrt(16))\n",
    "print(math.ceil(7.6))\n",
    "print(math.floor(7.8))\n",
    "print(math.pi)"
   ]
  },
  {
   "cell_type": "code",
   "execution_count": 19,
   "id": "5eee16ea",
   "metadata": {},
   "outputs": [
    {
     "name": "stdout",
     "output_type": "stream",
     "text": [
      "16\n",
      "15\n"
     ]
    }
   ],
   "source": [
    "from math import *\n",
    "\n",
    "print(math.ceil(15.2))\n",
    "print(math.floor(15.2))"
   ]
  },
  {
   "cell_type": "code",
   "execution_count": 20,
   "id": "54d98fd1",
   "metadata": {},
   "outputs": [
    {
     "name": "stdout",
     "output_type": "stream",
     "text": [
      "[[1 2]\n",
      " [3 4]] <class 'numpy.ndarray'>\n"
     ]
    }
   ],
   "source": [
    "import numpy as np\n",
    "\n",
    "arry = np.array([[1,2],[3,4]])\n",
    "print((arry),type(arry))"
   ]
  },
  {
   "cell_type": "code",
   "execution_count": 21,
   "id": "91943702",
   "metadata": {},
   "outputs": [
    {
     "data": {
      "text/plain": [
       "2"
      ]
     },
     "execution_count": 21,
     "metadata": {},
     "output_type": "execute_result"
    }
   ],
   "source": [
    "arry.ndim"
   ]
  },
  {
   "cell_type": "code",
   "execution_count": 12,
   "id": "5e899dff",
   "metadata": {},
   "outputs": [
    {
     "name": "stdout",
     "output_type": "stream",
     "text": [
      "The result is 6.0\n"
     ]
    }
   ],
   "source": [
    "from packages.calculator import calc\n",
    "\n",
    "print(f\"The result is {calc()}\")"
   ]
  },
  {
   "cell_type": "code",
   "execution_count": 5,
   "id": "1ba45c39",
   "metadata": {},
   "outputs": [
    {
     "name": "stdout",
     "output_type": "stream",
     "text": [
      "21\n"
     ]
    }
   ],
   "source": [
    "from packages.subpackages.maths import addition\n",
    "\n",
    "print(addition(1,2,3,4,5,6))"
   ]
  },
  {
   "cell_type": "code",
   "execution_count": null,
   "id": "412be115",
   "metadata": {},
   "outputs": [],
   "source": []
  }
 ],
 "metadata": {
  "kernelspec": {
   "display_name": "Python 3",
   "language": "python",
   "name": "python3"
  },
  "language_info": {
   "codemirror_mode": {
    "name": "ipython",
    "version": 3
   },
   "file_extension": ".py",
   "mimetype": "text/x-python",
   "name": "python",
   "nbconvert_exporter": "python",
   "pygments_lexer": "ipython3",
   "version": "3.12.0"
  }
 },
 "nbformat": 4,
 "nbformat_minor": 5
}
