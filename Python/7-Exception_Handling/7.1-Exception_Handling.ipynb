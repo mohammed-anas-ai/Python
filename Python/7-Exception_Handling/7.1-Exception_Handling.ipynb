{
 "cells": [
  {
   "cell_type": "markdown",
   "id": "94ac97a2",
   "metadata": {},
   "source": [
    "#### Exception handling refers to handle the erros gracefully and take corrective actions without stopping the execution of the program."
   ]
  },
  {
   "cell_type": "markdown",
   "id": "aab2a9a6",
   "metadata": {},
   "source": [
    "##### What Are Exceptions?\n",
    "Exceptions are events that disrupt the normal flow of a program. They occur when an error is encountered during program execution. Common exceptions include:\n",
    "\n",
    "- ZeroDivisionError: Dividing by zero.\n",
    "- FileNotFoundError: File not found.\n",
    "- ValueError: Invalid value.\n",
    "- TypeError: Invalid type."
   ]
  },
  {
   "cell_type": "code",
   "execution_count": 2,
   "id": "85149f4a",
   "metadata": {},
   "outputs": [
    {
     "name": "stdout",
     "output_type": "stream",
     "text": [
      "The variable is not defined\n"
     ]
    }
   ],
   "source": [
    "# Try and Except block.\n",
    "\n",
    "try:\n",
    "    a = b\n",
    "except:\n",
    "    print(\"The variable is not defined\")    "
   ]
  },
  {
   "cell_type": "code",
   "execution_count": 3,
   "id": "7e23757f",
   "metadata": {},
   "outputs": [
    {
     "name": "stdout",
     "output_type": "stream",
     "text": [
      "name 'b' is not defined\n"
     ]
    }
   ],
   "source": [
    "try:\n",
    "    a = b\n",
    "except NameError as e:\n",
    "    print(e)    "
   ]
  },
  {
   "cell_type": "code",
   "execution_count": 4,
   "id": "147da73b",
   "metadata": {},
   "outputs": [
    {
     "name": "stdout",
     "output_type": "stream",
     "text": [
      "division by zero\n"
     ]
    }
   ],
   "source": [
    "try:\n",
    "    result = 3/0\n",
    "except ZeroDivisionError as d:\n",
    "    print(d)    "
   ]
  },
  {
   "cell_type": "code",
   "execution_count": null,
   "id": "0751f0c9",
   "metadata": {},
   "outputs": [
    {
     "name": "stdout",
     "output_type": "stream",
     "text": [
      "division by zero\n",
      "Please enter the dinominator greater than zero.\n"
     ]
    }
   ],
   "source": [
    "try:\n",
    "    result = 3/0\n",
    "except ZeroDivisionError as d:\n",
    "    print(d)    \n",
    "    print(\"Please enter the denominator greater than zero.\")"
   ]
  },
  {
   "cell_type": "code",
   "execution_count": 7,
   "id": "0445ebc1",
   "metadata": {},
   "outputs": [
    {
     "name": "stdout",
     "output_type": "stream",
     "text": [
      "name 'b' is not defined\n",
      "Main exception got caught herein in Parent exception class\n"
     ]
    }
   ],
   "source": [
    "try:\n",
    "    result = 2/2\n",
    "    a = b\n",
    "except ZeroDivisionError as d:\n",
    "    print(d)\n",
    "    print(\"Please enter the denominar greater than zero.\")\n",
    "except Exception as ex:\n",
    "    print(ex)       \n",
    "    print(\"Main exception got caught herein in Parent exception class\") "
   ]
  },
  {
   "cell_type": "code",
   "execution_count": 11,
   "id": "cb594f03",
   "metadata": {},
   "outputs": [],
   "source": [
    "try:\n",
    "    num = int(input(\"Enter the number :\"))\n",
    "    result = 4/num\n",
    "except ValueError as v:\n",
    "    print(v)\n",
    "    print(\"Please enter valid integer.\")\n",
    "except ZeroDivisionError as d:\n",
    "    print(d)\n",
    "    print(\"Please enter the denominator greater than zero.\")\n",
    "except Exception as ex:\n",
    "    print(ex)            "
   ]
  },
  {
   "cell_type": "code",
   "execution_count": 11,
   "id": "cafffa3b",
   "metadata": {},
   "outputs": [
    {
     "name": "stdout",
     "output_type": "stream",
     "text": [
      "invalid literal for int() with base 10: '{{'\n",
      "Please enter valid integer.\n"
     ]
    }
   ],
   "source": [
    "try:\n",
    "    num = int(input(\"Enter the number :\"))\n",
    "    result = 4/num\n",
    "    a=b\n",
    "except ValueError as v:\n",
    "    print(v)\n",
    "    print(\"Please enter valid integer.\")\n",
    "except ZeroDivisionError as d:\n",
    "    print(d)\n",
    "    print(\"Please enter the denominator greater than zero.\")\n",
    "except Exception as ex:\n",
    "    print(ex)    "
   ]
  },
  {
   "cell_type": "code",
   "execution_count": 16,
   "id": "6ec77eb3",
   "metadata": {},
   "outputs": [
    {
     "name": "stdout",
     "output_type": "stream",
     "text": [
      "The result is : 2.5\n"
     ]
    }
   ],
   "source": [
    "# try, except and else block.\n",
    "\n",
    "try:\n",
    "    num = int(input(\"Enter the number :\"))\n",
    "    result = 5/num\n",
    "except ZeroDivisionError as d:\n",
    "    print(\"Please enter the denominator greater than zero.\")\n",
    "except Exception as ex:\n",
    "    print(ex)\n",
    "else:\n",
    "    print(f\"The result is : {result}\")            "
   ]
  },
  {
   "cell_type": "code",
   "execution_count": 21,
   "id": "1f92e9c1",
   "metadata": {},
   "outputs": [
    {
     "name": "stdout",
     "output_type": "stream",
     "text": [
      "Please enter the valid integer.\n"
     ]
    }
   ],
   "source": [
    "try:\n",
    "    num = int(input(\"Enter the number :\"))\n",
    "    result = 5/num\n",
    "    a=b\n",
    "except ZeroDivisionError as d:\n",
    "    print(\"Please enter the denominator greater than zero.\")\n",
    "except ValueError:\n",
    "    print(\"Please enter the valid integer.\")    \n",
    "except Exception as ex:\n",
    "    print(ex)\n",
    "else:\n",
    "    print(f\"The result is : {result}\")"
   ]
  },
  {
   "cell_type": "code",
   "execution_count": null,
   "id": "f0cec0cc",
   "metadata": {},
   "outputs": [
    {
     "name": "stdout",
     "output_type": "stream",
     "text": [
      "Enter valid integer :\n",
      "The excecution is complete.\n"
     ]
    }
   ],
   "source": [
    "# Try, Except, Else and Finally block.\n",
    "\n",
    "try:\n",
    "    num1 = int(input(\"Enter the number1 :\"))\n",
    "    num2 = int(input(\"Enter the number2 :\"))\n",
    "    result = num1/num2\n",
    "except ValueError:\n",
    "    print(\"Enter valid integer.\")\n",
    "except ZeroDivisionError:  \n",
    "    print(\"Enter the denominator greater than zero :\")\n",
    "except Exception as ex:\n",
    "    print(ex)\n",
    "else:\n",
    "    print(f\"The result is : {result}\")\n",
    "finally:\n",
    "    print(\"The excecution is complete.\")                  "
   ]
  },
  {
   "cell_type": "code",
   "execution_count": 26,
   "id": "db79969b",
   "metadata": {},
   "outputs": [],
   "source": [
    "# File handling and exception handling\n",
    "\n",
    "def create_file(filename):\n",
    "    with open(filename,mode='w') as file:\n",
    "        file.write(\"Hello World.\\n\")\n",
    "\n",
    "create_file('example1.txt')"
   ]
  },
  {
   "cell_type": "code",
   "execution_count": 29,
   "id": "4d6d8353",
   "metadata": {},
   "outputs": [
    {
     "name": "stdout",
     "output_type": "stream",
     "text": [
      "Hello world \n",
      "\n",
      "The file is closed.\n"
     ]
    }
   ],
   "source": [
    "try:\n",
    "    file = open('example1.txt',mode='r')\n",
    "    reader = file.read()\n",
    "    print(reader)\n",
    "except FileNotFoundError:\n",
    "    print(\"The specifed file does not exist.\")\n",
    "except Exception as ex:\n",
    "    print(ex) \n",
    "finally:\n",
    "    if 'file' in locals() or not file.closed():\n",
    "        file.close()\n",
    "        print(\"The file is closed.\")    "
   ]
  },
  {
   "cell_type": "code",
   "execution_count": 28,
   "id": "a66de8e8",
   "metadata": {},
   "outputs": [
    {
     "name": "stdout",
     "output_type": "stream",
     "text": [
      "name 'b' is not defined\n",
      "File closed\n"
     ]
    }
   ],
   "source": [
    "### File handling and Exception HAndling\n",
    "\n",
    "try:\n",
    "    file=open('example1.txt','r')\n",
    "    content=file.read()\n",
    "    a=b\n",
    "    print(content)\n",
    "\n",
    "except FileNotFoundError :\n",
    "    print(\"The file does not exists\")\n",
    "except Exception as ex:\n",
    "    print(ex)\n",
    "finally:\n",
    "    if 'file' in locals() or not file.closed():\n",
    "        file.close()\n",
    "        print(\"File closed\")"
   ]
  },
  {
   "cell_type": "code",
   "execution_count": 24,
   "id": "de3db9b2",
   "metadata": {},
   "outputs": [],
   "source": [
    "def create_file(filename):\n",
    "    with open(filename,mode='w') as file:\n",
    "        file.write(\"Hello world \\n\")\n",
    "\n",
    "create_file('example1.txt')"
   ]
  },
  {
   "cell_type": "code",
   "execution_count": null,
   "id": "9dec3666",
   "metadata": {},
   "outputs": [],
   "source": []
  }
 ],
 "metadata": {
  "kernelspec": {
   "display_name": "Python 3",
   "language": "python",
   "name": "python3"
  },
  "language_info": {
   "codemirror_mode": {
    "name": "ipython",
    "version": 3
   },
   "file_extension": ".py",
   "mimetype": "text/x-python",
   "name": "python",
   "nbconvert_exporter": "python",
   "pygments_lexer": "ipython3",
   "version": "3.12.0"
  }
 },
 "nbformat": 4,
 "nbformat_minor": 5
}
