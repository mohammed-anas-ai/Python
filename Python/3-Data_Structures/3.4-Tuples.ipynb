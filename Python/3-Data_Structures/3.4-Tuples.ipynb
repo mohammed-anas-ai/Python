{
 "cells": [
  {
   "cell_type": "markdown",
   "id": "163980c6",
   "metadata": {},
   "source": [
    "\n",
    "##### Introduction to Tuples\n",
    "Explanation:\n",
    "\n",
    "Tuples are ordered collections of elements that are immutable.\n",
    "They are similar to lists, but their immutability makes them different."
   ]
  },
  {
   "cell_type": "code",
   "execution_count": 4,
   "id": "28396d7d",
   "metadata": {},
   "outputs": [
    {
     "name": "stdout",
     "output_type": "stream",
     "text": [
      "() <class 'tuple'>\n"
     ]
    }
   ],
   "source": [
    "## Creation of tuples\n",
    "\n",
    "## Empty tuple\n",
    "\n",
    "tup = tuple()\n",
    "print((tup),type(tup))"
   ]
  },
  {
   "cell_type": "code",
   "execution_count": 5,
   "id": "0a701393",
   "metadata": {},
   "outputs": [
    {
     "name": "stdout",
     "output_type": "stream",
     "text": [
      "(1,) <class 'tuple'>\n"
     ]
    }
   ],
   "source": [
    "## Single element tuple\n",
    "\n",
    "\n",
    "tup1 = tuple((1,))\n",
    "print((tup1),type(tup1))"
   ]
  },
  {
   "cell_type": "code",
   "execution_count": 6,
   "id": "e399e268",
   "metadata": {},
   "outputs": [
    {
     "name": "stdout",
     "output_type": "stream",
     "text": [
      "(1, 2, 3, 4, 5, 6) <class 'tuple'>\n"
     ]
    }
   ],
   "source": [
    "## Homogenous tuple\n",
    "\n",
    "Homo_tup = tuple((1,2,3,4,5,6))\n",
    "\n",
    "print((Homo_tup),type(Homo_tup))"
   ]
  },
  {
   "cell_type": "code",
   "execution_count": 7,
   "id": "be5b64ae",
   "metadata": {},
   "outputs": [
    {
     "name": "stdout",
     "output_type": "stream",
     "text": [
      "(([1, 2, 3, 4], {'D': 'anas'}, True, 10, 11), <class 'tuple'>)\n"
     ]
    }
   ],
   "source": [
    "## Hetrogenous tuple\n",
    "\n",
    "Hetro_tuple = tuple(([1,2,3,4],{'D':'anas'},True,10,11))\n",
    "print((Hetro_tuple,type(Hetro_tuple)))"
   ]
  },
  {
   "cell_type": "code",
   "execution_count": 9,
   "id": "ba26d0a7",
   "metadata": {},
   "outputs": [
    {
     "name": "stdout",
     "output_type": "stream",
     "text": [
      "([1, 2, 3, 4], {'D': 'anas'}, True, 10, 11)\n",
      "1\n",
      "7\n",
      "4\n",
      "3\n",
      "dict_items([('D', 'anas')])\n",
      "7\n",
      "2\n"
     ]
    }
   ],
   "source": [
    "## Accessing tuple using the indexing and slicing operations.\n",
    "\n",
    "## Indexing.\n",
    "\n",
    "## Positive Indexing.\n",
    "\n",
    "tup = tuple((1,2,3,4,5,6,7))\n",
    "\n",
    "print(Hetro_tuple)\n",
    "\n",
    "print(tup[0])\n",
    "print(tup[6])\n",
    "print(Hetro_tuple[0][3])\n",
    "print(Hetro_tuple[0][2])\n",
    "print(Hetro_tuple[1].items())\n",
    "\n",
    "## Negative Indexing.\n",
    "\n",
    "print(tup[-1])\n",
    "print(tup[-6])"
   ]
  },
  {
   "cell_type": "code",
   "execution_count": 10,
   "id": "8137ba38",
   "metadata": {},
   "outputs": [
    {
     "name": "stdout",
     "output_type": "stream",
     "text": [
      "(1, 2, 3, 4, 5, 6, 7)\n",
      "([1, 2, 3, 4], {'D': 'anas'}, True, 10, 11)\n"
     ]
    }
   ],
   "source": [
    "## positive Slicing\n",
    "\n",
    "print(tup)\n",
    "print(Hetro_tuple)"
   ]
  },
  {
   "cell_type": "code",
   "execution_count": 11,
   "id": "167d3ab9",
   "metadata": {},
   "outputs": [
    {
     "name": "stdout",
     "output_type": "stream",
     "text": [
      "(1, 2, 3, 4, 5, 6, 7)\n",
      "([1, 2, 3, 4], True, 11)\n",
      "(1, 4, 7)\n",
      "[1, 2, 3, 4]\n"
     ]
    }
   ],
   "source": [
    "print(tup[:])\n",
    "print(Hetro_tuple[::2])\n",
    "print(tup[::3])\n",
    "print(Hetro_tuple[0][:])"
   ]
  },
  {
   "cell_type": "code",
   "execution_count": 12,
   "id": "5850812b",
   "metadata": {},
   "outputs": [
    {
     "name": "stdout",
     "output_type": "stream",
     "text": [
      "(1, 2, 3, 4, 5, 6)\n",
      "(1, 3, 5, 7)\n",
      "([1, 2, 3, 4], {'D': 'anas'}, True, 10, 11)\n",
      "[3]\n",
      "[1, 2]\n"
     ]
    }
   ],
   "source": [
    "## Negative slcicing\n",
    "\n",
    "print(tup[-7:-1])\n",
    "print(tup[-7::2])\n",
    "\n",
    "print(Hetro_tuple[-5:])\n",
    "print(Hetro_tuple[-5][-2:-1])\n",
    "print(Hetro_tuple[-5][-4:-2])"
   ]
  },
  {
   "cell_type": "code",
   "execution_count": 13,
   "id": "0bda7ae9",
   "metadata": {},
   "outputs": [
    {
     "name": "stdout",
     "output_type": "stream",
     "text": [
      "(7, 6, 5, 4, 3, 2, 1)\n",
      "(11, 10, True, {'D': 'anas'}, [1, 2, 3, 4])\n"
     ]
    }
   ],
   "source": [
    "## Reversing the tuple\n",
    "\n",
    "print(tup[::-1])\n",
    "print(Hetro_tuple[::-1])"
   ]
  },
  {
   "cell_type": "code",
   "execution_count": 14,
   "id": "da13afc2",
   "metadata": {},
   "outputs": [
    {
     "name": "stdout",
     "output_type": "stream",
     "text": [
      "<class 'tuple'>\n"
     ]
    },
    {
     "ename": "TypeError",
     "evalue": "'tuple' object does not support item assignment",
     "output_type": "error",
     "traceback": [
      "\u001b[31m---------------------------------------------------------------------------\u001b[39m",
      "\u001b[31mTypeError\u001b[39m                                 Traceback (most recent call last)",
      "\u001b[36mCell\u001b[39m\u001b[36m \u001b[39m\u001b[32mIn[14]\u001b[39m\u001b[32m, line 5\u001b[39m\n\u001b[32m      1\u001b[39m \u001b[38;5;66;03m## Tuple is immutable therefore it doesn't support item assignement.\u001b[39;00m\n\u001b[32m      3\u001b[39m \u001b[38;5;28mprint\u001b[39m(\u001b[38;5;28mtuple\u001b[39m)\n\u001b[32m----> \u001b[39m\u001b[32m5\u001b[39m \u001b[43mtup\u001b[49m\u001b[43m[\u001b[49m\u001b[32;43m0\u001b[39;49m\u001b[43m]\u001b[49m = \u001b[32m11\u001b[39m\n",
      "\u001b[31mTypeError\u001b[39m: 'tuple' object does not support item assignment"
     ]
    }
   ],
   "source": [
    "## Tuple is immutable therefore it doesn't support item assignement.\n",
    "\n",
    "print(tuple)\n",
    "\n",
    "tup[0] = 11"
   ]
  },
  {
   "cell_type": "code",
   "execution_count": 30,
   "id": "99343312",
   "metadata": {},
   "outputs": [],
   "source": [
    "## Deleting the whole tuple using del operator - In technical terms deleting the reference.\n",
    "\n",
    "tup_new = tuple((2,3,4,5))\n",
    "\n",
    "del tup_new"
   ]
  },
  {
   "cell_type": "code",
   "execution_count": 31,
   "id": "8d4f7b71",
   "metadata": {},
   "outputs": [
    {
     "ename": "NameError",
     "evalue": "name 'tup_new' is not defined",
     "output_type": "error",
     "traceback": [
      "\u001b[31m---------------------------------------------------------------------------\u001b[39m",
      "\u001b[31mNameError\u001b[39m                                 Traceback (most recent call last)",
      "\u001b[36mCell\u001b[39m\u001b[36m \u001b[39m\u001b[32mIn[31]\u001b[39m\u001b[32m, line 1\u001b[39m\n\u001b[32m----> \u001b[39m\u001b[32m1\u001b[39m \u001b[43mtup_new\u001b[49m\n",
      "\u001b[31mNameError\u001b[39m: name 'tup_new' is not defined"
     ]
    }
   ],
   "source": [
    "tup_new"
   ]
  },
  {
   "cell_type": "code",
   "execution_count": 34,
   "id": "0afbbebb",
   "metadata": {},
   "outputs": [
    {
     "name": "stdout",
     "output_type": "stream",
     "text": [
      "4\n",
      "1\n"
     ]
    }
   ],
   "source": [
    "## Tuple methods.\n",
    "\n",
    "tup_v1 = tuple((1,2,2,2,2,\"Hello\",\"World\",[11,21,32,43]))\n",
    "\n",
    "print(tup_v1.count(2))\n",
    "\n",
    "print(tup_v1.index(2))"
   ]
  },
  {
   "cell_type": "code",
   "execution_count": 50,
   "id": "65f7742b",
   "metadata": {},
   "outputs": [
    {
     "name": "stdout",
     "output_type": "stream",
     "text": [
      "(1, 2, 3, 4, 5)\n",
      "Length : 5\n",
      "Minimum : 1\n",
      "Maximum : 5\n",
      "Summation : 15\n",
      "Asc_order : [1, 2, 3, 4, 5]\n",
      "Desc_order : [5, 4, 3, 2, 1]\n"
     ]
    }
   ],
   "source": [
    "# len/sum/min/max/sorted\n",
    "\n",
    "t = tuple((1,2,3,4,5))\n",
    "print(t)\n",
    "print('Length :',len(t))\n",
    "print('Minimum :',min(t))\n",
    "print('Maximum :',max(t))\n",
    "print('Summation :',sum(t))\n",
    "print(\"Asc_order :\",sorted(t))\n",
    "print(\"Desc_order :\",sorted(t,reverse=True))"
   ]
  },
  {
   "cell_type": "code",
   "execution_count": 37,
   "id": "760f1a6f",
   "metadata": {},
   "outputs": [
    {
     "data": {
      "text/plain": [
       "[4, 3, 2, 1]"
      ]
     },
     "execution_count": 37,
     "metadata": {},
     "output_type": "execute_result"
    }
   ],
   "source": [
    "# len/sum/min/max/sorted\n",
    "t = (1,2,3,4)\n",
    "len(t)\n",
    "\n",
    "sum(t)\n",
    "\n",
    "min(t)\n",
    "\n",
    "max(t)\n",
    "\n",
    "sorted(t,reverse=True)"
   ]
  },
  {
   "cell_type": "code",
   "execution_count": null,
   "id": "b30d7812",
   "metadata": {},
   "outputs": [],
   "source": [
    "## Difference between Lists and Tuples\n",
    "\n",
    "# Syntax\n",
    "# Mutability\n",
    "# Speed\n",
    "# Memory\n",
    "# Built in functionality\n",
    "# Error prone\n",
    "# Usability"
   ]
  },
  {
   "cell_type": "code",
   "execution_count": 53,
   "id": "32d12d9d",
   "metadata": {},
   "outputs": [
    {
     "name": "stdout",
     "output_type": "stream",
     "text": [
      "List execution time: 26.98533272743225\n",
      "Tuple execution time : 40.495800495147705\n"
     ]
    }
   ],
   "source": [
    "import time\n",
    "\n",
    "L = list(range(100000000))\n",
    "T = tuple(range(100000000))\n",
    "\n",
    "start = time.time()\n",
    "\n",
    "for i in L:\n",
    "    i * 5\n",
    "print(\"List execution time:\", time.time() - start) \n",
    "\n",
    "start = time.time()\n",
    "\n",
    "for i in T:\n",
    "    i * 5\n",
    "print(\"Tuple execution time :\", time.time() - start)    "
   ]
  },
  {
   "cell_type": "code",
   "execution_count": 54,
   "id": "6ffaf25f",
   "metadata": {},
   "outputs": [
    {
     "name": "stdout",
     "output_type": "stream",
     "text": [
      "List size : 8056\n",
      "Tuple size : 8040\n"
     ]
    }
   ],
   "source": [
    "import sys\n",
    "L = list(range(1000))\n",
    "T = tuple(range(1000))\n",
    "\n",
    "print('List size :',sys.getsizeof(L))\n",
    "print(\"Tuple size :\",sys.getsizeof(T))"
   ]
  },
  {
   "cell_type": "code",
   "execution_count": 56,
   "id": "9017663e",
   "metadata": {},
   "outputs": [
    {
     "name": "stdout",
     "output_type": "stream",
     "text": [
      "[1, 2, 3, 4]\n",
      "[1, 2, 3, 4]\n"
     ]
    }
   ],
   "source": [
    "a = list([1,2,3])\n",
    "b = a\n",
    "\n",
    "a.append(4)\n",
    "print(a)\n",
    "print(b)"
   ]
  },
  {
   "cell_type": "code",
   "execution_count": 57,
   "id": "cdeb6137",
   "metadata": {},
   "outputs": [
    {
     "name": "stdout",
     "output_type": "stream",
     "text": [
      "(1, 2, 3, 4)\n",
      "(1, 2, 3)\n"
     ]
    }
   ],
   "source": [
    "a = tuple([1,2,3])\n",
    "b = a\n",
    "\n",
    "a = a + (4,)\n",
    "print(a)\n",
    "print(b)"
   ]
  },
  {
   "cell_type": "code",
   "execution_count": null,
   "id": "9312b66b",
   "metadata": {},
   "outputs": [
    {
     "name": "stdout",
     "output_type": "stream",
     "text": [
      "(1, 2, 3, 4, 5, 6, [1, 2, 3, 4], {'D': 'anas'}, True, 10, 11)\n",
      "(1, 2, 3, 4, 5, 6, 7, 1, 2, 3, 4, 5, 6, 7, 1, 2, 3, 4, 5, 6, 7, 1, 2, 3, 4, 5, 6, 7, 1, 2, 3, 4, 5, 6, 7)\n",
      "hello world\n"
     ]
    }
   ],
   "source": [
    "## Tuple operations.\n",
    "\n",
    "## Arthemtic\n",
    "\n",
    "concat = Homo_tup +  Hetro_tuple\n",
    "\n",
    "print(concat)\n",
    "\n",
    "repetable = tup*5\n",
    "print(repetable)"
   ]
  },
  {
   "cell_type": "code",
   "execution_count": 50,
   "id": "cee35579",
   "metadata": {},
   "outputs": [
    {
     "name": "stdout",
     "output_type": "stream",
     "text": [
      "False\n",
      "True\n",
      "False\n",
      "True\n",
      "False\n",
      "True\n"
     ]
    }
   ],
   "source": [
    "## Comparsion\n",
    "\n",
    "tup_x = tuple((1,2,3,4,5))\n",
    "tup_y = tuple((11,21,33,42))\n",
    "\n",
    "print(tup_x > tup_y)\n",
    "print(tup_x < tup_y)\n",
    "print(tup_x >= tup_y)\n",
    "print(tup_x <= tup_y)\n",
    "print(tup_x == tup_y)\n",
    "print(tup_x != tup_y)"
   ]
  },
  {
   "cell_type": "code",
   "execution_count": 60,
   "id": "c2f45342",
   "metadata": {},
   "outputs": [
    {
     "name": "stdout",
     "output_type": "stream",
     "text": [
      "(11, 21, 33, 42)\n",
      "(1, 2, 3, 4, 5)\n",
      "False\n"
     ]
    }
   ],
   "source": [
    "## Logical\n",
    "\n",
    "tup_x = tuple((1,2,3,4,5))\n",
    "tup_y = tuple((11,21,33,42))\n",
    "\n",
    "print(tup_x and tup_y)\n",
    "print(tup_x or tup_y)\n",
    "print(not tup_x)\n"
   ]
  },
  {
   "cell_type": "code",
   "execution_count": 62,
   "id": "33bcbeb8",
   "metadata": {},
   "outputs": [
    {
     "data": {
      "text/plain": [
       "(1, 2, 3, 4, 5, 6, 7)"
      ]
     },
     "execution_count": 62,
     "metadata": {},
     "output_type": "execute_result"
    }
   ],
   "source": [
    "tup"
   ]
  },
  {
   "cell_type": "code",
   "execution_count": 61,
   "id": "c323218e",
   "metadata": {},
   "outputs": [
    {
     "name": "stdout",
     "output_type": "stream",
     "text": [
      "1\n",
      "2\n",
      "3\n",
      "4\n",
      "5\n",
      "6\n",
      "7\n"
     ]
    }
   ],
   "source": [
    "## Loops\n",
    "\n",
    "for i in tup:\n",
    "    print(i)"
   ]
  },
  {
   "cell_type": "code",
   "execution_count": 66,
   "id": "2d69e2be",
   "metadata": {},
   "outputs": [
    {
     "name": "stdout",
     "output_type": "stream",
     "text": [
      "0 1\n",
      "1 2\n",
      "2 3\n",
      "3 4\n",
      "4 5\n",
      "5 6\n",
      "6 7\n"
     ]
    }
   ],
   "source": [
    "for index,i in enumerate(tup):\n",
    "    print(index,i)"
   ]
  },
  {
   "cell_type": "code",
   "execution_count": 64,
   "id": "3b4ec113",
   "metadata": {},
   "outputs": [
    {
     "name": "stdout",
     "output_type": "stream",
     "text": [
      "[1, 2, 3, 4]\n",
      "{'D': 'anas'}\n",
      "True\n",
      "10\n",
      "11\n"
     ]
    }
   ],
   "source": [
    "for i in Hetro_tuple:\n",
    "    print(i)"
   ]
  },
  {
   "cell_type": "code",
   "execution_count": 63,
   "id": "03953d9a",
   "metadata": {},
   "outputs": [
    {
     "name": "stdout",
     "output_type": "stream",
     "text": [
      "('abc', 3.14, (77+2j))\n"
     ]
    }
   ],
   "source": [
    "## Packing an unpacking tuples\n",
    "\n",
    "## Packing tuples\n",
    "\n",
    "packed_tuple = 'abc',3.14,77+2j\n",
    "print(packed_tuple)"
   ]
  },
  {
   "cell_type": "code",
   "execution_count": 64,
   "id": "21c39d87",
   "metadata": {},
   "outputs": [
    {
     "name": "stdout",
     "output_type": "stream",
     "text": [
      "abc\n",
      "3.14\n",
      "(77+2j)\n"
     ]
    }
   ],
   "source": [
    "## Unpacking tuples\n",
    "\n",
    "x,y,z = packed_tuple\n",
    "\n",
    "print(x)\n",
    "print(y)\n",
    "print(z)"
   ]
  },
  {
   "cell_type": "code",
   "execution_count": 81,
   "id": "52ed15db",
   "metadata": {},
   "outputs": [
    {
     "name": "stdout",
     "output_type": "stream",
     "text": [
      "1 2 7\n",
      "3 4 5 6\n"
     ]
    }
   ],
   "source": [
    "## Unpacking tuple using *\n",
    "\n",
    "numbers = tuple((1,2,3,4,5,6,7))\n",
    "\n",
    "first,second,*extra,third = numbers\n",
    "\n",
    "print((first),(second),(third))\n",
    "print(*extra)"
   ]
  },
  {
   "cell_type": "code",
   "execution_count": 22,
   "id": "a41057ba",
   "metadata": {},
   "outputs": [
    {
     "name": "stdout",
     "output_type": "stream",
     "text": [
      "<class 'tuple'>\n"
     ]
    }
   ],
   "source": [
    "## Nested tuple.\n",
    "nested_tuple = ((1,2,3),(4,5,6),(7,8,9))\n",
    "print(type(nested_tuple))"
   ]
  },
  {
   "cell_type": "code",
   "execution_count": 49,
   "id": "89d8ca99",
   "metadata": {},
   "outputs": [
    {
     "name": "stdout",
     "output_type": "stream",
     "text": [
      "7\n",
      "3\n"
     ]
    }
   ],
   "source": [
    "## access the elements inside a tuple\n",
    "print(nested_tuple[2][0])\n",
    "print(nested_tuple[0][2])"
   ]
  },
  {
   "cell_type": "code",
   "execution_count": 21,
   "id": "395a9c67",
   "metadata": {},
   "outputs": [
    {
     "name": "stdout",
     "output_type": "stream",
     "text": [
      "False\n"
     ]
    }
   ],
   "source": [
    "nested_tuples_new = ((1, 2, 3), (\"a\", \"b\", \"c\"), (True, False))\n",
    "\n",
    "print(nested_tuples_new[2][1])"
   ]
  },
  {
   "cell_type": "code",
   "execution_count": 25,
   "id": "04eadc1e",
   "metadata": {},
   "outputs": [
    {
     "name": "stdout",
     "output_type": "stream",
     "text": [
      "123\n",
      "456\n",
      "789\n"
     ]
    }
   ],
   "source": [
    "## Iterating over nested tuples\n",
    "\n",
    "for sub_tuples in nested_tuple:\n",
    "    for item in sub_tuples:\n",
    "        print(item,end='')\n",
    "    print()    "
   ]
  },
  {
   "cell_type": "code",
   "execution_count": 60,
   "id": "3ccfe50d",
   "metadata": {},
   "outputs": [
    {
     "name": "stdout",
     "output_type": "stream",
     "text": [
      "True\n",
      "False\n"
     ]
    }
   ],
   "source": [
    "## Membership test\n",
    "\n",
    "tup = tuple((1,2,3,4,5,6,7))\n",
    "\n",
    "print(7 in tup)\n",
    "print(1 not in tup)"
   ]
  },
  {
   "cell_type": "code",
   "execution_count": 103,
   "id": "59661e19",
   "metadata": {},
   "outputs": [
    {
     "name": "stdout",
     "output_type": "stream",
     "text": [
      "(1, 4, 9, 16, 25, 36, 49, 64, 81, 100)\n"
     ]
    }
   ],
   "source": [
    "## Create a square of first 10 positive integers.\n",
    "\n",
    "squares = tuple(x**2 for x in range(1,11))\n",
    "print(squares)"
   ]
  },
  {
   "cell_type": "code",
   "execution_count": 104,
   "id": "5ecbfd10",
   "metadata": {},
   "outputs": [
    {
     "name": "stdout",
     "output_type": "stream",
     "text": [
      "(2, 4, 6, 8, 10)\n"
     ]
    }
   ],
   "source": [
    "# Write a program to find the even_numbers from a range using the tuple comprehension.\n",
    "\n",
    "\n",
    "even_numbers = tuple(x for x in range(1,11) if x%2 == 0)\n",
    "print(even_numbers)"
   ]
  },
  {
   "cell_type": "code",
   "execution_count": 58,
   "id": "4a05e15c",
   "metadata": {},
   "outputs": [
    {
     "name": "stdout",
     "output_type": "stream",
     "text": [
      "((1, 'a'), (2, 'b'), (3, 'c'), (4, 'd'), (5, 'e'))\n"
     ]
    }
   ],
   "source": [
    "## Zip function.\n",
    "tup1 = (1,2,3,4,5)\n",
    "tup2 = ('a','b','c','d','e')\n",
    "pair = tuple(zip(tup1, tup2))\n",
    "print(pair)"
   ]
  },
  {
   "cell_type": "code",
   "execution_count": null,
   "id": "ff96c578",
   "metadata": {},
   "outputs": [],
   "source": [
    "# Write a program that:\n",
    "\n",
    "# Takes a list of numbers from the user (comma-separated).\n",
    "\n",
    "# Converts the list into a tuple.\n",
    "\n",
    "# Creates a set from that tuple to remove duplicates.\n",
    "\n",
    "# Prints both the tuple and the set."
   ]
  },
  {
   "cell_type": "code",
   "execution_count": null,
   "id": "3f07cfa9",
   "metadata": {},
   "outputs": [
    {
     "name": "stdout",
     "output_type": "stream",
     "text": [
      "Converted into a tuple : (1, 2, 3, 4, 5, 1, 2)\n",
      "Sets : {1, 2, 3, 4, 5}\n"
     ]
    }
   ],
   "source": [
    "nums = input(\"Enter the numbers seperated by commas :\")\n",
    "tup = tuple(int(x) for x in nums.split(\",\"))\n",
    "print(\"Tuple :\",tup)\n",
    "\n",
    "sets = set(tup)\n",
    "print(\"Sets :\",sets)\n",
    "\n"
   ]
  },
  {
   "cell_type": "code",
   "execution_count": 16,
   "id": "95bf8fa2",
   "metadata": {},
   "outputs": [
    {
     "name": "stdout",
     "output_type": "stream",
     "text": [
      "anas -> Average = 98.67\n",
      "aliza -> Average = 95.33\n",
      "Top Scorer: anas with 98.67\n"
     ]
    }
   ],
   "source": [
    "# Question:\n",
    "# Asks the user how many students they want to enter.\n",
    "\n",
    "# For each student, input the name and marks (comma-separated list of numbers).\n",
    "\n",
    "# Store the data in a dictionary, where:\n",
    "\n",
    "# key = student name\n",
    "\n",
    "# value = list of marks\n",
    "\n",
    "# After all input:\n",
    "\n",
    "# Print each student’s average marks\n",
    "\n",
    "# Print the top scorer’s name and average\n",
    "\n",
    "\n",
    "# Solution:\n",
    "# Step 1: Ask how many students\n",
    "user_std = int(input(\"How many students you want to enter: \"))\n",
    "\n",
    "# Step 2: Create empty dictionary\n",
    "students = {}\n",
    "\n",
    "# Step 3: Loop for each student\n",
    "for _ in range(user_std):\n",
    "    user_name = input(\"Enter student name: \")\n",
    "    user_marks = input(\"Enter the student marks separated by commas: \")\n",
    "    user_marks = [int(x) for x in user_marks.split(\",\")]   # convert to list of ints\n",
    "    \n",
    "    students[user_name] = user_marks   # add to dictionary\n",
    "\n",
    "# Step 4: Print averages and find top scorer\n",
    "top_student = None\n",
    "top_avg = -1\n",
    "\n",
    "for name, marks in students.items():\n",
    "    avg = sum(marks) / len(marks)\n",
    "    print(f\"{name} -> Average = {avg:.2f}\")\n",
    "    \n",
    "    if avg > top_avg:\n",
    "        top_avg = avg\n",
    "        top_student = name\n",
    "\n",
    "print(f\"Top Scorer: {top_student} with {top_avg:.2f}\")\n",
    "   "
   ]
  }
 ],
 "metadata": {
  "kernelspec": {
   "display_name": "Python 3",
   "language": "python",
   "name": "python3"
  },
  "language_info": {
   "codemirror_mode": {
    "name": "ipython",
    "version": 3
   },
   "file_extension": ".py",
   "mimetype": "text/x-python",
   "name": "python",
   "nbconvert_exporter": "python",
   "pygments_lexer": "ipython3",
   "version": "3.12.0"
  }
 },
 "nbformat": 4,
 "nbformat_minor": 5
}
