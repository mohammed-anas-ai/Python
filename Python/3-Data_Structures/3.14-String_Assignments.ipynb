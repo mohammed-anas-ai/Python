{
 "cells": [
  {
   "cell_type": "code",
   "execution_count": 2,
   "id": "e208a52c",
   "metadata": {},
   "outputs": [
    {
     "name": "stdout",
     "output_type": "stream",
     "text": [
      "The length os the string is : 6\n"
     ]
    }
   ],
   "source": [
    "# Find the length of a given string without using the len() function\n",
    "\n",
    "s = input(\"Enter the string :\")\n",
    "counter = 0\n",
    "\n",
    "for i in s:\n",
    "    counter += 1\n",
    "\n",
    "print(\"The length os the string is :\", counter)"
   ]
  },
  {
   "cell_type": "code",
   "execution_count": null,
   "id": "692d9961",
   "metadata": {},
   "outputs": [
    {
     "name": "stdout",
     "output_type": "stream",
     "text": [
      "anas\n"
     ]
    }
   ],
   "source": [
    "# Extract username from a given email. \n",
    "# Eg: if the email is anas@gmail.com \n",
    "# then the username should be anas\n",
    "\n",
    "s = input(\"Enter the string :\")\n",
    "\n",
    "pos = s.index('@')\n",
    "\n",
    "print(s[:pos])"
   ]
  },
  {
   "cell_type": "code",
   "execution_count": null,
   "id": "8b18f496",
   "metadata": {},
   "outputs": [
    {
     "name": "stdout",
     "output_type": "stream",
     "text": [
      "Frequency 1\n"
     ]
    }
   ],
   "source": [
    "# Count the frequency of a particular character in a provided string. \n",
    "# Eg 'hello how are you' is the string, the frequency of h in this string is 2.\n",
    "\n",
    "s = input(\"Enter the string :\")\n",
    "term = input(\"Enter the character for which you would like to search the frequency for ?\")\n",
    "\n",
    "counter = 0\n",
    "\n",
    "for i in s:\n",
    "    if i == term:\n",
    "        counter +=1\n",
    "\n",
    "print(\"Frequency:\", counter)"
   ]
  },
  {
   "cell_type": "code",
   "execution_count": 8,
   "id": "1a89bfb9",
   "metadata": {},
   "outputs": [
    {
     "name": "stdout",
     "output_type": "stream",
     "text": [
      "ana\n"
     ]
    }
   ],
   "source": [
    "# Write a program which can remove a particular character from a string.\n",
    "s = input('Enter the string')\n",
    "term = input('what would like to remove ?')\n",
    "\n",
    "result = ''\n",
    "for i in s:\n",
    "    if i != term:\n",
    "        result += i\n",
    "print(result)        \n"
   ]
  },
  {
   "cell_type": "code",
   "execution_count": 1,
   "id": "f6d3f024",
   "metadata": {},
   "outputs": [
    {
     "name": "stdout",
     "output_type": "stream",
     "text": [
      "String is not a palindrome.\n"
     ]
    }
   ],
   "source": [
    "# Write a program that can check whether a given string is palindrome or not.\n",
    "\n",
    "# Inputs:\n",
    "# racecar\n",
    "# python\n",
    "\n",
    "s = input('Enter the string')\n",
    "s = s.replace(' ','')\n",
    "flag = True\n",
    "for i in range(0, len(s) // 2):\n",
    "    if s[i] != s[len(s) -i - 1]:\n",
    "        flag = False\n",
    "        print(\"String is not a palindrome.\")\n",
    "        break\n",
    "\n",
    "if flag:\n",
    "    print(\"String is palindrome.\")\n",
    "\n",
    "\n",
    "\n",
    "\n"
   ]
  },
  {
   "cell_type": "code",
   "execution_count": 13,
   "id": "45d20435",
   "metadata": {},
   "outputs": [
    {
     "name": "stdout",
     "output_type": "stream",
     "text": [
      "['hello', 'world']\n"
     ]
    }
   ],
   "source": [
    "# Write a program to count the number of words in a string without split()\n",
    "\n",
    "s = input(\"Enter the string :\")\n",
    "L = []\n",
    "temp = ''\n",
    "for i in s:\n",
    "    if i != ' ':\n",
    "        temp += i\n",
    "    else:\n",
    "        L.append(temp)\n",
    "        temp = ''\n",
    "L.append(temp)\n",
    "print(L)            "
   ]
  },
  {
   "cell_type": "code",
   "execution_count": 18,
   "id": "abe3086b",
   "metadata": {},
   "outputs": [
    {
     "name": "stdout",
     "output_type": "stream",
     "text": [
      "Hi How Are You\n"
     ]
    }
   ],
   "source": [
    "# Write a python program to convert a string to title case without using the title()\n",
    "\n",
    "s = input(\"Enter the string :\")\n",
    "L = []\n",
    "for i in s.split():\n",
    "    L.append(i[0].upper() + i[1:].lower())\n",
    "print(\" \".join(L))    "
   ]
  },
  {
   "cell_type": "code",
   "execution_count": 24,
   "id": "49183334",
   "metadata": {},
   "outputs": [
    {
     "name": "stdout",
     "output_type": "stream",
     "text": [
      "111 <class 'str'>\n"
     ]
    }
   ],
   "source": [
    "# Write a program that can convert an integer to string.\n",
    "\n",
    "number = int(input(\"Enter the string :\"))\n",
    "\n",
    "digits = '0123456789'\n",
    "result = ''\n",
    "\n",
    "while number != 0:\n",
    "    result = digits[number%10] + result\n",
    "    number = number // 10\n",
    "\n",
    "print((result), type((result)))    "
   ]
  },
  {
   "cell_type": "code",
   "execution_count": null,
   "id": "0372f7f9",
   "metadata": {},
   "outputs": [],
   "source": []
  }
 ],
 "metadata": {
  "kernelspec": {
   "display_name": "Python 3",
   "language": "python",
   "name": "python3"
  },
  "language_info": {
   "codemirror_mode": {
    "name": "ipython",
    "version": 3
   },
   "file_extension": ".py",
   "mimetype": "text/x-python",
   "name": "python",
   "nbconvert_exporter": "python",
   "pygments_lexer": "ipython3",
   "version": "3.12.0"
  }
 },
 "nbformat": 4,
 "nbformat_minor": 5
}
