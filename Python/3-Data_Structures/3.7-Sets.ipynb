{
 "cells": [
  {
   "cell_type": "markdown",
   "id": "2a4fe0c5",
   "metadata": {},
   "source": [
    "#### Introduction To Sets\n",
    "\n",
    "Sets are a built-in data type in Python used to store collections of unique items. They are unordered, meaning that the elements do not follow a specific order, and they do not allow duplicate elements. Sets are useful for membership tests, eliminating duplicate entries, and performing mathematical set operations like union, intersection, difference, and symmetric difference."
   ]
  },
  {
   "cell_type": "code",
   "execution_count": 54,
   "id": "fe1225ef",
   "metadata": {},
   "outputs": [
    {
     "name": "stdout",
     "output_type": "stream",
     "text": [
      "set() <class 'set'>\n"
     ]
    }
   ],
   "source": [
    "## Creation of set\n",
    "\n",
    "## Empty set\n",
    "\n",
    "sets = set()\n",
    "print((sets),type(sets))"
   ]
  },
  {
   "cell_type": "code",
   "execution_count": 55,
   "id": "166396b1",
   "metadata": {},
   "outputs": [
    {
     "name": "stdout",
     "output_type": "stream",
     "text": [
      "<class 'set'>\n"
     ]
    }
   ],
   "source": [
    "sets = set({})\n",
    "print(type(sets))"
   ]
  },
  {
   "cell_type": "code",
   "execution_count": 56,
   "id": "12e922fa",
   "metadata": {},
   "outputs": [
    {
     "name": "stdout",
     "output_type": "stream",
     "text": [
      "{1, 2, 3, 4}\n"
     ]
    }
   ],
   "source": [
    "sets = set({1,2,3,4,2,True})\n",
    "print(sets)"
   ]
  },
  {
   "cell_type": "code",
   "execution_count": 57,
   "id": "318ba07f",
   "metadata": {},
   "outputs": [
    {
     "name": "stdout",
     "output_type": "stream",
     "text": [
      "{1, 2, 3, 4, 5, 6, 7}\n"
     ]
    }
   ],
   "source": [
    "sets = set([1,2,3,4,5,6,7,2,3])\n",
    "print(sets)"
   ]
  },
  {
   "cell_type": "code",
   "execution_count": 7,
   "id": "d9c1cae6",
   "metadata": {},
   "outputs": [
    {
     "name": "stdout",
     "output_type": "stream",
     "text": [
      "{frozenset({'egg', 'flour', 'milk'}): {'cake': 'pancakes'}}\n"
     ]
    }
   ],
   "source": [
    "cache = {}\n",
    "ingredients = frozenset([\"egg\", \"flour\", \"milk\"])\n",
    "\n",
    "if ingredients in cache:\n",
    "    print(\"Using cached result\")\n",
    "else:\n",
    "    result = {'cake':'pancakes'}\n",
    "    cache[ingredients] = result\n",
    "print(cache)    \n"
   ]
  },
  {
   "cell_type": "code",
   "execution_count": 59,
   "id": "0a6728b9",
   "metadata": {},
   "outputs": [
    {
     "name": "stdout",
     "output_type": "stream",
     "text": [
      "<class 'dict'> {}\n",
      "{frozenset({1, 2, 3}): 4}\n"
     ]
    }
   ],
   "source": [
    "dict = {}\n",
    "print(type(dict),dict)\n",
    "key = frozenset([1,2,3])\n",
    "dict[key] = 4\n",
    "print(dict)\n",
    "\n"
   ]
  },
  {
   "cell_type": "code",
   "execution_count": 60,
   "id": "d4b7b4e8",
   "metadata": {},
   "outputs": [
    {
     "name": "stdout",
     "output_type": "stream",
     "text": [
      "frozenset({'H', 'd', ' ', 'o', 'e', 'l', 'W', 'r'})\n"
     ]
    }
   ],
   "source": [
    "fs = frozenset(\"Hello World\")\n",
    "print(fs)\n",
    "# Output: frozenset({'l', 'h', 'e', 'o'}) – Note: No duplicates\n"
   ]
  },
  {
   "cell_type": "code",
   "execution_count": 61,
   "id": "9fc05628",
   "metadata": {},
   "outputs": [
    {
     "name": "stdout",
     "output_type": "stream",
     "text": [
      "{1, 2, 3, 4, 5, 6}\n",
      "{1, 2, 3, 4, 5, 6, 7}\n"
     ]
    }
   ],
   "source": [
    "## Set Methods.\n",
    "\n",
    "my_set = set({1,2,3,4,5,6})\n",
    "print(my_set)\n",
    "my_set.add(7)\n",
    "print(my_set)\n"
   ]
  },
  {
   "cell_type": "code",
   "execution_count": 32,
   "id": "922fd925",
   "metadata": {},
   "outputs": [
    {
     "data": {
      "text/plain": [
       "[7, 5, 4, 3, 2, 1]"
      ]
     },
     "execution_count": 32,
     "metadata": {},
     "output_type": "execute_result"
    }
   ],
   "source": [
    "# len/sum/min/max/sorted\n",
    "s = {3,1,4,5,2,7}\n",
    "len(s)\n",
    "sum(s)\n",
    "min(s)\n",
    "max(s)\n",
    "sorted(s,reverse=True)"
   ]
  },
  {
   "cell_type": "code",
   "execution_count": 62,
   "id": "ac90aa62",
   "metadata": {},
   "outputs": [
    {
     "name": "stdout",
     "output_type": "stream",
     "text": [
      "{1, 2, 3, 4, 5, 6, 7, 8, 9, 10, 11}\n"
     ]
    }
   ],
   "source": [
    "my_set.update({8,9,10,11})\n",
    "print(my_set)"
   ]
  },
  {
   "cell_type": "code",
   "execution_count": 63,
   "id": "4fc42821",
   "metadata": {},
   "outputs": [
    {
     "name": "stdout",
     "output_type": "stream",
     "text": [
      "{1, 2, 3, 4, 5, 6, 7, 8}\n"
     ]
    }
   ],
   "source": [
    "sets1 = {1,2,3,4}\n",
    "sets2 = {5,6,7,8}\n",
    "\n",
    "sets1.update(sets2)\n",
    "print(sets1)"
   ]
  },
  {
   "cell_type": "code",
   "execution_count": 64,
   "id": "743b2e02",
   "metadata": {},
   "outputs": [
    {
     "name": "stdout",
     "output_type": "stream",
     "text": [
      "{1, 2, 3, 4, 5, 6, 7, 8, 9, 11}\n"
     ]
    }
   ],
   "source": [
    "my_set.remove(10)\n",
    "print(my_set)"
   ]
  },
  {
   "cell_type": "code",
   "execution_count": 65,
   "id": "0def71d2",
   "metadata": {},
   "outputs": [
    {
     "name": "stdout",
     "output_type": "stream",
     "text": [
      "{2, 3, 4, 5, 6, 7, 8, 9, 11}\n"
     ]
    }
   ],
   "source": [
    "## Removes the first element\n",
    "my_set.pop()\n",
    "print(my_set)"
   ]
  },
  {
   "cell_type": "code",
   "execution_count": 66,
   "id": "588be8a0",
   "metadata": {},
   "outputs": [
    {
     "name": "stdout",
     "output_type": "stream",
     "text": [
      "{3, 4, 5, 6, 7, 8, 9, 11}\n"
     ]
    }
   ],
   "source": [
    "my_set.pop()\n",
    "print(my_set)"
   ]
  },
  {
   "cell_type": "code",
   "execution_count": 67,
   "id": "489cfd9d",
   "metadata": {},
   "outputs": [
    {
     "name": "stdout",
     "output_type": "stream",
     "text": [
      "{3, 4, 5, 6, 7, 8, 9, 11}\n"
     ]
    }
   ],
   "source": [
    "my_set.discard(10)\n",
    "print(my_set)"
   ]
  },
  {
   "cell_type": "code",
   "execution_count": 68,
   "id": "2d24f9ba",
   "metadata": {},
   "outputs": [
    {
     "name": "stdout",
     "output_type": "stream",
     "text": [
      "{3, 4, 5, 6, 7, 8, 9, 11}\n"
     ]
    }
   ],
   "source": [
    "\n",
    "## Discard is useful method it would remove the element if it is a part of set else will not throw error.\n",
    "my_set.discard(20)\n",
    "print(my_set)"
   ]
  },
  {
   "cell_type": "code",
   "execution_count": 69,
   "id": "eb021d5f",
   "metadata": {},
   "outputs": [
    {
     "name": "stdout",
     "output_type": "stream",
     "text": [
      "{1, 2, 3}\n",
      "set()\n"
     ]
    }
   ],
   "source": [
    "set_new = set((1,2,3))\n",
    "print(set_new)\n",
    "set_new.clear()\n",
    "print(set_new)"
   ]
  },
  {
   "cell_type": "code",
   "execution_count": 71,
   "id": "29f0774b",
   "metadata": {},
   "outputs": [
    {
     "name": "stdout",
     "output_type": "stream",
     "text": [
      "True\n",
      "False\n",
      "False\n",
      "False\n"
     ]
    }
   ],
   "source": [
    "## Issubset\n",
    "\n",
    "set1 = set({1,2,3,4,5})\n",
    "set2 = set({3,4,5,2,1,11})\n",
    "set3 = set({8,9,10,11,12})\n",
    "set4 = set({7,8,13,14,16})\n",
    "\n",
    "print(set1.issubset(set2))\n",
    "print(set2.issubset(set1))\n",
    "print(set3.issubset(set4))\n",
    "print(set4.issubset(set3))\n"
   ]
  },
  {
   "cell_type": "code",
   "execution_count": null,
   "id": "2719758f",
   "metadata": {},
   "outputs": [
    {
     "name": "stdout",
     "output_type": "stream",
     "text": [
      "False\n",
      "False\n",
      "False\n",
      "False\n"
     ]
    }
   ],
   "source": [
    "## Issuperset\n",
    "\n",
    "print(set1.issuperset(set2))\n",
    "print(set2.issuperset(set1))\n",
    "print(set3.issuperset(set4))\n",
    "print(set4.issuperset(set3))"
   ]
  },
  {
   "cell_type": "code",
   "execution_count": 72,
   "id": "adfe864d",
   "metadata": {},
   "outputs": [],
   "source": [
    "my_set = {1,2,3,4,5,6}"
   ]
  },
  {
   "cell_type": "code",
   "execution_count": 73,
   "id": "030999da",
   "metadata": {},
   "outputs": [
    {
     "name": "stdout",
     "output_type": "stream",
     "text": [
      "{1, 2, 3, 4, 5, 6}\n",
      "True\n",
      "True\n",
      "True\n",
      "False\n"
     ]
    }
   ],
   "source": [
    "## Set membership test\n",
    "\n",
    "print(my_set)\n",
    "\n",
    "print(3 in my_set)\n",
    "print(7 not in my_set)\n",
    "print(1 in my_set)\n",
    "print(6 not in my_set)"
   ]
  },
  {
   "cell_type": "code",
   "execution_count": 12,
   "id": "1075bd8e",
   "metadata": {},
   "outputs": [
    {
     "name": "stdout",
     "output_type": "stream",
     "text": [
      "{1, 2, 3, 4, 5, 6, 7, 8, 9}\n",
      "{4, 5, 6}\n"
     ]
    }
   ],
   "source": [
    "## MAthematical Operation\n",
    "set1={1,2,3,4,5,6}\n",
    "set2={4,5,6,7,8,9}\n",
    "\n",
    "### Union\n",
    "union_set=set1.union(set2)\n",
    "print(union_set)\n",
    "\n",
    "## Intersection\n",
    "intersection_set=set1.intersection(set2)\n",
    "print(intersection_set)\n",
    "\n"
   ]
  },
  {
   "cell_type": "code",
   "execution_count": 13,
   "id": "2f3f96e1",
   "metadata": {},
   "outputs": [
    {
     "name": "stdout",
     "output_type": "stream",
     "text": [
      "{4, 5, 6}\n"
     ]
    }
   ],
   "source": [
    "set1.intersection_update(set2)\n",
    "print(set1)"
   ]
  },
  {
   "cell_type": "code",
   "execution_count": 14,
   "id": "53bd0f14",
   "metadata": {},
   "outputs": [
    {
     "name": "stdout",
     "output_type": "stream",
     "text": [
      "{4, 5, 6}\n"
     ]
    }
   ],
   "source": [
    "set2.intersection_update(set1)\n",
    "print(set2)"
   ]
  },
  {
   "cell_type": "code",
   "execution_count": 15,
   "id": "b0da0505",
   "metadata": {},
   "outputs": [],
   "source": [
    "set1={1,2,3,4,5,6}\n",
    "set2={4,5,6,7,8,9}"
   ]
  },
  {
   "cell_type": "code",
   "execution_count": 16,
   "id": "a1428357",
   "metadata": {},
   "outputs": [
    {
     "name": "stdout",
     "output_type": "stream",
     "text": [
      "{1, 2, 3}\n",
      "{8, 9, 7}\n"
     ]
    }
   ],
   "source": [
    "## Difference\n",
    "\n",
    "print(set1.difference(set2))\n",
    "print(set2.difference(set1))"
   ]
  },
  {
   "cell_type": "code",
   "execution_count": 17,
   "id": "54ea17d5",
   "metadata": {},
   "outputs": [
    {
     "data": {
      "text/plain": [
       "{7, 8, 9}"
      ]
     },
     "execution_count": 17,
     "metadata": {},
     "output_type": "execute_result"
    }
   ],
   "source": [
    "set2.difference(set1)"
   ]
  },
  {
   "cell_type": "code",
   "execution_count": null,
   "id": "7a3a1229",
   "metadata": {},
   "outputs": [
    {
     "name": "stdout",
     "output_type": "stream",
     "text": [
      "{1, 2, 3}\n",
      "{4, 5, 6, 7, 8, 9}\n"
     ]
    }
   ],
   "source": [
    "## Difference update\n",
    "\n",
    "set1.difference_update(set2)\n",
    "print(set1)\n",
    "set2.difference_update(set1)\n",
    "print(set2)"
   ]
  },
  {
   "cell_type": "code",
   "execution_count": null,
   "id": "f451c569",
   "metadata": {},
   "outputs": [],
   "source": [
    "set1={1,2,3,4,5,6}\n",
    "set2={4,5,6,7,8,9}"
   ]
  },
  {
   "cell_type": "code",
   "execution_count": null,
   "id": "743c54c6",
   "metadata": {},
   "outputs": [
    {
     "data": {
      "text/plain": [
       "{1, 2, 3, 7, 8, 9}"
      ]
     },
     "execution_count": 105,
     "metadata": {},
     "output_type": "execute_result"
    }
   ],
   "source": [
    "## Symmetric difference\n",
    "\n",
    "set1.symmetric_difference(set2)"
   ]
  },
  {
   "cell_type": "code",
   "execution_count": null,
   "id": "1eac57f8",
   "metadata": {},
   "outputs": [
    {
     "data": {
      "text/plain": [
       "{1, 2, 3, 7, 8, 9}"
      ]
     },
     "execution_count": 107,
     "metadata": {},
     "output_type": "execute_result"
    }
   ],
   "source": [
    "set2.symmetric_difference(set1)"
   ]
  },
  {
   "cell_type": "code",
   "execution_count": null,
   "id": "4440f897",
   "metadata": {},
   "outputs": [
    {
     "name": "stdout",
     "output_type": "stream",
     "text": [
      "{1, 2, 3, 7, 8, 9}\n"
     ]
    }
   ],
   "source": [
    "## Symmetric difference update\n",
    "set1.symmetric_difference_update(set2)\n",
    "print(set1)\n"
   ]
  },
  {
   "cell_type": "code",
   "execution_count": null,
   "id": "6c9ef045",
   "metadata": {},
   "outputs": [
    {
     "name": "stdout",
     "output_type": "stream",
     "text": [
      "{1, 2, 3, 7, 8, 9}\n"
     ]
    }
   ],
   "source": [
    "set2.symmetric_difference_update(set1)\n",
    "print(set2)"
   ]
  },
  {
   "cell_type": "code",
   "execution_count": null,
   "id": "a47fc6ac",
   "metadata": {},
   "outputs": [
    {
     "name": "stdout",
     "output_type": "stream",
     "text": [
      "{'learning', 'this', 'are', 'chapter', 'in', 'In', 'detail', 'we', 'about', 'sets'}\n",
      "10\n"
     ]
    }
   ],
   "source": [
    "### Counting Unique words in text\n",
    "\n",
    "text=\"In this chapter we are learning about sets in detail\"\n",
    "words=text.split()\n",
    "\n",
    "## Convert collection of words into sets.\n",
    "\n",
    "unique_words = set(words)\n",
    "print(unique_words)\n",
    "print(len(unique_words))"
   ]
  },
  {
   "cell_type": "code",
   "execution_count": null,
   "id": "0c31fcdc",
   "metadata": {},
   "outputs": [],
   "source": [
    "# You have two lists — one of product names and another of their prices. Use zip() to combine them into a list of tuples, and then print each product with its price in the format:\n",
    "# Product: <name>, Price: <price>"
   ]
  },
  {
   "cell_type": "code",
   "execution_count": 23,
   "id": "adbfefe6",
   "metadata": {},
   "outputs": [
    {
     "name": "stdout",
     "output_type": "stream",
     "text": [
      "Product : Laptop, Price : 1200\n",
      "Product : Mouse, Price : 25\n",
      "Product : Keyboard, Price : 45\n",
      "Product : Monitor, Price : 300\n"
     ]
    }
   ],
   "source": [
    "products = [\"Laptop\", \"Mouse\", \"Keyboard\", \"Monitor\"]\n",
    "prices = [1200, 25, 45, 300]\n",
    "\n",
    "product_prices = list(zip(products,prices))\n",
    "product_prices\n",
    "\n",
    "for product,price in product_prices:\n",
    "    print(f\"Product : {product}, Price : {price}\")"
   ]
  },
  {
   "cell_type": "code",
   "execution_count": 25,
   "id": "09bcf5bb",
   "metadata": {},
   "outputs": [
    {
     "name": "stdout",
     "output_type": "stream",
     "text": [
      "[('Laptop', 1200), ('Mouse', 25), ('Keyboard', 45), ('Monitor', 300), ('Charger', 60)]\n",
      "{('Monitor', 300), ('Laptop', 1200)}\n"
     ]
    }
   ],
   "source": [
    "products = [\"Laptop\", \"Mouse\", \"Keyboard\", \"Monitor\", \"Charger\"]\n",
    "prices = [1200, 25, 45, 300, 60]\n",
    "\n",
    "product_prices = list(zip(products,prices))\n",
    "print(product_prices)\n",
    "\n",
    "expensive_items = {(product, prices) for product, prices in product_prices if prices > 100}\n",
    "print(expensive_items)"
   ]
  },
  {
   "cell_type": "code",
   "execution_count": null,
   "id": "78390350",
   "metadata": {},
   "outputs": [],
   "source": [
    "# Unique Student-Subject Pairs"
   ]
  },
  {
   "cell_type": "code",
   "execution_count": 33,
   "id": "32d779f9",
   "metadata": {},
   "outputs": [
    {
     "name": "stdout",
     "output_type": "stream",
     "text": [
      "Unique student-subject pairs:\n",
      "{('Clara', 'Math'), ('David', 'Art'), ('Eva', 'Science'), ('Anna', 'Math'), ('Bob', 'Science'), ('Bob', 'Math')}\n",
      "\n",
      "Unique students:\n",
      "{'Eva', 'Bob', 'Anna', 'Clara', 'David'}\n",
      "\n",
      "Unique subjects:\n",
      "{'Science', 'Math', 'Art'}\n"
     ]
    }
   ],
   "source": [
    "students = [\"Anna\", \"Bob\", \"Clara\", \"David\", \"Eva\", \"Bob\"]\n",
    "subjects = [\"Math\", \"Science\", \"Math\", \"Art\", \"Science\", \"Math\"]\n",
    "\n",
    "# Unique (student, subject) pairs\n",
    "unique_pairs = set(zip(students, subjects))\n",
    "print(\"Unique student-subject pairs:\")\n",
    "print(unique_pairs)\n",
    "\n",
    "# Unique students\n",
    "unique_students = {stu for stu, _ in unique_pairs}\n",
    "print(\"\\nUnique students:\")\n",
    "print(unique_students)\n",
    "\n",
    "# Unique subjects\n",
    "unique_subjects = {sub for _, sub in unique_pairs}\n",
    "print(\"\\nUnique subjects:\")\n",
    "print(unique_subjects)\n",
    "\n"
   ]
  },
  {
   "cell_type": "markdown",
   "id": "ba0911b3",
   "metadata": {},
   "source": [
    "#### Conclusion\n",
    "Sets are a powerful and flexible data type in Python that provide a way to store collections of unique elements. They support various operations such as union, intersection, difference, and symmetric difference, which are useful for mathematical computations. Understanding how to use sets and their associated methods can help you write more efficient and clean Python code, especially when dealing with unique collections and membership tests."
   ]
  },
  {
   "cell_type": "markdown",
   "id": "c3b85140",
   "metadata": {},
   "source": []
  }
 ],
 "metadata": {
  "kernelspec": {
   "display_name": "Python 3",
   "language": "python",
   "name": "python3"
  },
  "language_info": {
   "codemirror_mode": {
    "name": "ipython",
    "version": 3
   },
   "file_extension": ".py",
   "mimetype": "text/x-python",
   "name": "python",
   "nbconvert_exporter": "python",
   "pygments_lexer": "ipython3",
   "version": "3.12.0"
  }
 },
 "nbformat": 4,
 "nbformat_minor": 5
}
