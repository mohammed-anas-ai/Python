{
 "cells": [
  {
   "cell_type": "markdown",
   "id": "2fce9dd5",
   "metadata": {},
   "source": [
    "### Strings are sequence of Characters enclosed with quotes.\n",
    "\n",
    "#### In Python specifically, strings are a sequence of Unicode Characters.\n"
   ]
  },
  {
   "cell_type": "code",
   "execution_count": 2,
   "id": "0a9aaa0d",
   "metadata": {},
   "outputs": [
    {
     "name": "stdout",
     "output_type": "stream",
     "text": [
      "hello world\n",
      "hello world\n",
      "Multi line strings : Hello world\n"
     ]
    }
   ],
   "source": [
    "# Creation of strings.\n",
    "\n",
    "s = 'hello world'\n",
    "print(s)\n",
    "s1 = \"hello world\"\n",
    "print(s)\n",
    "multi_linestr = \"\"\"Hello world\"\"\"\n",
    "print(\"Multi line strings :\", multi_linestr)"
   ]
  },
  {
   "cell_type": "code",
   "execution_count": 4,
   "id": "c5282c09",
   "metadata": {},
   "outputs": [
    {
     "name": "stdout",
     "output_type": "stream",
     "text": [
      "its\"s raining today\n",
      "it's raining today\n"
     ]
    }
   ],
   "source": [
    "# The difference between single and double quotes:\n",
    "\n",
    "s_single = 'its\"s raining today'\n",
    "print(s_single)\n",
    "s_double = \"it's raining today\"\n",
    "print(s_double)"
   ]
  },
  {
   "cell_type": "code",
   "execution_count": 5,
   "id": "c7093ee5",
   "metadata": {},
   "outputs": [
    {
     "name": "stdout",
     "output_type": "stream",
     "text": [
      "y\n",
      "t\n",
      "e\n",
      "o\n"
     ]
    }
   ],
   "source": [
    "# Accessing character from a string using indexing\n",
    "\n",
    "\n",
    "s = \"python is awesome\"\n",
    "\n",
    "# Positive Indexing\n",
    "print(s[1])\n",
    "print(s[2])\n",
    "\n",
    "# Negative Indexing\n",
    "print(s[-1])\n",
    "print(s[-3])"
   ]
  },
  {
   "cell_type": "code",
   "execution_count": 12,
   "id": "00e2a0e4",
   "metadata": {},
   "outputs": [
    {
     "name": "stdout",
     "output_type": "stream",
     "text": [
      "Transformers\n",
      "nsformers\n",
      "Tasomr\n",
      "mer\n",
      "T\n"
     ]
    }
   ],
   "source": [
    "# Accessing substrings from a string using slicing\n",
    "\n",
    "s = \"Transformers\"\n",
    "\n",
    "# Positive slicing\n",
    "\n",
    "print(s[::])\n",
    "print(s[3:])\n",
    "\n",
    "# Step size\n",
    "print(s[::2])\n",
    "\n",
    "# Negative slicing\n",
    "print(s[-4:-1])\n",
    "print(s[-13:-11])"
   ]
  },
  {
   "cell_type": "code",
   "execution_count": 13,
   "id": "1fbec488",
   "metadata": {},
   "outputs": [
    {
     "name": "stdout",
     "output_type": "stream",
     "text": [
      "sremrofsnarT\n"
     ]
    }
   ],
   "source": [
    "# Reversing String\n",
    "\n",
    "print(s[::-1])"
   ]
  },
  {
   "cell_type": "code",
   "execution_count": 15,
   "id": "cddf2a94",
   "metadata": {},
   "outputs": [
    {
     "ename": "TypeError",
     "evalue": "'str' object does not support item deletion",
     "output_type": "error",
     "traceback": [
      "\u001b[31m---------------------------------------------------------------------------\u001b[39m",
      "\u001b[31mTypeError\u001b[39m                                 Traceback (most recent call last)",
      "\u001b[36mCell\u001b[39m\u001b[36m \u001b[39m\u001b[32mIn[15]\u001b[39m\u001b[32m, line 5\u001b[39m\n\u001b[32m      1\u001b[39m \u001b[38;5;66;03m# Strings are Immutable.\u001b[39;00m\n\u001b[32m      2\u001b[39m \n\u001b[32m      3\u001b[39m \u001b[38;5;66;03m# s[0] = 'a'\u001b[39;00m\n\u001b[32m      4\u001b[39m \u001b[38;5;66;03m# print(s)\u001b[39;00m\n\u001b[32m----> \u001b[39m\u001b[32m5\u001b[39m \u001b[38;5;28;01mdel\u001b[39;00m \u001b[43ms\u001b[49m\u001b[43m[\u001b[49m\u001b[32;43m2\u001b[39;49m\u001b[43m:\u001b[49m\u001b[32;43m5\u001b[39;49m\u001b[43m]\u001b[49m\n\u001b[32m      6\u001b[39m \u001b[38;5;28mprint\u001b[39m(s)\n",
      "\u001b[31mTypeError\u001b[39m: 'str' object does not support item deletion"
     ]
    }
   ],
   "source": [
    "# Strings are Immutable therfore it does not support item assignement.\n",
    "\n",
    "s[0] = 'a'\n",
    "print(s)\n",
    "del s[2:5]\n",
    "print(s)"
   ]
  },
  {
   "cell_type": "code",
   "execution_count": 16,
   "id": "190531f3",
   "metadata": {},
   "outputs": [
    {
     "name": "stdout",
     "output_type": "stream",
     "text": [
      "hello\n"
     ]
    },
    {
     "ename": "NameError",
     "evalue": "name 's1' is not defined",
     "output_type": "error",
     "traceback": [
      "\u001b[31m---------------------------------------------------------------------------\u001b[39m",
      "\u001b[31mNameError\u001b[39m                                 Traceback (most recent call last)",
      "\u001b[36mCell\u001b[39m\u001b[36m \u001b[39m\u001b[32mIn[16]\u001b[39m\u001b[32m, line 6\u001b[39m\n\u001b[32m      4\u001b[39m \u001b[38;5;28mprint\u001b[39m(s1)\n\u001b[32m      5\u001b[39m \u001b[38;5;28;01mdel\u001b[39;00m s1\n\u001b[32m----> \u001b[39m\u001b[32m6\u001b[39m \u001b[38;5;28mprint\u001b[39m(\u001b[43ms1\u001b[49m)\n",
      "\u001b[31mNameError\u001b[39m: name 's1' is not defined"
     ]
    }
   ],
   "source": [
    "# You can delete the reference of a full string\n",
    "\n",
    "s1 = 'hello'\n",
    "print(s1)\n",
    "del s1\n",
    "print(s1)\n"
   ]
  },
  {
   "cell_type": "code",
   "execution_count": 17,
   "id": "2cf82d1b",
   "metadata": {},
   "outputs": [],
   "source": [
    "# Operations on Strings\n",
    "\n",
    "# Arithmetic Operations\n",
    "# Relational Operations\n",
    "# Logical Operations\n",
    "# Loops on Strings\n",
    "# Membership Operations"
   ]
  },
  {
   "cell_type": "code",
   "execution_count": 18,
   "id": "8c19f702",
   "metadata": {},
   "outputs": [
    {
     "name": "stdout",
     "output_type": "stream",
     "text": [
      "Linear Regression\n"
     ]
    }
   ],
   "source": [
    "concat = \"Linear\" + ' ' + \"Regression\"\n",
    "print(concat)"
   ]
  },
  {
   "cell_type": "code",
   "execution_count": 22,
   "id": "76d0d62c",
   "metadata": {},
   "outputs": [
    {
     "name": "stdout",
     "output_type": "stream",
     "text": [
      "****************************************************************************************************\n"
     ]
    }
   ],
   "source": [
    "mul = '*' * 100\n",
    "print(mul)"
   ]
  },
  {
   "cell_type": "code",
   "execution_count": 24,
   "id": "ea79222e",
   "metadata": {},
   "outputs": [
    {
     "data": {
      "text/plain": [
       "False"
      ]
     },
     "execution_count": 24,
     "metadata": {},
     "output_type": "execute_result"
    }
   ],
   "source": [
    "# Strings checks lexiographically\n",
    "\n",
    "'tensor' > 'torch'"
   ]
  },
  {
   "cell_type": "code",
   "execution_count": 25,
   "id": "1099f13a",
   "metadata": {},
   "outputs": [
    {
     "data": {
      "text/plain": [
       "True"
      ]
     },
     "execution_count": 25,
     "metadata": {},
     "output_type": "execute_result"
    }
   ],
   "source": [
    "\n",
    "'tensor' < 'torch'"
   ]
  },
  {
   "cell_type": "code",
   "execution_count": 27,
   "id": "bed61b05",
   "metadata": {},
   "outputs": [
    {
     "data": {
      "text/plain": [
       "True"
      ]
     },
     "execution_count": 27,
     "metadata": {},
     "output_type": "execute_result"
    }
   ],
   "source": [
    "\n",
    "'tensor' != 'torch'"
   ]
  },
  {
   "cell_type": "code",
   "execution_count": 28,
   "id": "39aaea3f",
   "metadata": {},
   "outputs": [
    {
     "data": {
      "text/plain": [
       "False"
      ]
     },
     "execution_count": 28,
     "metadata": {},
     "output_type": "execute_result"
    }
   ],
   "source": [
    "'langchain' >= 'langraph'"
   ]
  },
  {
   "cell_type": "code",
   "execution_count": 29,
   "id": "2a302119",
   "metadata": {},
   "outputs": [
    {
     "data": {
      "text/plain": [
       "''"
      ]
     },
     "execution_count": 29,
     "metadata": {},
     "output_type": "execute_result"
    }
   ],
   "source": [
    "'' and 'hello'"
   ]
  },
  {
   "cell_type": "code",
   "execution_count": 30,
   "id": "48ba5baa",
   "metadata": {},
   "outputs": [
    {
     "data": {
      "text/plain": [
       "'world'"
      ]
     },
     "execution_count": 30,
     "metadata": {},
     "output_type": "execute_result"
    }
   ],
   "source": [
    "'hello' and 'world'"
   ]
  },
  {
   "cell_type": "code",
   "execution_count": 31,
   "id": "d3de9c7a",
   "metadata": {},
   "outputs": [
    {
     "data": {
      "text/plain": [
       "'world'"
      ]
     },
     "execution_count": 31,
     "metadata": {},
     "output_type": "execute_result"
    }
   ],
   "source": [
    "'' or 'world'"
   ]
  },
  {
   "cell_type": "code",
   "execution_count": 32,
   "id": "5e5fd675",
   "metadata": {},
   "outputs": [
    {
     "data": {
      "text/plain": [
       "True"
      ]
     },
     "execution_count": 32,
     "metadata": {},
     "output_type": "execute_result"
    }
   ],
   "source": [
    "not ''"
   ]
  },
  {
   "cell_type": "code",
   "execution_count": 33,
   "id": "7d97d2fe",
   "metadata": {},
   "outputs": [
    {
     "data": {
      "text/plain": [
       "False"
      ]
     },
     "execution_count": 33,
     "metadata": {},
     "output_type": "execute_result"
    }
   ],
   "source": [
    "not 'python'"
   ]
  },
  {
   "cell_type": "code",
   "execution_count": 34,
   "id": "41678abf",
   "metadata": {},
   "outputs": [
    {
     "name": "stdout",
     "output_type": "stream",
     "text": [
      "p\n",
      "y\n",
      "t\n",
      "h\n",
      "o\n",
      "n\n"
     ]
    }
   ],
   "source": [
    "for i in 'python':\n",
    "    print(i)"
   ]
  },
  {
   "cell_type": "code",
   "execution_count": 36,
   "id": "07f3cb55",
   "metadata": {},
   "outputs": [
    {
     "name": "stdout",
     "output_type": "stream",
     "text": [
      "0 p\n",
      "1 y\n",
      "2 t\n",
      "3 h\n",
      "4 o\n",
      "5 n\n"
     ]
    }
   ],
   "source": [
    "for index, x in enumerate('python'):\n",
    "    print(index,x)"
   ]
  },
  {
   "cell_type": "code",
   "execution_count": 38,
   "id": "b02c5e34",
   "metadata": {},
   "outputs": [
    {
     "name": "stdout",
     "output_type": "stream",
     "text": [
      "False\n",
      "True\n",
      "False\n"
     ]
    }
   ],
   "source": [
    "print(\"D\" in 'data Structures')\n",
    "print(\"d\" in 'data Structures')\n",
    "print('f' not in 'football')"
   ]
  },
  {
   "cell_type": "code",
   "execution_count": null,
   "id": "e8cf4d1d",
   "metadata": {},
   "outputs": [],
   "source": [
    "#  Methods\n",
    "\n",
    "# len\n",
    "# max\n",
    "# min\n",
    "# sorted"
   ]
  },
  {
   "cell_type": "code",
   "execution_count": 39,
   "id": "5dcbeb6f",
   "metadata": {},
   "outputs": [
    {
     "name": "stdout",
     "output_type": "stream",
     "text": [
      "12\n"
     ]
    }
   ],
   "source": [
    "print(len(s))"
   ]
  },
  {
   "cell_type": "code",
   "execution_count": 41,
   "id": "904dbe20",
   "metadata": {},
   "outputs": [
    {
     "name": "stdout",
     "output_type": "stream",
     "text": [
      "T\n"
     ]
    }
   ],
   "source": [
    "print(min(s))"
   ]
  },
  {
   "cell_type": "code",
   "execution_count": 42,
   "id": "600e1074",
   "metadata": {},
   "outputs": [
    {
     "name": "stdout",
     "output_type": "stream",
     "text": [
      "s\n"
     ]
    }
   ],
   "source": [
    "print(max(s))"
   ]
  },
  {
   "cell_type": "code",
   "execution_count": 43,
   "id": "789cebc0",
   "metadata": {},
   "outputs": [
    {
     "name": "stdout",
     "output_type": "stream",
     "text": [
      "['T', 'a', 'e', 'f', 'm', 'n', 'o', 'r', 'r', 'r', 's', 's']\n"
     ]
    }
   ],
   "source": [
    "print(sorted(s))"
   ]
  },
  {
   "cell_type": "code",
   "execution_count": 44,
   "id": "07ba95fc",
   "metadata": {},
   "outputs": [
    {
     "name": "stdout",
     "output_type": "stream",
     "text": [
      "['s', 's', 'r', 'r', 'r', 'o', 'n', 'm', 'f', 'e', 'a', 'T']\n"
     ]
    }
   ],
   "source": [
    "print(sorted(s,reverse=True))"
   ]
  },
  {
   "cell_type": "code",
   "execution_count": 51,
   "id": "79198f83",
   "metadata": {},
   "outputs": [
    {
     "name": "stdout",
     "output_type": "stream",
     "text": [
      "mixture of experts\n",
      "Mixture of experts\n",
      "Mixture Of Experts\n",
      "dYnAMO\n",
      "mixture of experts\n",
      "MIXTURE OF EXPERTS\n"
     ]
    }
   ],
   "source": [
    "# Capitalize/Title/Upper/Lower/Swapcase\n",
    "\n",
    "s3 = 'mixture of experts'\n",
    "print(s3)\n",
    "print(s3.capitalize())\n",
    "print(s3.title())\n",
    "s4 = 'DyNamo'\n",
    "print(s4.swapcase())\n",
    "print(s3.lower())\n",
    "print(s3.upper())"
   ]
  },
  {
   "cell_type": "code",
   "execution_count": 56,
   "id": "7fbaeb28",
   "metadata": {},
   "outputs": [
    {
     "name": "stdout",
     "output_type": "stream",
     "text": [
      "7\n",
      "3\n",
      "7\n"
     ]
    }
   ],
   "source": [
    "# Count/Find/Index\n",
    "\n",
    "strs = \"Hi my name is anas\"\n",
    "print(strs.index('a'))\n",
    "print(strs.count('a'))\n",
    "print(strs.find('a'))"
   ]
  },
  {
   "cell_type": "code",
   "execution_count": 59,
   "id": "3985266d",
   "metadata": {},
   "outputs": [
    {
     "name": "stdout",
     "output_type": "stream",
     "text": [
      "7\n"
     ]
    }
   ],
   "source": [
    "# Difference between find and index\n",
    "\n",
    "print(strs.index('a'))"
   ]
  },
  {
   "cell_type": "code",
   "execution_count": 62,
   "id": "e5eee216",
   "metadata": {},
   "outputs": [
    {
     "name": "stdout",
     "output_type": "stream",
     "text": [
      "-1\n"
     ]
    }
   ],
   "source": [
    "print(strs.find('z'))"
   ]
  },
  {
   "cell_type": "code",
   "execution_count": 66,
   "id": "4f4fc5b7",
   "metadata": {},
   "outputs": [
    {
     "data": {
      "text/plain": [
       "True"
      ]
     },
     "execution_count": 66,
     "metadata": {},
     "output_type": "execute_result"
    }
   ],
   "source": [
    "# endswith/startswith\n",
    "\n",
    "'my name is anas'.startswith('my')"
   ]
  },
  {
   "cell_type": "code",
   "execution_count": 67,
   "id": "c428c36b",
   "metadata": {},
   "outputs": [
    {
     "data": {
      "text/plain": [
       "True"
      ]
     },
     "execution_count": 67,
     "metadata": {},
     "output_type": "execute_result"
    }
   ],
   "source": [
    "'my name is anas'.endswith('nas')"
   ]
  },
  {
   "cell_type": "code",
   "execution_count": 69,
   "id": "686fe9b6",
   "metadata": {},
   "outputs": [
    {
     "name": "stdout",
     "output_type": "stream",
     "text": [
      "False\n"
     ]
    }
   ],
   "source": [
    "print('my name is anas'.endswith('fsa'))"
   ]
  },
  {
   "cell_type": "code",
   "execution_count": 75,
   "id": "5117f49b",
   "metadata": {},
   "outputs": [
    {
     "data": {
      "text/plain": [
       "'Hi my name is anas and i am 23 old'"
      ]
     },
     "execution_count": 75,
     "metadata": {},
     "output_type": "execute_result"
    }
   ],
   "source": [
    "# Format\n",
    "\n",
    "name = 'anas'\n",
    "age = 23\n",
    "\n",
    "# Positional argument\n",
    "\"Hi my name is {} and i am {} old\".format(name,age)"
   ]
  },
  {
   "cell_type": "code",
   "execution_count": 76,
   "id": "03efe335",
   "metadata": {},
   "outputs": [
    {
     "data": {
      "text/plain": [
       "'Hi my name is anas and i am 23 old'"
      ]
     },
     "execution_count": 76,
     "metadata": {},
     "output_type": "execute_result"
    }
   ],
   "source": [
    "\"Hi my name is {0} and i am {1} old\".format(name,age)"
   ]
  },
  {
   "cell_type": "code",
   "execution_count": 78,
   "id": "c731bd9f",
   "metadata": {},
   "outputs": [
    {
     "name": "stdout",
     "output_type": "stream",
     "text": [
      "Hi my name is Anas and I am 25 old\n"
     ]
    }
   ],
   "source": [
    "# Keyword\n",
    "print(\"Hi my name is {name} and I am {age} old\".format(name=name, age=age))\n"
   ]
  },
  {
   "cell_type": "code",
   "execution_count": 86,
   "id": "4cd0e1e2",
   "metadata": {},
   "outputs": [
    {
     "name": "stdout",
     "output_type": "stream",
     "text": [
      "True\n",
      "True\n",
      "True\n",
      "True\n"
     ]
    }
   ],
   "source": [
    "# isalnum/ isalpha/ isdigit/ isidentifier\n",
    "print(s.isalnum())\n",
    "print(s.isalpha())\n",
    "print('1'.isdigit())\n",
    "print('user_anas'.isidentifier())\n"
   ]
  },
  {
   "cell_type": "code",
   "execution_count": 87,
   "id": "b8955578",
   "metadata": {},
   "outputs": [
    {
     "data": {
      "text/plain": [
       "['my', 'name', 'is', 'mohammed', 'anas']"
      ]
     },
     "execution_count": 87,
     "metadata": {},
     "output_type": "execute_result"
    }
   ],
   "source": [
    "# Split/Join\n",
    "\n",
    "'my name is mohammed anas'.split()"
   ]
  },
  {
   "cell_type": "code",
   "execution_count": 88,
   "id": "6b8eb3ab",
   "metadata": {},
   "outputs": [
    {
     "data": {
      "text/plain": [
       "['my name ', ' mohammed anas']"
      ]
     },
     "execution_count": 88,
     "metadata": {},
     "output_type": "execute_result"
    }
   ],
   "source": [
    "'my name is mohammed anas'.split('is')"
   ]
  },
  {
   "cell_type": "code",
   "execution_count": 91,
   "id": "dc196f10",
   "metadata": {},
   "outputs": [
    {
     "data": {
      "text/plain": [
       "'my name is mohammed anas'"
      ]
     },
     "execution_count": 91,
     "metadata": {},
     "output_type": "execute_result"
    }
   ],
   "source": [
    "' '.join(['my', 'name', 'is', 'mohammed', 'anas'])"
   ]
  },
  {
   "cell_type": "code",
   "execution_count": 95,
   "id": "d896d177",
   "metadata": {},
   "outputs": [
    {
     "data": {
      "text/plain": [
       "'I love deep learning'"
      ]
     },
     "execution_count": 95,
     "metadata": {},
     "output_type": "execute_result"
    }
   ],
   "source": [
    "# Replace\n",
    "'I love machine learning'.replace('machine', 'deep')"
   ]
  },
  {
   "cell_type": "code",
   "execution_count": 96,
   "id": "0d4bd765",
   "metadata": {},
   "outputs": [
    {
     "data": {
      "text/plain": [
       "'I love machine learning'"
      ]
     },
     "execution_count": 96,
     "metadata": {},
     "output_type": "execute_result"
    }
   ],
   "source": [
    "'I love machine learning'.replace('agentic', 'machine')"
   ]
  },
  {
   "cell_type": "code",
   "execution_count": 98,
   "id": "85d93aa8",
   "metadata": {},
   "outputs": [
    {
     "name": "stdout",
     "output_type": "stream",
     "text": [
      "Python is awesome\n",
      "Python is awesome\n",
      "Python is      awesome\n"
     ]
    }
   ],
   "source": [
    "# Strip\n",
    "\n",
    "print('Python is awesome     '.strip())\n",
    "print('          Python is awesome     '.strip())\n",
    "print('Python is      awesome     '.strip())"
   ]
  },
  {
   "cell_type": "code",
   "execution_count": null,
   "id": "40b6a96c",
   "metadata": {},
   "outputs": [],
   "source": []
  }
 ],
 "metadata": {
  "kernelspec": {
   "display_name": "Python 3",
   "language": "python",
   "name": "python3"
  },
  "language_info": {
   "codemirror_mode": {
    "name": "ipython",
    "version": 3
   },
   "file_extension": ".py",
   "mimetype": "text/x-python",
   "name": "python",
   "nbconvert_exporter": "python",
   "pygments_lexer": "ipython3",
   "version": "3.12.0"
  }
 },
 "nbformat": 4,
 "nbformat_minor": 5
}
