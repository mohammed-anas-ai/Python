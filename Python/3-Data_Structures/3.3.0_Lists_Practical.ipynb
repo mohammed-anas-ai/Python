{
 "cells": [
  {
   "cell_type": "markdown",
   "id": "b51403d7",
   "metadata": {},
   "source": [
    "### Real world use cases with List.\n",
    "\n",
    "##### List are most commonly used data structures in python they are known for their versatility and ease of use."
   ]
  },
  {
   "cell_type": "markdown",
   "id": "9702f2a2",
   "metadata": {},
   "source": [
    "#### 1: Manage a To DO list using List DS.\n",
    "- Create a To Do List To Keep Track OF Tasks"
   ]
  },
  {
   "cell_type": "code",
   "execution_count": 3,
   "id": "8a1501a9",
   "metadata": {},
   "outputs": [
    {
     "name": "stdout",
     "output_type": "stream",
     "text": [
      "Don't forget to pay the utility bills.\n",
      "To Do List Remaning.\n",
      "-Pay bills\n",
      "-Coding\n",
      "-attend the AI bootcamp.\n",
      "-attend the meeting in Nvidia DLI.\n"
     ]
    }
   ],
   "source": [
    "to_do_list = ['Purchase Groceries','Clean the house','Pay bills','Coding']\n",
    "\n",
    "## Add the tasks:\n",
    "\n",
    "to_do_list.append(\"attend the AI bootcamp.\")\n",
    "to_do_list.append(\"attend the meeting in Nvidia DLI.\")\n",
    "\n",
    "## Remove the tasks.\n",
    "\n",
    "to_do_list.remove(\"Purchase Groceries\")\n",
    "to_do_list.remove(\"Clean the house\")\n",
    "\n",
    "## Check if the tasks is specified in the list.\n",
    "\n",
    "if \"Pay bills\"  in to_do_list:\n",
    "    print(\"Don't forget to pay the utility bills.\")\n",
    "\n",
    "## To do list remaining.\n",
    "print('To Do List Remaning.')\n",
    "for task in to_do_list:\n",
    "    print(f\"-{task}\")"
   ]
  },
  {
   "cell_type": "markdown",
   "id": "8d815549",
   "metadata": {},
   "source": [
    "#### 2: Organizing Student Grades.\n",
    "- Create a list to store and calculate average grades for students"
   ]
  },
  {
   "cell_type": "code",
   "execution_count": 5,
   "id": "cdac04cc",
   "metadata": {},
   "outputs": [
    {
     "name": "stdout",
     "output_type": "stream",
     "text": [
      "Average student Grades is. 88.00\n",
      "Highest student grades: 97\n",
      "lowest student grades: 79\n"
     ]
    }
   ],
   "source": [
    "student_grades = [80,90,88,79,97]\n",
    "\n",
    "## Adding new grade to the student_grades.\n",
    "\n",
    "student_grades.append(94)\n",
    "\n",
    "## Calculating  the average of student_grades.\n",
    "\n",
    "average_grades = sum(student_grades) / len(student_grades)\n",
    "print(f\"Average student Grades is. {average_grades:.2f}\")\n",
    "\n",
    "## Finding the highest and lowest student grades.\n",
    "\n",
    "highest = max(student_grades)\n",
    "lowest = min(student_grades)\n",
    "\n",
    "print(f\"Highest student grades: {highest}\")\n",
    "print(f\"lowest student grades: {lowest}\")\n"
   ]
  },
  {
   "cell_type": "markdown",
   "id": "14598f93",
   "metadata": {},
   "source": [
    "##### 3: Managing An Inventory\n",
    "- Use a list to manage inventory items in a store"
   ]
  },
  {
   "cell_type": "code",
   "execution_count": 3,
   "id": "24a72642",
   "metadata": {},
   "outputs": [
    {
     "name": "stdout",
     "output_type": "stream",
     "text": [
      "grapes is not in stock\n",
      "Print the inventory list:\n",
      "-apple\n",
      "-banana\n",
      "-cherry\n"
     ]
    }
   ],
   "source": [
    "## Managing an inventory\n",
    "\n",
    "inventory = ['apple','banana','cherry']\n",
    "\n",
    "## Adding an item.\n",
    "\n",
    "inventory.append('strawberries')\n",
    "\n",
    "## Removing an item.\n",
    "\n",
    "inventory.pop()\n",
    "\n",
    "## Checking if a item is in stock.\n",
    "\n",
    "item = 'grapes'\n",
    "\n",
    "if item in inventory:\n",
    "    print(f\"{item} is in stock.\")\n",
    "else:\n",
    "    print(f\"{item} is not in stock\")\n",
    "\n",
    "\n",
    "## Lastly,print the inventory.\n",
    "\n",
    "print('Print the inventory list:')\n",
    "for item in inventory:\n",
    "    print(f\"-{item}\")"
   ]
  },
  {
   "cell_type": "markdown",
   "id": "34a09b0a",
   "metadata": {},
   "source": [
    "##### 4:Collecting User Feedback\n",
    "- Use a list to collect and analyze user feedback."
   ]
  },
  {
   "cell_type": "code",
   "execution_count": 12,
   "id": "3fe7cfec",
   "metadata": {},
   "outputs": [
    {
     "name": "stdout",
     "output_type": "stream",
     "text": [
      "Positive feedbacks : 2\n",
      "Negative feedbacks : 1\n",
      "User feedbacks.\n",
      "Great service\n",
      "love the service\n",
      "Excellent service\n",
      "magnificient\n",
      "Not happy with the service at all\n"
     ]
    }
   ],
   "source": [
    "## List of user feedback.\n",
    "\n",
    "feedbacks = ['Great service','love the service','Excellent service','magnificient']\n",
    "\n",
    "# Adding new feedback\n",
    "feedbacks.append('Not happy with the service at all')\n",
    "\n",
    "## Counting the specific feedback.\n",
    "positive_feedbacks = sum(1 for feedback in feedbacks if 'great' in feedback.lower() or 'love' in feedback.lower())\n",
    "print(f\"Positive feedbacks : {positive_feedbacks}\")\n",
    "\n",
    "negative_feedbacks = sum(1 for feedback in feedbacks if 'not' in feedback.lower())\n",
    "print(f\"Negative feedbacks : {negative_feedbacks}\")\n",
    "\n",
    "## printing all feedbacks:\n",
    "\n",
    "print(\"User feedbacks.\")\n",
    "\n",
    "for feedback in feedbacks:\n",
    "    print(feedback)"
   ]
  },
  {
   "cell_type": "code",
   "execution_count": null,
   "id": "018fba93",
   "metadata": {},
   "outputs": [],
   "source": []
  }
 ],
 "metadata": {
  "kernelspec": {
   "display_name": "aienv_new",
   "language": "python",
   "name": "python3"
  },
  "language_info": {
   "codemirror_mode": {
    "name": "ipython",
    "version": 3
   },
   "file_extension": ".py",
   "mimetype": "text/x-python",
   "name": "python",
   "nbconvert_exporter": "python",
   "pygments_lexer": "ipython3",
   "version": "3.12.0"
  }
 },
 "nbformat": 4,
 "nbformat_minor": 5
}
