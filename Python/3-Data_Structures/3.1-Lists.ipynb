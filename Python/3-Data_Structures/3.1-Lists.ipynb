{
 "cells": [
  {
   "cell_type": "markdown",
   "id": "b66bd7b2",
   "metadata": {},
   "source": [
    "#### Introduction To Lists\n",
    "- Lists are ordered, mutable collections of items.\n",
    "- They can contain items of different data types."
   ]
  },
  {
   "cell_type": "code",
   "execution_count": 87,
   "id": "cf3936d8",
   "metadata": {},
   "outputs": [],
   "source": [
    "### Array Vs Lists\n",
    "# Fixed Vs Dynamic Size\n",
    "# Convenience -> Hetrogeneous\n",
    "# Speed of Execution\n",
    "# Memory"
   ]
  },
  {
   "cell_type": "code",
   "execution_count": 22,
   "id": "7e89f8a8",
   "metadata": {},
   "outputs": [
    {
     "name": "stdout",
     "output_type": "stream",
     "text": [
      "2575638081408\n",
      "140732869921208\n",
      "140732869921240\n",
      "140732869921272\n",
      "140732869921208\n",
      "140732869921240\n",
      "140732869921272\n"
     ]
    }
   ],
   "source": [
    "L = [1,2,3]\n",
    "print((id(L)))\n",
    "print((id(L[0])))\n",
    "print((id(L[1])))\n",
    "print((id(L[2])))\n",
    "print((id(1)))\n",
    "print((id(2)))\n",
    "print((id(3)))"
   ]
  },
  {
   "cell_type": "code",
   "execution_count": 23,
   "id": "56a8e111",
   "metadata": {},
   "outputs": [
    {
     "name": "stdout",
     "output_type": "stream",
     "text": [
      "[] <class 'list'>\n"
     ]
    }
   ],
   "source": [
    "## Creation of lists.\n",
    "\n",
    "## Empty list.\n",
    "\n",
    "L = list()\n",
    "print(L,type(L))"
   ]
  },
  {
   "cell_type": "code",
   "execution_count": 24,
   "id": "8432f0ac",
   "metadata": {},
   "outputs": [
    {
     "name": "stdout",
     "output_type": "stream",
     "text": [
      "[1, 2, 3, 4, 5]\n",
      "<class 'list'>\n"
     ]
    }
   ],
   "source": [
    "## Homogenous list.\n",
    "\n",
    "\n",
    "Homogenous_list = [1,2,3,4,5]\n",
    "print(Homogenous_list)\n",
    "print(type(Homogenous_list))"
   ]
  },
  {
   "cell_type": "code",
   "execution_count": 25,
   "id": "d5194941",
   "metadata": {},
   "outputs": [
    {
     "name": "stdout",
     "output_type": "stream",
     "text": [
      "[1, 2, 3.0, 'Hello', (1, 2, 3), {'name': 'anas'}]\n",
      "<class 'list'>\n"
     ]
    }
   ],
   "source": [
    "## Hetrogenous list.\n",
    "\n",
    "Hetrogenous_list = [1,2,3.0,'Hello',(1,2,3),{'name':'anas'}]\n",
    "print(Hetrogenous_list)\n",
    "print(type(Hetrogenous_list))"
   ]
  },
  {
   "cell_type": "code",
   "execution_count": 26,
   "id": "26f4da5e",
   "metadata": {},
   "outputs": [],
   "source": [
    "## Accessing the list items using indexing and slicing."
   ]
  },
  {
   "cell_type": "code",
   "execution_count": 27,
   "id": "c3d71b3e",
   "metadata": {},
   "outputs": [
    {
     "name": "stdout",
     "output_type": "stream",
     "text": [
      "<class 'list'>\n",
      "[1]\n",
      "6\n",
      "3\n",
      "4\n",
      "1\n"
     ]
    }
   ],
   "source": [
    "## Indexing\n",
    "\n",
    "lst = list([1,2,3,4,5,6])\n",
    "print(type(lst))\n",
    "print([lst[0]])\n",
    "print(lst[-1])\n",
    "print(lst[2])\n",
    "print(lst[-3])\n",
    "print(lst[-6])\n",
    "\n"
   ]
  },
  {
   "cell_type": "code",
   "execution_count": 123,
   "id": "d2617245",
   "metadata": {},
   "outputs": [
    {
     "name": "stdout",
     "output_type": "stream",
     "text": [
      "([[1, 2], [3, 4]], [[5, 6], [7, 8]])\n",
      "3\n"
     ]
    }
   ],
   "source": [
    "l = [[1,2],[3,4]], [[5,6],[7,8]]\n",
    "print(l)\n",
    "print(l[0][1][0])"
   ]
  },
  {
   "cell_type": "code",
   "execution_count": 28,
   "id": "c7ddf73d",
   "metadata": {},
   "outputs": [
    {
     "name": "stdout",
     "output_type": "stream",
     "text": [
      "[[[1, 2, 3], [4, 5, 6]], [[7, 8, 9], [9, 10, 11]]]\n",
      "[[1, 2, 3], [4, 5, 6]]\n",
      "3\n",
      "[[7, 8, 9], [9, 10, 11]]\n",
      "9\n"
     ]
    }
   ],
   "source": [
    "l = list([[[1,2,3],[4,5,6]],[[7,8,9],[9,10,11]]])\n",
    "print(l)\n",
    "print(l[0])\n",
    "print(l[0][0][2])\n",
    "print(l[1])\n",
    "print(l[1][1][0])"
   ]
  },
  {
   "cell_type": "code",
   "execution_count": 29,
   "id": "4f9f22fb",
   "metadata": {},
   "outputs": [
    {
     "name": "stdout",
     "output_type": "stream",
     "text": [
      "apple\n",
      "papaya\n",
      "jackfruit\n",
      "apple\n",
      "banana\n"
     ]
    }
   ],
   "source": [
    "fruits = ['apple','banana','jackfruit','grapes','papaya']\n",
    "print(fruits[0])\n",
    "print(fruits[-1])\n",
    "print(fruits[-3])\n",
    "print(fruits[-5])\n",
    "print(fruits[-4])"
   ]
  },
  {
   "cell_type": "code",
   "execution_count": 30,
   "id": "f833a048",
   "metadata": {},
   "outputs": [
    {
     "name": "stdout",
     "output_type": "stream",
     "text": [
      "[1, 2, 3, 4, 5, 6]\n",
      "['apple', 'banana', 'jackfruit', 'grapes', 'papaya']\n",
      "[1, 3, 5]\n",
      "['apple', 'grapes']\n",
      "[1, 2, 3, 4]\n",
      "['apple', 'banana']\n"
     ]
    }
   ],
   "source": [
    "## Slicing\n",
    "\n",
    "print(lst[:])\n",
    "print(fruits[:])\n",
    "\n",
    "print(lst[::2]) # Stepsize\n",
    "print(fruits[::3])\n",
    "\n",
    "print(lst[0:4])\n",
    "print(fruits[0:2])"
   ]
  },
  {
   "cell_type": "code",
   "execution_count": 31,
   "id": "b18cb834",
   "metadata": {},
   "outputs": [
    {
     "name": "stdout",
     "output_type": "stream",
     "text": [
      "[6, 5, 4, 3, 2, 1]\n",
      "['papaya', 'grapes', 'jackfruit', 'banana', 'apple']\n"
     ]
    }
   ],
   "source": [
    "## Reversing the list\n",
    "\n",
    "print(lst[::-1])\n",
    "print(fruits[::-1])"
   ]
  },
  {
   "cell_type": "code",
   "execution_count": 32,
   "id": "bcdbdbad",
   "metadata": {},
   "outputs": [
    {
     "data": {
      "text/plain": [
       "['apple', 'banana', 'jackfruit', 'grapes', 'papaya']"
      ]
     },
     "execution_count": 32,
     "metadata": {},
     "output_type": "execute_result"
    }
   ],
   "source": [
    "fruits"
   ]
  },
  {
   "cell_type": "code",
   "execution_count": 33,
   "id": "9298e856",
   "metadata": {},
   "outputs": [
    {
     "name": "stdout",
     "output_type": "stream",
     "text": [
      "[6, 5, 4, 3, 2, 1]\n"
     ]
    }
   ],
   "source": [
    "print(lst[6::-1])"
   ]
  },
  {
   "cell_type": "code",
   "execution_count": 112,
   "id": "728aa606",
   "metadata": {},
   "outputs": [
    {
     "name": "stdout",
     "output_type": "stream",
     "text": [
      "[10, 8, 6]\n",
      "['banana', 'jackfruit', 'mango']\n"
     ]
    }
   ],
   "source": [
    "## Slicing using the negative step parameter.\n",
    "## Note: The first number must be greater than the second.\n",
    "print(lst[6:1:-1])\n",
    "print(fruits[4:1:-1])"
   ]
  },
  {
   "cell_type": "code",
   "execution_count": 35,
   "id": "c9d44850",
   "metadata": {},
   "outputs": [
    {
     "name": "stdout",
     "output_type": "stream",
     "text": [
      "[6, 5, 4]\n",
      "['papaya', 'grapes']\n"
     ]
    }
   ],
   "source": [
    "print(lst[-1:-4:-1])\n",
    "print(fruits[-1:-3:-1])\n"
   ]
  },
  {
   "cell_type": "code",
   "execution_count": 130,
   "id": "28755dac",
   "metadata": {},
   "outputs": [
    {
     "name": "stdout",
     "output_type": "stream",
     "text": [
      "([[100, 2], [3, 4]], [[5, 6], [7, 8]])\n",
      "([[100, 2], [3, 4]], [[5, 6], [700, 8]])\n"
     ]
    }
   ],
   "source": [
    "l[0][0][0] = 100\n",
    "print(l)\n",
    "l[1][1][0] = 700\n",
    "print(l)\n"
   ]
  },
  {
   "cell_type": "code",
   "execution_count": 36,
   "id": "786d20e8",
   "metadata": {},
   "outputs": [
    {
     "name": "stdout",
     "output_type": "stream",
     "text": [
      "[1, 2, 3, 4, 5, 6]\n"
     ]
    }
   ],
   "source": [
    "## Alter/Modifying the list since it's mutable.\n",
    "\n",
    "numbers = list([1,2,3,4,5,6])\n",
    "print(numbers)"
   ]
  },
  {
   "cell_type": "code",
   "execution_count": 37,
   "id": "070638e4",
   "metadata": {},
   "outputs": [
    {
     "name": "stdout",
     "output_type": "stream",
     "text": [
      "[11, 2, 3, 4, 5, 6]\n",
      "[11, 2, 12, 4, 5, 6]\n"
     ]
    }
   ],
   "source": [
    "numbers[0] = 11\n",
    "print(numbers)\n",
    "numbers[2] = 12\n",
    "print(numbers)"
   ]
  },
  {
   "cell_type": "code",
   "execution_count": 38,
   "id": "4f1e865c",
   "metadata": {},
   "outputs": [
    {
     "name": "stdout",
     "output_type": "stream",
     "text": [
      "['apple', 'banana', 'jackfruit', 'grapes', 'papaya']\n",
      "['apple', 'watermelon', 'jackfruit', 'grapes', 'papaya']\n",
      "['apple', 'watermelon', 'm', 'a', 'n', 'g', 'o']\n"
     ]
    }
   ],
   "source": [
    "print(fruits)\n",
    "fruits[1] = 'watermelon'\n",
    "print(fruits)\n",
    "fruits[2:] = 'mango'\n",
    "print(fruits)\n"
   ]
  },
  {
   "cell_type": "code",
   "execution_count": 39,
   "id": "ff2fc410",
   "metadata": {},
   "outputs": [
    {
     "name": "stdout",
     "output_type": "stream",
     "text": [
      "['apple', 'grapes', 'mango', 'jackfruit', 'banana', 'guava']\n"
     ]
    }
   ],
   "source": [
    "fruits = list(['apple','grapes','mango','jackfruit','banana','guava'])\n",
    "print(fruits)"
   ]
  },
  {
   "cell_type": "code",
   "execution_count": 198,
   "id": "0f2aaa3e",
   "metadata": {},
   "outputs": [],
   "source": [
    "## List Methods:"
   ]
  },
  {
   "cell_type": "code",
   "execution_count": 202,
   "id": "ad26a7c4",
   "metadata": {},
   "outputs": [
    {
     "name": "stdout",
     "output_type": "stream",
     "text": [
      "5\n",
      "0\n",
      "7\n",
      "Ascending order [0, 1, 2, 5, 7]\n",
      "Descending order : [7, 5, 2, 1, 0]\n"
     ]
    }
   ],
   "source": [
    "# len/min/max/sorted\n",
    "L = [2,1,5,7,0]\n",
    "\n",
    "print(len(L))\n",
    "print(min(L))\n",
    "print(max(L))\n",
    "print('Ascending order',sorted(L))\n",
    "print('Descending order :',sorted(L, reverse=True))"
   ]
  },
  {
   "cell_type": "code",
   "execution_count": null,
   "id": "8650c73e",
   "metadata": {},
   "outputs": [
    {
     "name": "stdout",
     "output_type": "stream",
     "text": [
      "['apple', 'grapes', 'mango', 'jackfruit', 'banana', 'guava', 'cherry', 'mask melon']\n",
      "[1, 2, 3, 4, 5, 6, 7]\n"
     ]
    }
   ],
   "source": [
    "\n",
    "## Append - Adds an element at the end of the list.\n",
    "\n",
    "fruits.append('cherry')\n",
    "fruits.append('mask melon')\n",
    "\n",
    "print(fruits)\n",
    "\n",
    "lst_num = [1,2,3,4,5]\n",
    "lst_num.append(6)\n",
    "lst_num.append(7)\n",
    "print(lst_num)"
   ]
  },
  {
   "cell_type": "code",
   "execution_count": 41,
   "id": "3951de77",
   "metadata": {},
   "outputs": [
    {
     "name": "stdout",
     "output_type": "stream",
     "text": [
      "[1, 2, 3, 4, 5] <class 'list'>\n",
      "[1, 2, 3, 4, 5, 8, 9, 10, 11]\n",
      "['apple', 'grapes', 'mango', 'jackfruit', 'banana', 'guava', 'cherry', 'mask melon', 'blueberry', 'orange', 'guava']\n"
     ]
    }
   ],
   "source": [
    "lst = [1,2,3,4,5]\n",
    "print((lst),type(lst))\n",
    "lst.extend([8,9,10,11])\n",
    "print((lst))\n",
    "\n",
    "fruits.extend(['blueberry','orange','guava'])\n",
    "print(fruits)"
   ]
  },
  {
   "cell_type": "code",
   "execution_count": 42,
   "id": "a7176809",
   "metadata": {},
   "outputs": [
    {
     "name": "stdout",
     "output_type": "stream",
     "text": [
      "[1, 2, 3, 4, 5, 6, 7]\n",
      "[1, 200, 2, 3, 4, 5, 6, 700, 7]\n",
      "['apple', 'grapes', 'mango', 'jackfruit', 'banana', 'guava', 'cherry', 'mask melon', 'blueberry', 'orange', 'guava']\n",
      "['apple', 'grapes', 'mango', 'jackfruit', 'banana', 'guava', 'cherry', 'mask melon', 'blueberry', 'orange', 'dragon fruit', 'guava']\n"
     ]
    }
   ],
   "source": [
    "## Insert - Adds an element based on the index position specified.\n",
    "\n",
    "print(lst_num)\n",
    "lst_num.insert(1,200)\n",
    "lst_num.insert(-1,700)\n",
    "print(lst_num)\n",
    "\n",
    "print(fruits)\n",
    "fruits.insert(-1,'dragon fruit')\n",
    "print(fruits)\n"
   ]
  },
  {
   "cell_type": "code",
   "execution_count": 43,
   "id": "b6452f11",
   "metadata": {},
   "outputs": [
    {
     "name": "stdout",
     "output_type": "stream",
     "text": [
      "[11, 2, 12, 4, 5, 6]\n",
      "[1, 2, 3, 4, 5, 6, 7]\n",
      "['apple', 'grapes', 'mango', 'jackfruit', 'banana', 'guava', 'cherry', 'mask melon', 'blueberry', 'orange', 'dragon fruit', 'guava']\n",
      "['apple', 'grapes', 'mango', 'jackfruit', 'banana', 'guava', 'cherry', 'mask melon', 'blueberry', 'orange', 'guava']\n"
     ]
    }
   ],
   "source": [
    "## Remove - Removes a element based on the element specified.\n",
    "print(numbers)\n",
    "lst_num.remove(200)\n",
    "lst_num.remove(700)\n",
    "print(lst_num)\n",
    "\n",
    "\n",
    "print(fruits)\n",
    "fruits.remove('dragon fruit')\n",
    "print(fruits)\n",
    "\n"
   ]
  },
  {
   "cell_type": "code",
   "execution_count": 44,
   "id": "a5bc90d7",
   "metadata": {},
   "outputs": [
    {
     "name": "stdout",
     "output_type": "stream",
     "text": [
      "['apple', 'grapes', 'mango', 'jackfruit', 'banana', 'guava', 'cherry', 'mask melon', 'blueberry', 'orange', 'guava']\n",
      "['apple', 'grapes', 'mango', 'jackfruit', 'banana', 'guava', 'mask melon', 'blueberry', 'orange', 'guava']\n"
     ]
    }
   ],
   "source": [
    "print(fruits)\n",
    "fruits.remove('cherry')\n",
    "print(fruits)"
   ]
  },
  {
   "cell_type": "code",
   "execution_count": 45,
   "id": "89d55004",
   "metadata": {},
   "outputs": [
    {
     "name": "stdout",
     "output_type": "stream",
     "text": [
      "[1, 2, 3, 4, 5, 6, 7]\n",
      "['apple', 'grapes', 'mango', 'jackfruit', 'banana', 'guava', 'mask melon', 'blueberry', 'orange', 'guava']\n"
     ]
    },
    {
     "data": {
      "text/plain": [
       "'guava'"
      ]
     },
     "execution_count": 45,
     "metadata": {},
     "output_type": "execute_result"
    }
   ],
   "source": [
    "### Pop - remove the return the last element.\n",
    "\n",
    "print(lst_num)\n",
    "lst_num.pop()\n",
    "\n",
    "print(fruits)\n",
    "fruits.pop()\n"
   ]
  },
  {
   "cell_type": "code",
   "execution_count": 46,
   "id": "30615e58",
   "metadata": {},
   "outputs": [
    {
     "data": {
      "text/plain": [
       "['apple',\n",
       " 'grapes',\n",
       " 'mango',\n",
       " 'jackfruit',\n",
       " 'banana',\n",
       " 'guava',\n",
       " 'mask melon',\n",
       " 'blueberry',\n",
       " 'orange']"
      ]
     },
     "execution_count": 46,
     "metadata": {},
     "output_type": "execute_result"
    }
   ],
   "source": [
    "fruits"
   ]
  },
  {
   "cell_type": "code",
   "execution_count": 47,
   "id": "ee036b1d",
   "metadata": {},
   "outputs": [
    {
     "name": "stdout",
     "output_type": "stream",
     "text": [
      "1\n",
      "7\n"
     ]
    }
   ],
   "source": [
    "## Index to obtain the index position of the element specifed.\n",
    "\n",
    "print(fruits.index('grapes'))\n",
    "print(fruits.index('blueberry'))"
   ]
  },
  {
   "cell_type": "code",
   "execution_count": 48,
   "id": "a128d49f",
   "metadata": {},
   "outputs": [
    {
     "name": "stdout",
     "output_type": "stream",
     "text": [
      "1\n",
      "0\n"
     ]
    }
   ],
   "source": [
    "number  = [1,2,1,2,1]\n",
    "\n",
    "print(number.index(2))\n",
    "print(number.index(1))"
   ]
  },
  {
   "cell_type": "code",
   "execution_count": 49,
   "id": "62e4e5da",
   "metadata": {},
   "outputs": [
    {
     "name": "stdout",
     "output_type": "stream",
     "text": [
      "4\n",
      "2\n",
      "['apple', 'apple', 'grapes', 'mango', 'jackfruit', 'banana', 'guava', 'mask melon', 'blueberry', 'orange']\n"
     ]
    }
   ],
   "source": [
    "number.insert(0,1)\n",
    "\n",
    "print(number.count(1))\n",
    "\n",
    "fruits.insert(1,'apple')\n",
    "print(fruits.count('apple'))\n",
    "print(fruits)"
   ]
  },
  {
   "cell_type": "code",
   "execution_count": 50,
   "id": "92609894",
   "metadata": {},
   "outputs": [
    {
     "name": "stdout",
     "output_type": "stream",
     "text": [
      "[2, 1, 4, 3, 5, 6, 7]\n",
      "[1, 2, 3, 4, 5, 6, 7]\n",
      "********************\n",
      "[1, 2, 3, 4, 5]\n"
     ]
    }
   ],
   "source": [
    "## Sorting the list in ascending order\n",
    "\n",
    "number = [2,1,4,3,5,6,7]\n",
    "print(number)\n",
    "number.sort()\n",
    "print(number)\n",
    "\n",
    "print('*'*20)\n",
    "lst_num = [3,4,5,2,1]\n",
    "lst_num.sort()\n",
    "print(lst_num)\n"
   ]
  },
  {
   "cell_type": "code",
   "execution_count": 51,
   "id": "234ce069",
   "metadata": {},
   "outputs": [
    {
     "name": "stdout",
     "output_type": "stream",
     "text": [
      "[1, 2, 3, 4, 5, 6, 7]\n",
      "[7, 6, 5, 4, 3, 2, 1]\n",
      "*************************\n",
      "[5, 4, 3, 2, 1]\n"
     ]
    }
   ],
   "source": [
    "## Sorting the list in descending order.\n",
    "numbers = [1,2,3,4,5,6,7]\n",
    "print(number)\n",
    "numbers.sort(reverse=True)\n",
    "print(numbers)\n",
    "print('*'*25)\n",
    "lst_num.sort(reverse=True)\n",
    "print(lst_num)"
   ]
  },
  {
   "cell_type": "code",
   "execution_count": 52,
   "id": "8d9fba04",
   "metadata": {},
   "outputs": [
    {
     "name": "stdout",
     "output_type": "stream",
     "text": [
      "[1, 2, 3, 4, 5, 6, 7]\n",
      "[7, 6, 5, 4, 3, 2, 1]\n",
      "*************************\n",
      "[5, 4, 3, 2, 1]\n",
      "[1, 2, 3, 4, 5]\n"
     ]
    }
   ],
   "source": [
    "num = [1,2,3,4,5,6,7]\n",
    "print(num)\n",
    "num.reverse()\n",
    "print(num)\n",
    "print('*'*25)\n",
    "print(lst_num)\n",
    "lst_num.reverse()\n",
    "print(lst_num)"
   ]
  },
  {
   "cell_type": "code",
   "execution_count": 53,
   "id": "06693ca0",
   "metadata": {},
   "outputs": [
    {
     "name": "stdout",
     "output_type": "stream",
     "text": [
      "[2, 1, 3, 4, 7, 6, 5]\n",
      "[5, 6, 7, 4, 3, 1, 2]\n"
     ]
    }
   ],
   "source": [
    "l = list([2,1,3,4,7,6,5])\n",
    "print(l)\n",
    "l.reverse()\n",
    "print(l)"
   ]
  },
  {
   "cell_type": "code",
   "execution_count": 54,
   "id": "9d59af0f",
   "metadata": {},
   "outputs": [
    {
     "name": "stdout",
     "output_type": "stream",
     "text": [
      "['orange', 'blueberry', 'mask melon', 'guava', 'banana', 'jackfruit', 'mango', 'grapes', 'apple', 'apple']\n"
     ]
    }
   ],
   "source": [
    "fruits.reverse()\n",
    "print(fruits)"
   ]
  },
  {
   "cell_type": "code",
   "execution_count": 55,
   "id": "055568d4",
   "metadata": {},
   "outputs": [
    {
     "name": "stdout",
     "output_type": "stream",
     "text": [
      "['orange', 'jackfruit', 'mango', 'grapes', 'apple', 'apple']\n",
      "['orange', 'mango', 'jackfruit', 'grapes', 'apple', 'apple']\n"
     ]
    }
   ],
   "source": [
    "fruit = ['orange', 'jackfruit', 'mango', 'grapes', 'apple', 'apple']\n",
    "print(fruit)\n",
    "fruit.sort(reverse=True)\n",
    "print(fruit)"
   ]
  },
  {
   "cell_type": "code",
   "execution_count": 56,
   "id": "0d887e1f",
   "metadata": {},
   "outputs": [
    {
     "name": "stdout",
     "output_type": "stream",
     "text": [
      "['orange', 'mango', 'jackfruit', 'grapes', 'apple', 'apple']\n",
      "[]\n"
     ]
    }
   ],
   "source": [
    "## Clear - which clears the list.\n",
    "\n",
    "print(fruit)\n",
    "fruit.clear()\n",
    "print(fruit)"
   ]
  },
  {
   "cell_type": "code",
   "execution_count": 57,
   "id": "01fc81ee",
   "metadata": {},
   "outputs": [
    {
     "name": "stdout",
     "output_type": "stream",
     "text": [
      "[7, 6, 5, 4, 3, 2, 1]\n",
      "[]\n"
     ]
    }
   ],
   "source": [
    "print(num)\n",
    "num.clear()\n",
    "print(num)"
   ]
  },
  {
   "cell_type": "code",
   "execution_count": 58,
   "id": "e39ff330",
   "metadata": {},
   "outputs": [
    {
     "name": "stdout",
     "output_type": "stream",
     "text": [
      "[1, 2, 3, 4, 5, 6, 7, 8, 9, 10]\n"
     ]
    }
   ],
   "source": [
    "numbers = list(range(1,11))\n",
    "print(numbers)"
   ]
  },
  {
   "cell_type": "code",
   "execution_count": 59,
   "id": "e60d845c",
   "metadata": {},
   "outputs": [
    {
     "name": "stdout",
     "output_type": "stream",
     "text": [
      "1\n",
      "2\n",
      "3\n",
      "4\n",
      "5\n",
      "6\n",
      "7\n",
      "8\n",
      "9\n",
      "10\n"
     ]
    }
   ],
   "source": [
    "## Iterating  over the list.\n",
    "for number in numbers:\n",
    "    print(number)"
   ]
  },
  {
   "cell_type": "code",
   "execution_count": 60,
   "id": "bda82ab0",
   "metadata": {},
   "outputs": [
    {
     "name": "stdout",
     "output_type": "stream",
     "text": [
      "['apple', 'grapes', 'mango', 'jackfruit', 'banana', 'guava']\n"
     ]
    }
   ],
   "source": [
    "fruits = list(['apple','grapes','mango','jackfruit','banana','guava'])\n",
    "print(fruits)"
   ]
  },
  {
   "cell_type": "code",
   "execution_count": 61,
   "id": "8a410c1c",
   "metadata": {},
   "outputs": [
    {
     "name": "stdout",
     "output_type": "stream",
     "text": [
      "apple\n",
      "grapes\n",
      "mango\n",
      "jackfruit\n",
      "banana\n",
      "guava\n"
     ]
    }
   ],
   "source": [
    "for fruit in fruits:\n",
    "    print(fruit)"
   ]
  },
  {
   "cell_type": "code",
   "execution_count": null,
   "id": "823282a0",
   "metadata": {},
   "outputs": [],
   "source": [
    "### Operations on Lists\n",
    "# Arithmetic\n",
    "# Membership\n",
    "# Loop"
   ]
  },
  {
   "cell_type": "code",
   "execution_count": 182,
   "id": "6e51e37e",
   "metadata": {},
   "outputs": [
    {
     "name": "stdout",
     "output_type": "stream",
     "text": [
      "Concatdated list : [1, 2, 3, 4, 5, 6, 7, 8, 9, 10, 11, 12, 13, 14, 15, 16, 17, 18, 19, 20]\n"
     ]
    }
   ],
   "source": [
    "l1 = list(range(1,11))\n",
    "l2 = list(range(11,21))\n",
    "concat_lst = l1 + l2\n",
    "print(\"Concatdated list :\", concat_lst)"
   ]
  },
  {
   "cell_type": "code",
   "execution_count": 184,
   "id": "28405f62",
   "metadata": {},
   "outputs": [
    {
     "name": "stdout",
     "output_type": "stream",
     "text": [
      "[1, 2, 3, 4, 5, 1, 2, 3, 4, 5, 1, 2, 3, 4, 5, 1, 2, 3, 4, 5]\n"
     ]
    }
   ],
   "source": [
    "lst = list(range(1,6))\n",
    "print(lst * 4)"
   ]
  },
  {
   "cell_type": "code",
   "execution_count": 196,
   "id": "241297ef",
   "metadata": {},
   "outputs": [],
   "source": [
    "L1 = [1,2,3,4,5]\n",
    "L2 = [1,2,3,4,[5,6]]"
   ]
  },
  {
   "cell_type": "code",
   "execution_count": 197,
   "id": "4892f5be",
   "metadata": {},
   "outputs": [
    {
     "name": "stdout",
     "output_type": "stream",
     "text": [
      "False\n",
      "True\n"
     ]
    }
   ],
   "source": [
    "print(5 not in L1)\n",
    "print([5,6] in L2)"
   ]
  },
  {
   "cell_type": "code",
   "execution_count": 62,
   "id": "e6f93633",
   "metadata": {},
   "outputs": [
    {
     "name": "stdout",
     "output_type": "stream",
     "text": [
      "0 1\n",
      "1 2\n",
      "2 3\n",
      "3 4\n",
      "4 5\n",
      "5 6\n",
      "6 7\n",
      "7 8\n",
      "8 9\n",
      "9 10\n"
     ]
    }
   ],
   "source": [
    "## Iterating with the index\n",
    "\n",
    "for index,number in enumerate(numbers):\n",
    "    print(index,number)"
   ]
  },
  {
   "cell_type": "code",
   "execution_count": 63,
   "id": "255124b5",
   "metadata": {},
   "outputs": [
    {
     "name": "stdout",
     "output_type": "stream",
     "text": [
      "0 apple\n",
      "1 grapes\n",
      "2 mango\n",
      "3 jackfruit\n",
      "4 banana\n",
      "5 guava\n"
     ]
    }
   ],
   "source": [
    "for index, fruit in enumerate(fruits):\n",
    "    print(index, fruit)"
   ]
  },
  {
   "cell_type": "code",
   "execution_count": 64,
   "id": "5623476e",
   "metadata": {},
   "outputs": [
    {
     "name": "stdout",
     "output_type": "stream",
     "text": [
      "[1, 3, 5, 7, 9]\n"
     ]
    }
   ],
   "source": [
    "lst = list()\n",
    "for i in range(1,11,2):\n",
    "    lst.append(i)\n",
    "print(lst)    "
   ]
  },
  {
   "cell_type": "code",
   "execution_count": 66,
   "id": "40ce9cff",
   "metadata": {},
   "outputs": [
    {
     "name": "stdout",
     "output_type": "stream",
     "text": [
      "The original list is : [1, 4, 5, 16, 5, 7, 7, 20, 17, 16, 5, 8, 11, 17, 7]\n"
     ]
    }
   ],
   "source": [
    "import random\n",
    "\n",
    "random_numbers = []\n",
    "\n",
    "for _ in range(15):\n",
    "\n",
    "    num = random.randint(1,21)\n",
    "    random_numbers.append(num)\n",
    "\n",
    "print(f\"The original list is : {random_numbers}\")\n"
   ]
  },
  {
   "cell_type": "code",
   "execution_count": 67,
   "id": "d5ea1eba",
   "metadata": {},
   "outputs": [
    {
     "data": {
      "text/plain": [
       "[1, 4, 9, 16, 25, 36, 49, 64, 81, 100]"
      ]
     },
     "execution_count": 67,
     "metadata": {},
     "output_type": "execute_result"
    }
   ],
   "source": [
    "## List comprehension\n",
    "\n",
    "[i**2 for i in range(1,11)]"
   ]
  },
  {
   "cell_type": "markdown",
   "id": "367c2c33",
   "metadata": {},
   "source": [
    "##### List Comprehension\n",
    "\n",
    "Basics Syntax            [expression for item in iterable]\n",
    "\n",
    "with conditional logic    [expression for item in iterable if condition]\n",
    "\n",
    "Nested List Comprehension [expression for item1 in iterable1 for item2 in iterable2]"
   ]
  },
  {
   "cell_type": "code",
   "execution_count": 205,
   "id": "a866c7c0",
   "metadata": {},
   "outputs": [
    {
     "data": {
      "text/plain": [
       "[-6, -9, -12]"
      ]
     },
     "execution_count": 205,
     "metadata": {},
     "output_type": "execute_result"
    }
   ],
   "source": [
    "# scalar multiplication on a vector\n",
    "v = [2,3,4]\n",
    "s = -3\n",
    "# [-6,-9,-12]\n",
    "\n",
    "[s*i for i in v]"
   ]
  },
  {
   "cell_type": "code",
   "execution_count": 68,
   "id": "fa182794",
   "metadata": {},
   "outputs": [
    {
     "name": "stdout",
     "output_type": "stream",
     "text": [
      "[1, 4, 9, 16, 25, 36, 49, 64, 81, 100]\n"
     ]
    }
   ],
   "source": [
    "## Basic list comprehension\n",
    "\n",
    "squares = [x**2 for x in range(1,11)]\n",
    "print(squares)"
   ]
  },
  {
   "cell_type": "code",
   "execution_count": 155,
   "id": "b3cb6efe",
   "metadata": {},
   "outputs": [
    {
     "name": "stdout",
     "output_type": "stream",
     "text": [
      "[2, 4, 6, 8, 10]\n"
     ]
    }
   ],
   "source": [
    "lst = list()\n",
    "\n",
    "for i in range(1,11):\n",
    "    if i % 2 == 0:\n",
    "        lst.append(i)\n",
    "print(lst)              "
   ]
  },
  {
   "cell_type": "code",
   "execution_count": 70,
   "id": "19528cbe",
   "metadata": {},
   "outputs": [
    {
     "name": "stdout",
     "output_type": "stream",
     "text": [
      "[2, 4, 6, 8, 10]\n"
     ]
    }
   ],
   "source": [
    "## List comprehension with condition\n",
    "\n",
    "even_numbers = [x for x in range(1,11) if x%2 == 0]\n",
    "print(even_numbers)"
   ]
  },
  {
   "cell_type": "code",
   "execution_count": 71,
   "id": "9ba5325f",
   "metadata": {},
   "outputs": [
    {
     "name": "stdout",
     "output_type": "stream",
     "text": [
      "[1, 3, 5, 7, 9]\n"
     ]
    }
   ],
   "source": [
    "odd_numbers = [x for x in range(1,11) if x%2 == 1]\n",
    "print(odd_numbers)"
   ]
  },
  {
   "cell_type": "code",
   "execution_count": 208,
   "id": "1551a82d",
   "metadata": {},
   "outputs": [
    {
     "name": "stdout",
     "output_type": "stream",
     "text": [
      "['python', 'php']\n",
      "['python']\n"
     ]
    }
   ],
   "source": [
    "# find languages which start with letter p\n",
    "languages = ['java','python','php','c','javascript']\n",
    "\n",
    "print([language for language in languages if language.startswith('p')])\n",
    "\n",
    "print([language for language in languages if language.endswith('n')])"
   ]
  },
  {
   "cell_type": "code",
   "execution_count": 72,
   "id": "a84b8ef7",
   "metadata": {},
   "outputs": [
    {
     "name": "stdout",
     "output_type": "stream",
     "text": [
      "[[1, 'a'], [1, 'b'], [1, 'c'], [1, 'd'], [2, 'a'], [2, 'b'], [2, 'c'], [2, 'd'], [3, 'a'], [3, 'b'], [3, 'c'], [3, 'd'], [4, 'a'], [4, 'b'], [4, 'c'], [4, 'd']]\n"
     ]
    }
   ],
   "source": [
    "## Nested list comprehension\n",
    "lst1 = [1,2,3,4]\n",
    "lst2 = ['a','b','c','d']\n",
    "\n",
    "pair = [[i,j] for i in lst1 for j in lst2]\n",
    "print(pair)"
   ]
  },
  {
   "cell_type": "code",
   "execution_count": 212,
   "id": "bc9e6db9",
   "metadata": {},
   "outputs": [
    {
     "data": {
      "text/plain": [
       "[5, 6, 7, 8, 10, 12, 14, 16, 15, 18, 21, 24, 20, 24, 28, 32]"
      ]
     },
     "execution_count": 212,
     "metadata": {},
     "output_type": "execute_result"
    }
   ],
   "source": [
    "# cartesian products -> List comprehension on 2 lists together\n",
    "L1 = [1,2,3,4]\n",
    "L2 = [5,6,7,8]\n",
    "\n",
    "[i*j for i in L1 for j in L2]"
   ]
  },
  {
   "cell_type": "code",
   "execution_count": 213,
   "id": "65669cd6",
   "metadata": {},
   "outputs": [
    {
     "data": {
      "text/plain": [
       "[[1, 2, 3], [2, 4, 6], [3, 6, 9]]"
      ]
     },
     "execution_count": 213,
     "metadata": {},
     "output_type": "execute_result"
    }
   ],
   "source": [
    "# Print a (3,3) matrix using list comprehension -> Nested List comprehension\n",
    "[[i*j for i in range(1,4)] for j in range(1,4)]"
   ]
  },
  {
   "cell_type": "code",
   "execution_count": 164,
   "id": "04e86fff",
   "metadata": {},
   "outputs": [
    {
     "name": "stdout",
     "output_type": "stream",
     "text": [
      "[[1.0, 'm'], [1.0, 'n'], [1.0, 'o'], [1.0, 'p'], [2.0, 'm'], [2.0, 'n'], [2.0, 'o'], [2.0, 'p'], [3.0, 'm'], [3.0, 'n'], [3.0, 'o'], [3.0, 'p'], [4.0, 'm'], [4.0, 'n'], [4.0, 'o'], [4.0, 'p']]\n"
     ]
    }
   ],
   "source": [
    "lst1 = [1.0,2.0,3.0,4.0,]\n",
    "lst2 = ['m','n','o','p']\n",
    "\n",
    "pair = [[i,j] for i in lst1 for j in lst2]\n",
    "print(pair)"
   ]
  },
  {
   "cell_type": "code",
   "execution_count": 74,
   "id": "100487f3",
   "metadata": {},
   "outputs": [
    {
     "name": "stdout",
     "output_type": "stream",
     "text": [
      "[5, 5, 6, 4, 13]\n"
     ]
    }
   ],
   "source": [
    "## list comprehension with function calls\n",
    "\n",
    "words = ['hello','world','python','list','comprehension']\n",
    "lengths = [len(word) for word in words]\n",
    "print(lengths)"
   ]
  },
  {
   "cell_type": "code",
   "execution_count": 166,
   "id": "2a44f87d",
   "metadata": {},
   "outputs": [
    {
     "name": "stdout",
     "output_type": "stream",
     "text": [
      "['apple', 'grapes', 'mango', 'jackfruit', 'banana', 'guava', 'cherry', 'mask melon']\n",
      "[5, 6, 5, 9, 6, 5, 6, 10]\n"
     ]
    }
   ],
   "source": [
    "print(fruits)\n",
    "length = [len(fruit) for fruit in fruits]\n",
    "print(length)"
   ]
  },
  {
   "cell_type": "code",
   "execution_count": 216,
   "id": "829f2199",
   "metadata": {},
   "outputs": [
    {
     "name": "stdout",
     "output_type": "stream",
     "text": [
      "[(1, -1), (2, -2), (3, -3), (4, -4)]\n"
     ]
    }
   ],
   "source": [
    "#Zip Method\n",
    "\n",
    "L1 = [1,2,3,4]\n",
    "L2 = [-1,-2,-3,-4]\n",
    "\n",
    "pair = list(zip(L1, L2))\n",
    "print(pair) \n"
   ]
  },
  {
   "cell_type": "code",
   "execution_count": 217,
   "id": "8d59fb0f",
   "metadata": {},
   "outputs": [
    {
     "name": "stdout",
     "output_type": "stream",
     "text": [
      "[1, 2, <built-in function print>, <class 'type'>, <bound method Kernel.raw_input of <ipykernel.ipkernel.IPythonKernel object at 0x00000257AE4EFE30>>]\n"
     ]
    }
   ],
   "source": [
    "L = [1,2,print,type,input]\n",
    "\n",
    "print(L)"
   ]
  },
  {
   "cell_type": "code",
   "execution_count": 222,
   "id": "9218bb44",
   "metadata": {},
   "outputs": [
    {
     "name": "stdout",
     "output_type": "stream",
     "text": [
      "[1, 2, 3]\n",
      "[1, 2, 3]\n",
      "[1, 2, 3, 4]\n",
      "[1, 2, 3]\n"
     ]
    }
   ],
   "source": [
    "# lists are mutable\n",
    "\n",
    "a = [1,2,3]\n",
    "b = a.copy()\n",
    "\n",
    "print(a)\n",
    "print(b)\n",
    "\n",
    "a.append(4)\n",
    "print(a)\n",
    "print(b)\n"
   ]
  },
  {
   "cell_type": "code",
   "execution_count": 223,
   "id": "4b9f0ae7",
   "metadata": {},
   "outputs": [
    {
     "name": "stdout",
     "output_type": "stream",
     "text": [
      "[1, 2, 3]\n",
      "[1, 2, 3]\n",
      "[1, 2, 3, 4]\n",
      "[1, 2, 3]\n"
     ]
    }
   ],
   "source": [
    "a = [1,2,3]\n",
    "b = a[:]\n",
    "\n",
    "print(a)\n",
    "print(b)\n",
    "\n",
    "a.append(4)\n",
    "print(a)\n",
    "print(b)"
   ]
  },
  {
   "cell_type": "code",
   "execution_count": 76,
   "id": "42951963",
   "metadata": {},
   "outputs": [
    {
     "name": "stdout",
     "output_type": "stream",
     "text": [
      "1 2 3 4\n"
     ]
    }
   ],
   "source": [
    "# packing and unpacking\n",
    "\n",
    "packed = [1,2,3,4]\n",
    "a,b,c,d = packed\n",
    "print(a,b,c,d)"
   ]
  },
  {
   "cell_type": "code",
   "execution_count": 77,
   "id": "5d9f38d9",
   "metadata": {},
   "outputs": [
    {
     "name": "stdout",
     "output_type": "stream",
     "text": [
      "1 2\n",
      "[3, 4, 5]\n"
     ]
    }
   ],
   "source": [
    "packed = [1,2,3,4,5]\n",
    "a,b,*extra = packed\n",
    "print(a,b)\n",
    "print(extra)"
   ]
  },
  {
   "cell_type": "code",
   "execution_count": null,
   "id": "9f4fe257",
   "metadata": {},
   "outputs": [],
   "source": [
    "# 🔸 Problem :\n",
    "# From a list of integers, create a new list that contains only the negative numbers, but converted to their absolute values using list comprehension."
   ]
  },
  {
   "cell_type": "code",
   "execution_count": null,
   "id": "257973c6",
   "metadata": {},
   "outputs": [
    {
     "name": "stdout",
     "output_type": "stream",
     "text": [
      "[1, 7, 5]\n"
     ]
    }
   ],
   "source": [
    "numbers = [4, -1, -7, 0, 12, -5]\n",
    "\n",
    "# List comprehension to filter negatives and convert to positive\n",
    "absolute_negatives = [abs(x) for x in numbers if x<0]\n",
    "\n",
    "print(absolute_negatives)\n"
   ]
  },
  {
   "cell_type": "code",
   "execution_count": null,
   "id": "8efafa6e",
   "metadata": {},
   "outputs": [
    {
     "name": "stdout",
     "output_type": "stream",
     "text": [
      "[12, 5, 9]\n"
     ]
    }
   ],
   "source": [
    "numbers = [12, -7, 5, -3, 0, -1, 9]\n",
    "\n",
    "# use list comprehension that contains only the positive numbers from the original list.\n",
    "\n",
    "positives = [abs(number) for number in numbers if number > 0]\n",
    "print(positives)\n"
   ]
  },
  {
   "cell_type": "code",
   "execution_count": null,
   "id": "f06a969d",
   "metadata": {},
   "outputs": [],
   "source": [
    "# Write a Python program using list comprehension to create a new list that contains only the unique elements while preserving the original order."
   ]
  },
  {
   "cell_type": "code",
   "execution_count": 175,
   "id": "841b41b6",
   "metadata": {},
   "outputs": [
    {
     "name": "stdout",
     "output_type": "stream",
     "text": [
      "[1, 2, 3, 4, 5]\n"
     ]
    }
   ],
   "source": [
    "numbers = [1, 2, 2, 3, 4, 3, 5, 1]\n",
    "seen = set()\n",
    "unique_lst = [x for x in numbers if not (x in seen or seen.add(x))]\n",
    "print(unique_lst)\n",
    "\n"
   ]
  },
  {
   "cell_type": "code",
   "execution_count": 178,
   "id": "34b87a31",
   "metadata": {},
   "outputs": [
    {
     "name": "stdout",
     "output_type": "stream",
     "text": [
      "['apple', 'orange', 'umbrella', 'elephant', 'ice', 'egg']\n"
     ]
    }
   ],
   "source": [
    "words = [\"apple\", \"orange\", \"banana\", \"apple\", \"umbrella\", \"elephant\", \"orange\", \"ice\", \"egg\", \"grape\"]\n",
    "vowels = ['a', 'e', 'i', 'o', 'u']\n",
    "seen = []\n",
    "unique_vowel_words = [x for x in words if x[0].lower() in vowels and not (x in seen or seen.append(x))]\n",
    "print(unique_vowel_words)\n"
   ]
  },
  {
   "cell_type": "markdown",
   "id": "87b7dfa9",
   "metadata": {},
   "source": [
    "#### Conclusion\n",
    "List comprehensions are a powerful and concise way to create lists in Python. They are syntactically compact and can replace more verbose looping constructs. Understanding the syntax of list comprehensions will help you write cleaner and more efficient Python code."
   ]
  },
  {
   "cell_type": "markdown",
   "id": "197316e8",
   "metadata": {},
   "source": []
  }
 ],
 "metadata": {
  "kernelspec": {
   "display_name": "Python 3",
   "language": "python",
   "name": "python3"
  },
  "language_info": {
   "codemirror_mode": {
    "name": "ipython",
    "version": 3
   },
   "file_extension": ".py",
   "mimetype": "text/x-python",
   "name": "python",
   "nbconvert_exporter": "python",
   "pygments_lexer": "ipython3",
   "version": "3.12.0"
  }
 },
 "nbformat": 4,
 "nbformat_minor": 5
}
