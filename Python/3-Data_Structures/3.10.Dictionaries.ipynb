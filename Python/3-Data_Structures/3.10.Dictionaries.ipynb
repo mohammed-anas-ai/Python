{
 "cells": [
  {
   "cell_type": "markdown",
   "id": "e92fa085",
   "metadata": {},
   "source": [
    "##### Introduction to Dictionaries\n",
    "\n",
    "Dictionaries are unordered collections of items. They store data in key-value pairs.\n",
    "Keys must be unique and immutable (e.g., strings, numbers, or tuples), while values can be of any type."
   ]
  },
  {
   "cell_type": "code",
   "execution_count": 47,
   "id": "64e91637",
   "metadata": {},
   "outputs": [
    {
     "name": "stdout",
     "output_type": "stream",
     "text": [
      "{}\n",
      "<class 'dict'>\n",
      "{}\n",
      "<class 'dict'>\n"
     ]
    }
   ],
   "source": [
    "## Creation of Dictionaries.\n",
    "\n",
    "## Empty Dictonary\n",
    "\n",
    "empty_dict = dict()\n",
    "print(empty_dict)\n",
    "print(type(empty_dict))\n",
    "\n",
    "empty_dict_new = {}\n",
    "print(empty_dict_new)\n",
    "print(type(empty_dict_new))"
   ]
  },
  {
   "cell_type": "code",
   "execution_count": 48,
   "id": "ce8d2abe",
   "metadata": {},
   "outputs": [
    {
     "name": "stdout",
     "output_type": "stream",
     "text": [
      "{'name': 'anas', 'hobbies': ('coding', 'architecture', 'reading'), 'designation': 'Data Scientist'}\n"
     ]
    }
   ],
   "source": [
    "## Dictionary\n",
    "\n",
    "dict_elements = {'name':'anas','hobbies':('coding','architecture','reading'),'designation':'Data Scientist'}\n",
    "print(dict_elements)"
   ]
  },
  {
   "cell_type": "code",
   "execution_count": 49,
   "id": "ff7806ec",
   "metadata": {},
   "outputs": [
    {
     "name": "stdout",
     "output_type": "stream",
     "text": [
      "{'name': 'Python', 'age': 23}\n"
     ]
    }
   ],
   "source": [
    "## Keys must be unique and immutable.\n",
    "\n",
    "dict_elements = dict({'name':'anas','age':23,'name':'Python'})\n",
    "print(dict_elements)"
   ]
  },
  {
   "cell_type": "code",
   "execution_count": 50,
   "id": "c1701507",
   "metadata": {},
   "outputs": [
    {
     "ename": "TypeError",
     "evalue": "unhashable type: 'list'",
     "output_type": "error",
     "traceback": [
      "\u001b[31m---------------------------------------------------------------------------\u001b[39m",
      "\u001b[31mTypeError\u001b[39m                                 Traceback (most recent call last)",
      "\u001b[36mCell\u001b[39m\u001b[36m \u001b[39m\u001b[32mIn[50]\u001b[39m\u001b[32m, line 3\u001b[39m\n\u001b[32m      1\u001b[39m \u001b[38;5;66;03m## It can contain keys as immutable data type only otherwise it will throw an error.\u001b[39;00m\n\u001b[32m----> \u001b[39m\u001b[32m3\u001b[39m dict_items = \u001b[38;5;28mdict\u001b[39m({\u001b[33m'\u001b[39m\u001b[33mname\u001b[39m\u001b[33m'\u001b[39m:\u001b[33m'\u001b[39m\u001b[33manas\u001b[39m\u001b[33m'\u001b[39m,[\u001b[33m'\u001b[39m\u001b[33mlst\u001b[39m\u001b[33m'\u001b[39m]:\u001b[33m'\u001b[39m\u001b[33mstudent_id\u001b[39m\u001b[33m'\u001b[39m})\n\u001b[32m      4\u001b[39m dict_items\n",
      "\u001b[31mTypeError\u001b[39m: unhashable type: 'list'"
     ]
    }
   ],
   "source": [
    "## It can contain keys as immutable data type only otherwise it will throw an error.\n",
    "\n",
    "dict_items = dict({'name':'anas',['lst']:'student_id'})\n",
    "dict_items\n"
   ]
  },
  {
   "cell_type": "code",
   "execution_count": 71,
   "id": "b7406b47",
   "metadata": {},
   "outputs": [
    {
     "name": "stdout",
     "output_type": "stream",
     "text": [
      "{'name': 'anas bs', 'age': 24, 'hobby': 'coding', 'designation': 'data scientist'}\n"
     ]
    }
   ],
   "source": [
    "student = dict({'name':'anas bs','age':24,'hobby':'coding','designation':'data scientist'})\n",
    "print(student)"
   ]
  },
  {
   "cell_type": "code",
   "execution_count": 54,
   "id": "ab616789",
   "metadata": {},
   "outputs": [
    {
     "name": "stdout",
     "output_type": "stream",
     "text": [
      "programming\n",
      "bechkam\n",
      "{'name': 'drogba', 'hobby': 'watching movies'}\n"
     ]
    }
   ],
   "source": [
    "student_details = {\n",
    "    'student_1': {'name': 'alex', 'hobby': 'programming'},\n",
    "    'student_2': {'name': 'bechkam', 'hobby': 'sleeping'},\n",
    "    'student_3': {'name': 'drogba', 'hobby': 'watching movies'}\n",
    "}\n",
    "\n",
    "print(student_details['student_1']['hobby'])\n",
    "print(student_details['student_2'].get('name'))\n",
    "print(student_details.get('student_3'))\n"
   ]
  },
  {
   "cell_type": "code",
   "execution_count": 51,
   "id": "f167b8f3",
   "metadata": {},
   "outputs": [
    {
     "name": "stdout",
     "output_type": "stream",
     "text": [
      "{frozenset({('hobby', 'programming'), ('name', 'anas')}): 'student_1', frozenset({('hobby', 'sleeping'), ('name', 'hafsa')}): 'student_2'}\n"
     ]
    }
   ],
   "source": [
    "stud_details_new = {\n",
    "    frozenset({'name':'anas','hobby':'programming'}.items()):'student_1',\n",
    "    frozenset({'name':'hafsa','hobby':'sleeping'}.items()):'student_2'\n",
    "}\n",
    "\n",
    "print(stud_details_new)"
   ]
  },
  {
   "cell_type": "code",
   "execution_count": 57,
   "id": "289abee0",
   "metadata": {},
   "outputs": [
    {
     "name": "stdout",
     "output_type": "stream",
     "text": [
      "{'student_1': {'name': 'alex', 'hobby': 'programming'}, 'student_2': {'name': 'bechkam', 'hobby': 'sleeping'}, 'student_3': {'name': 'drogba', 'hobby': 'watching movies'}}\n",
      "alex\n",
      "drogba\n"
     ]
    }
   ],
   "source": [
    "## Accessing the elements from the dictionary.\n",
    "\n",
    "## Accessing using the keys.\n",
    "\n",
    "print(student_details)\n",
    "\n",
    "print(student_details['student_1']['name'])\n",
    "print(student_details['student_3']['name'])\n",
    "\n"
   ]
  },
  {
   "cell_type": "code",
   "execution_count": 63,
   "id": "7893ad3d",
   "metadata": {},
   "outputs": [
    {
     "name": "stdout",
     "output_type": "stream",
     "text": [
      "alex\n",
      "watching movies\n"
     ]
    }
   ],
   "source": [
    "## Accessing using the get method.\n",
    "\n",
    "print(student_details['student_1'].get('name'))\n",
    "print(student_details['student_3']['hobby'])\n",
    "\n"
   ]
  },
  {
   "cell_type": "code",
   "execution_count": null,
   "id": "9e0402d1",
   "metadata": {},
   "outputs": [],
   "source": [
    "## Modifying the dictionary elements.\n",
    "\n",
    "## Dictionaries are mutable therefore, we can add, update and delete"
   ]
  },
  {
   "cell_type": "code",
   "execution_count": 80,
   "id": "2e749abe",
   "metadata": {},
   "outputs": [
    {
     "name": "stdout",
     "output_type": "stream",
     "text": [
      "0x1e74f65b700\n",
      "{'name': 'anas bs', 'age': 24, 'hobby': 'reading research papers', 'designation': 'data scientist', 'nationaity': 'India'}\n",
      "2092981139200\n",
      "{'name': 'anas bs', 'age': 24, 'hobby': 'reading research papers', 'designation': 'data scientist', 'nationaity': 'India', 'address': 'downtown'}\n",
      "0x1e74f65b700\n",
      "{'name': 'anas bs', 'age': 24, 'hobby': 'reading research papers', 'designation': 'data scientist', 'nationaity': 'India', 'address': 'downtown'}\n",
      "0x1e74f65b700\n"
     ]
    }
   ],
   "source": [
    "print(hex(id(student)))\n",
    "\n",
    "student['age'] = 24 ## Update value for the key.\n",
    "print(student)\n",
    "print(id(student))\n",
    "\n",
    "student['address'] = 'downtown' ## Adds a key value pair to the existing dictionary\n",
    "print(student)\n",
    "print(hex(id(student)))\n",
    "\n",
    "student['nationaity'] = 'India'\n",
    "print(student)\n",
    "print(hex(id(student)))\n"
   ]
  },
  {
   "cell_type": "code",
   "execution_count": 81,
   "id": "1b634956",
   "metadata": {},
   "outputs": [
    {
     "name": "stdout",
     "output_type": "stream",
     "text": [
      "{'name': 'anas bs', 'age': 24, 'hobby': 'reading research papers', 'designation': 'data scientist', 'nationaity': 'India'}\n"
     ]
    }
   ],
   "source": [
    "## Deleting a key using the del keyword\n",
    "\n",
    "del student['address'] # Deleting specific key value pair\n",
    "\n",
    "print(student)\n",
    "\n",
    "# sample_dict = {'name':'ai','subset':['ml','dl','NLP','gen ai','agentic ai']}\n",
    "\n",
    "# del sample_dict # Deleting whole dictionary\n",
    "\n",
    "# print(sample_dict)"
   ]
  },
  {
   "cell_type": "code",
   "execution_count": null,
   "id": "ff55e69f",
   "metadata": {},
   "outputs": [
    {
     "name": "stdout",
     "output_type": "stream",
     "text": [
      "dict_keys(['name', 'age', 'hobby', 'designation', 'city', 'address', 'nationaity'])\n",
      "dict_values(['anas bs', 24, 'coding', 'data scientist', 'dubai', 'downtown', 'India'])\n",
      "dict_items([('name', 'anas bs'), ('age', 24), ('hobby', 'coding'), ('designation', 'data scientist'), ('city', 'dubai'), ('address', 'downtown'), ('nationaity', 'India')])\n"
     ]
    }
   ],
   "source": [
    "## Dictionary methods.\n",
    "\n",
    "## Get all the keys form the dict.\n",
    "keys = student.keys()\n",
    "print(keys)\n",
    "\n",
    "## Get all the values from the specifed dict.\n",
    "values = student.values()\n",
    "print(values)\n",
    "\n",
    "## Get all the keys from the specified dict.\n",
    "items = student.items()\n",
    "print(items)"
   ]
  },
  {
   "cell_type": "code",
   "execution_count": null,
   "id": "588f0c2c",
   "metadata": {},
   "outputs": [
    {
     "name": "stdout",
     "output_type": "stream",
     "text": [
      "{'name': 'anas bs', 'age': 24, 'hobby': 'coding', 'designation': 'AI Scientist', 'city': 'abu dhabi', 'address': 'downtown', 'nationaity': 'India', 'marital': 'single'}\n",
      "{'name': 'anas bs', 'age': 24, 'hobby': 'coding', 'designation': 'AI Scientist', 'city': 'abu dhabi', 'address': 'downtown', 'nationaity': 'India', 'marital': 'single'}\n",
      "{'name': 'anas bs', 'age': 24, 'hobby': 'hitting gym', 'designation': 'AI Scientist', 'city': 'abu dhabi', 'address': 'downtown', 'nationaity': 'India', 'marital': 'single'}\n",
      "{'name': 'anas bs', 'age': 24, 'hobby': 'hitting gym', 'designation': 'AI Scientist', 'city': 'abu dhabi', 'address': 'downtown', 'nationaity': 'India', 'marital': 'single'}\n"
     ]
    }
   ],
   "source": [
    "student_copy=student\n",
    "\n",
    "student['city'] = 'abu dhabi'\n",
    "print(student_copy)\n",
    "print(student)\n",
    "student_copy['hobby'] = 'hitting gym'\n",
    "print(student)\n",
    "print(student_copy)"
   ]
  },
  {
   "cell_type": "code",
   "execution_count": null,
   "id": "4313d1eb",
   "metadata": {},
   "outputs": [
    {
     "name": "stdout",
     "output_type": "stream",
     "text": [
      "{'name': 'anas bs', 'age': 24, 'hobby': 'hitting gym', 'designation': 'data scientist', 'address': 'downtown', 'nationaity': 'India', 'city': 'new york'}\n",
      "{'name': 'anas bs', 'age': 24, 'hobby': 'hitting gym', 'designation': 'data scientist', 'address': 'downtown', 'nationaity': 'India', 'city': 'abu dhabi'}\n"
     ]
    }
   ],
   "source": [
    "## Shallow copy\n",
    "\n",
    "student_copy_v1 = student.copy()\n",
    "\n",
    "student['city'] ='new york'\n",
    "\n",
    "print(student)\n",
    "print(student_copy_v1)"
   ]
  },
  {
   "cell_type": "code",
   "execution_count": null,
   "id": "170647ae",
   "metadata": {},
   "outputs": [
    {
     "name": "stdout",
     "output_type": "stream",
     "text": [
      "{'name': 'anas bs', 'age': 23, 'hobby': 'hitting gym', 'designation': 'AI Scientist', 'city': 'new york', 'address': 'downtown', 'nationaity': 'India', 'marital': 'single'}\n",
      "{'name': 'anas bs', 'age': 24, 'hobby': 'hitting gym', 'designation': 'AI Scientist', 'city': 'abu dhabi', 'address': 'downtown', 'nationaity': 'India', 'marital': 'single'}\n"
     ]
    }
   ],
   "source": [
    "student['age'] = 23\n",
    "print(student)s\n",
    "print(student_copy_v1 )"
   ]
  },
  {
   "cell_type": "code",
   "execution_count": 96,
   "id": "0b46e975",
   "metadata": {},
   "outputs": [
    {
     "name": "stdout",
     "output_type": "stream",
     "text": [
      "name\n",
      "age\n",
      "hobby\n",
      "designation\n",
      "nationaity\n",
      "nationality\n"
     ]
    }
   ],
   "source": [
    "## Iterate over dictionaries.\n",
    "\n",
    "## We can use the loops to iterate over dictionaries, keys, values, items.\n",
    "\n",
    "## Iterate over keys\n",
    "\n",
    "for keys in student.keys():\n",
    "    print(keys)"
   ]
  },
  {
   "cell_type": "code",
   "execution_count": null,
   "id": "31747adb",
   "metadata": {},
   "outputs": [
    {
     "name": "stdout",
     "output_type": "stream",
     "text": [
      "anas bs\n",
      "23\n",
      "hitting gym\n",
      "AI Scientist\n",
      "new york\n",
      "downtown\n",
      "India\n",
      "single\n"
     ]
    }
   ],
   "source": [
    "## Iterate over values\n",
    "\n",
    "for value in student.values():\n",
    "    print(value)"
   ]
  },
  {
   "cell_type": "code",
   "execution_count": null,
   "id": "1dc59ce4",
   "metadata": {},
   "outputs": [
    {
     "name": "stdout",
     "output_type": "stream",
     "text": [
      "('name', 'anas bs')\n",
      "('age', 23)\n",
      "('hobby', 'hitting gym')\n",
      "('designation', 'AI Scientist')\n",
      "('city', 'new york')\n",
      "('address', 'downtown')\n",
      "('nationaity', 'India')\n",
      "('marital', 'single')\n"
     ]
    }
   ],
   "source": [
    "## Iterate over items\n",
    "\n",
    "for items in student.items():\n",
    "    print(items)"
   ]
  },
  {
   "cell_type": "code",
   "execution_count": null,
   "id": "a2c052cc",
   "metadata": {},
   "outputs": [
    {
     "name": "stdout",
     "output_type": "stream",
     "text": [
      "name anas bs\n",
      "age 24\n",
      "hobby hitting gym\n",
      "city new york\n",
      "address downtown\n",
      "nationaity India\n"
     ]
    }
   ],
   "source": [
    "## Iterate over key, value pairs.\n",
    "for key,value in student.items():\n",
    "    print(key,value)"
   ]
  },
  {
   "cell_type": "code",
   "execution_count": 102,
   "id": "eb12a94e",
   "metadata": {},
   "outputs": [
    {
     "name": "stdout",
     "output_type": "stream",
     "text": [
      "{'student1': {'name': 'anas', 'age': 23, 'hobby': {'data science', 'LLM\"S', 'NLP', 'programming'}}, 'student2': {'name': 'hafsa', 'age': 2, 'hobby': {'eating', 'playing', 'walking'}}, 'student3': {'name': 'azeez', 'age': 52, 'hobby': {'petrol head', 'riding'}}}\n"
     ]
    }
   ],
   "source": [
    "## Nested Dictionaries\n",
    "\n",
    "nested_dict = {\n",
    "    'student1' : {'name':'anas','age':23,'hobby':{'programming','data science','NLP','LLM\"S'}},\n",
    "    'student2' : {'name':'hafsa','age':2,'hobby':{'playing','eating','walking'}},\n",
    "    'student3' :{'name':'azeez','age':52,'hobby':{'riding','petrol head'}}\n",
    "}\n",
    "\n",
    "\n",
    "print(nested_dict)"
   ]
  },
  {
   "cell_type": "code",
   "execution_count": 103,
   "id": "58f41eeb",
   "metadata": {},
   "outputs": [
    {
     "name": "stdout",
     "output_type": "stream",
     "text": [
      "{'data science', 'LLM\"S', 'NLP', 'programming'}\n",
      "anas\n",
      "hafsa\n",
      "{'petrol head', 'riding'}\n",
      "anas\n"
     ]
    }
   ],
   "source": [
    "## Acessing the nested dictionary elements.\n",
    "\n",
    "print(nested_dict['student1']['hobby'])\n",
    "print(nested_dict['student1']['name'])\n",
    "print(nested_dict['student2']['name'])\n",
    "print(nested_dict['student3']['hobby'])\n",
    "print(nested_dict['student1']['name'])\n"
   ]
  },
  {
   "cell_type": "code",
   "execution_count": null,
   "id": "6819e692",
   "metadata": {},
   "outputs": [
    {
     "name": "stdout",
     "output_type": "stream",
     "text": [
      "student1 {'name': 'anas', 'age': 23, 'hobby': {'programming', 'LLM\"S', 'NLP', 'data science'}}\n",
      "name anas\n",
      "age 23\n",
      "hobby {'programming', 'LLM\"S', 'NLP', 'data science'}\n",
      "student2 {'name': 'hafsa', 'age': 2, 'hobby': {'eating', 'walking', 'playing'}}\n",
      "name hafsa\n",
      "age 2\n",
      "hobby {'eating', 'walking', 'playing'}\n",
      "student3 {'name': 'azeez', 'age': 52, 'hobby': {'riding', 'petrol head'}}\n",
      "name azeez\n",
      "age 52\n",
      "hobby {'riding', 'petrol head'}\n"
     ]
    }
   ],
   "source": [
    "## Iterating over nested dictionaries\n",
    "\n",
    "for student_id,student_info in nested_dict.items():\n",
    "    print(student_id,student_info)\n",
    "    for key,value in student_info.items():\n",
    "        print(key,value)"
   ]
  },
  {
   "cell_type": "code",
   "execution_count": null,
   "id": "d0b8b150",
   "metadata": {},
   "outputs": [
    {
     "name": "stdout",
     "output_type": "stream",
     "text": [
      "{1: 1, 2: 4, 3: 9, 4: 16, 5: 25, 6: 36, 7: 49, 8: 64, 9: 81, 10: 100}\n"
     ]
    }
   ],
   "source": [
    "## Dictionary comprehension.\n",
    "\n",
    "# Find the sqaures of a number using first 10 positive numbers.\n",
    "\n",
    "squares = {x:x**2 for x in range(1,11)}\n",
    "print(squares)"
   ]
  },
  {
   "cell_type": "code",
   "execution_count": null,
   "id": "34b9710e",
   "metadata": {},
   "outputs": [
    {
     "data": {
      "text/plain": [
       "{2: 4, 4: 16, 6: 36, 8: 64, 10: 100}"
      ]
     },
     "execution_count": 75,
     "metadata": {},
     "output_type": "execute_result"
    }
   ],
   "source": [
    "## Nested dictionary using conditional statements.\n",
    "\n",
    "even_numbers = {x:x**2 for x in range(1,11) if x%2 == 0}\n",
    "even_numbers"
   ]
  },
  {
   "cell_type": "code",
   "execution_count": null,
   "id": "cdf1c8ea",
   "metadata": {},
   "outputs": [
    {
     "data": {
      "text/plain": [
       "{1: 1, 3: 3, 5: 5, 7: 7, 9: 9}"
      ]
     },
     "execution_count": 76,
     "metadata": {},
     "output_type": "execute_result"
    }
   ],
   "source": [
    "odd_numbers = {odd:odd for odd in range(1,11) if odd%2 == 1}\n",
    "odd_numbers"
   ]
  },
  {
   "cell_type": "code",
   "execution_count": null,
   "id": "ab6aa215",
   "metadata": {},
   "outputs": [
    {
     "name": "stdout",
     "output_type": "stream",
     "text": [
      "{1: 1, 2: 3, 3: 1, 4: 5, 5: 7}\n"
     ]
    }
   ],
   "source": [
    "## Practical examples.\n",
    "\n",
    "## Use a dictionary to count the frequency of elements in a list.\n",
    "\n",
    "numbers = [1,2,2,2,3,4,4,4,4,4,5,5,5,5,5,5,5]\n",
    "frequency = dict()\n",
    "\n",
    "for number in numbers:\n",
    "   if number in frequency:\n",
    "      frequency[number] += 1\n",
    "   else:\n",
    "      frequency[number] = 1    \n",
    "\n",
    "print(frequency)      "
   ]
  },
  {
   "cell_type": "code",
   "execution_count": null,
   "id": "53872bf8",
   "metadata": {},
   "outputs": [
    {
     "name": "stdout",
     "output_type": "stream",
     "text": [
      "{'a': 1, 'b': 2, 'c': 3, 'd': 4}\n"
     ]
    }
   ],
   "source": [
    "## Merge two dictionaries into one.\n",
    "\n",
    "dict_1 = {'a':1,'b':2}\n",
    "dict_2 = {'c':3,'d':4}\n",
    "\n",
    "merged_dict = {**dict_1,**dict_2}\n",
    "print(merged_dict)"
   ]
  },
  {
   "cell_type": "code",
   "execution_count": null,
   "id": "40f90256",
   "metadata": {},
   "outputs": [
    {
     "name": "stdout",
     "output_type": "stream",
     "text": [
      "{'Anas': 85, 'Bilal': 92, 'Clara': 78, 'Mikku': 60}\n",
      "85\n",
      "92\n"
     ]
    }
   ],
   "source": [
    "students = [\"Anas\", \"Bilal\", \"Clara\", \"Mikku\"]\n",
    "grades = [85, 92, 78, 60]\n",
    "\n",
    "# Step 1: Create dictionary using zip\n",
    "student_grades = dict(zip(students,grades))\n",
    "print(student_grades)\n",
    "\n",
    "# Step 2: Print students with grades > 80\n",
    "for student,grade in student_grades.items():\n",
    "    if grade > 80:\n",
    "        print(grade)\n"
   ]
  },
  {
   "cell_type": "code",
   "execution_count": null,
   "id": "f2ea36ea",
   "metadata": {},
   "outputs": [
    {
     "name": "stdout",
     "output_type": "stream",
     "text": [
      "{'learning': 1, 'python': 2, 'is': 2, 'fun': 1, 'and': 1, 'powerful': 1}\n"
     ]
    }
   ],
   "source": [
    "sentence = \"learning python is fun and python is powerful\"\n",
    "words = sentence.split()\n",
    "\n",
    "word_counts = {}\n",
    "\n",
    "for word in words:\n",
    "    if word in word_counts:\n",
    "        word_counts[word] += 1\n",
    "    else:\n",
    "        word_counts[word] = 1\n",
    "        \n",
    "print(word_counts)            "
   ]
  },
  {
   "cell_type": "markdown",
   "id": "b5db09c7",
   "metadata": {},
   "source": [
    "#### Conclusion\n",
    "Dictionaries are powerful data types in Python for managing key-value pairs. They are used in a variety of real-world scenarios, such as counting word frequency, grouping data, storing configuration settings, managing phonebooks, tracking inventory, and caching results. Understanding how to leverage dictionaries effectively can greatly enhance the efficiency and readability of your code."
   ]
  },
  {
   "cell_type": "markdown",
   "id": "bf989070",
   "metadata": {},
   "source": []
  }
 ],
 "metadata": {
  "kernelspec": {
   "display_name": "Python 3",
   "language": "python",
   "name": "python3"
  },
  "language_info": {
   "codemirror_mode": {
    "name": "ipython",
    "version": 3
   },
   "file_extension": ".py",
   "mimetype": "text/x-python",
   "name": "python",
   "nbconvert_exporter": "python",
   "pygments_lexer": "ipython3",
   "version": "3.12.0"
  }
 },
 "nbformat": 4,
 "nbformat_minor": 5
}
