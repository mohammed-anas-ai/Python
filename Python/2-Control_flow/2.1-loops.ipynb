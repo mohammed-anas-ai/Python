{
 "cells": [
  {
   "cell_type": "markdown",
   "id": "3fd47f5f",
   "metadata": {},
   "source": [
    "### Loops in Python.\n",
    "\n",
    "### Python consist of two types of loops which are outlined below:\n",
    "\n",
    "#### 1. For loop.\n",
    "#### 2 . While loop\n",
    "\n"
   ]
  },
  {
   "cell_type": "code",
   "execution_count": 1,
   "id": "759f9541",
   "metadata": {},
   "outputs": [
    {
     "name": "stdout",
     "output_type": "stream",
     "text": [
      "1\n",
      "2\n",
      "3\n",
      "4\n",
      "5\n",
      "6\n",
      "7\n",
      "8\n",
      "9\n",
      "10\n"
     ]
    }
   ],
   "source": [
    "## For loops is used to iterate over the python sequence.\n",
    "\n",
    "for i in range(1,11):\n",
    "    print(i)"
   ]
  },
  {
   "cell_type": "code",
   "execution_count": 19,
   "id": "430a525a",
   "metadata": {},
   "outputs": [
    {
     "name": "stdout",
     "output_type": "stream",
     "text": [
      "10\n",
      "9\n",
      "8\n",
      "7\n",
      "6\n",
      "5\n",
      "4\n",
      "3\n",
      "2\n",
      "1\n"
     ]
    }
   ],
   "source": [
    "for i in range(10,0,-1):\n",
    "    print(i)"
   ]
  },
  {
   "cell_type": "code",
   "execution_count": 3,
   "id": "ad3e7e68",
   "metadata": {},
   "outputs": [
    {
     "name": "stdout",
     "output_type": "stream",
     "text": [
      "1\n",
      "3\n",
      "5\n",
      "7\n",
      "9\n"
     ]
    }
   ],
   "source": [
    "for i in range(1,11,2):\n",
    "    print(i)\n"
   ]
  },
  {
   "cell_type": "code",
   "execution_count": 4,
   "id": "7c3d2b97",
   "metadata": {},
   "outputs": [
    {
     "name": "stdout",
     "output_type": "stream",
     "text": [
      "1\n",
      "4\n",
      "7\n",
      "10\n"
     ]
    }
   ],
   "source": [
    "for i in range(1,11,3):\n",
    "    print(i)"
   ]
  },
  {
   "cell_type": "code",
   "execution_count": 5,
   "id": "64902e58",
   "metadata": {},
   "outputs": [
    {
     "name": "stdout",
     "output_type": "stream",
     "text": [
      "h\n",
      "e\n",
      "l\n",
      "l\n",
      "o\n",
      " \n",
      "w\n",
      "o\n",
      "r\n",
      "l\n",
      "d\n"
     ]
    }
   ],
   "source": [
    "s = 'hello world'\n",
    "\n",
    "for i in s:\n",
    "    print(i)"
   ]
  },
  {
   "cell_type": "code",
   "execution_count": 7,
   "id": "f218efc1",
   "metadata": {},
   "outputs": [
    {
     "name": "stdout",
     "output_type": "stream",
     "text": [
      "('name', 'ML')\n",
      "('class', 'Linear Regression')\n"
     ]
    }
   ],
   "source": [
    "D = {'name':'ML','class':'Linear Regression'}\n",
    "\n",
    "for i in D.items():\n",
    "    print(i)"
   ]
  },
  {
   "cell_type": "code",
   "execution_count": 10,
   "id": "ed369e43",
   "metadata": {},
   "outputs": [
    {
     "name": "stdout",
     "output_type": "stream",
     "text": [
      "1 1\n",
      "1 2\n",
      "1 3\n",
      "2 1\n",
      "2 2\n",
      "2 3\n",
      "3 1\n",
      "3 2\n",
      "3 3\n"
     ]
    }
   ],
   "source": [
    "## Nested for loops\n",
    "\n",
    "for i in range(1,4):\n",
    "    for j in range(1,4):\n",
    "        print(i,j)\n"
   ]
  },
  {
   "cell_type": "code",
   "execution_count": 23,
   "id": "437877b8",
   "metadata": {},
   "outputs": [
    {
     "name": "stdout",
     "output_type": "stream",
     "text": [
      "The first n natural numbers are : 55\n"
     ]
    }
   ],
   "source": [
    "## Examples- Calculate the sum of first N natural numbers using a for loop\n",
    "\n",
    "number = int(input(\"Enter the number :\"))\n",
    "sum = 0\n",
    "for i in range(1,number+1):\n",
    "    sum += i\n",
    "print(\"The first n natural numbers are :\",sum)    "
   ]
  },
  {
   "cell_type": "code",
   "execution_count": 24,
   "id": "6abc544c",
   "metadata": {},
   "outputs": [
    {
     "name": "stdout",
     "output_type": "stream",
     "text": [
      "4 4\n",
      "4 3\n",
      "4 2\n",
      "3 4\n",
      "3 3\n",
      "3 2\n",
      "2 4\n",
      "2 3\n",
      "2 2\n"
     ]
    }
   ],
   "source": [
    "for i in range(4,1,-1):\n",
    "    for j in range(4,1,-1):\n",
    "        print(i,j)"
   ]
  },
  {
   "cell_type": "code",
   "execution_count": 25,
   "id": "7c766278",
   "metadata": {},
   "outputs": [
    {
     "name": "stdout",
     "output_type": "stream",
     "text": [
      "*\n",
      "**\n",
      "***\n",
      "****\n",
      "*****\n"
     ]
    }
   ],
   "source": [
    "## Write a program to print the aestrik based on the given input.\n",
    "\n",
    "rows = int(input(\"Enter the number of rows :\"))\n",
    "\n",
    "for i in range(1,rows+1):\n",
    "    for j in range(1,i+1):\n",
    "        print('*',end='')\n",
    "    print()    "
   ]
  },
  {
   "cell_type": "code",
   "execution_count": 26,
   "id": "5697f344",
   "metadata": {},
   "outputs": [
    {
     "name": "stdout",
     "output_type": "stream",
     "text": [
      "1\n",
      "121\n",
      "12321\n",
      "1234321\n",
      "123454321\n"
     ]
    }
   ],
   "source": [
    "## Write a program to find the below:\n",
    "\n",
    "## 1\n",
    "## 121\n",
    "## 12321\n",
    "\n",
    "number = int(input(\"Enter the number :\"))\n",
    "\n",
    "for i in range(1,number+1):\n",
    "    for j in range(1,i+1):\n",
    "        print(j,end='')\n",
    "    for k in range(i-1,0,-1):\n",
    "        print(k,end='')\n",
    "    print()    \n",
    "\n"
   ]
  },
  {
   "cell_type": "code",
   "execution_count": 27,
   "id": "4f26ff5a",
   "metadata": {},
   "outputs": [
    {
     "name": "stdout",
     "output_type": "stream",
     "text": [
      "0\n",
      "1\n",
      "2\n",
      "3\n",
      "limit exceeded\n"
     ]
    }
   ],
   "source": [
    "## In python else conditional statements can be used with loops.\n",
    "\n",
    "for i in range(4):\n",
    "    print(i)\n",
    "else:\n",
    "    print(\"limit exceeded\")    "
   ]
  },
  {
   "cell_type": "code",
   "execution_count": null,
   "id": "0f7278f7",
   "metadata": {},
   "outputs": [
    {
     "name": "stdout",
     "output_type": "stream",
     "text": [
      "1\n",
      "2\n",
      "3\n",
      "4\n",
      "5\n",
      "6\n"
     ]
    }
   ],
   "source": [
    "## While loop\n",
    "\n",
    "## While loop is used to execute the block of code as long as the condition is met.\n",
    "\n",
    "i = 1 # initilization\n",
    "\n",
    "while i < 6: # Condition\n",
    "    print(i)\n",
    "    i += 1 # increment/decrement"
   ]
  },
  {
   "cell_type": "code",
   "execution_count": 2,
   "id": "401b6285",
   "metadata": {},
   "outputs": [
    {
     "name": "stdout",
     "output_type": "stream",
     "text": [
      "11 * 1 = 11\n",
      "11 * 2 = 22\n",
      "11 * 3 = 33\n",
      "11 * 4 = 44\n",
      "11 * 5 = 55\n",
      "11 * 6 = 66\n",
      "11 * 7 = 77\n",
      "11 * 8 = 88\n",
      "11 * 9 = 99\n",
      "11 * 10 = 110\n"
     ]
    }
   ],
   "source": [
    "## Write a program to print the table of a given number.\n",
    "\n",
    "number = int(input(\"Enter the number :\"))\n",
    "\n",
    "i = 1\n",
    "\n",
    "while i < 11:\n",
    "    print(number,'*',i,'=',number*i)\n",
    "    i += 1"
   ]
  },
  {
   "cell_type": "code",
   "execution_count": null,
   "id": "5ce9a0ca",
   "metadata": {},
   "outputs": [
    {
     "name": "stdout",
     "output_type": "stream",
     "text": [
      "Guess higher.\n",
      "Guess lower\n",
      "Guess higher.\n",
      "Guess higher.\n",
      "Guess lower\n",
      "Guess lower\n",
      "Guess lower\n",
      "You have guessed it correct. 61\n",
      "The number of attempts taken are : 8\n"
     ]
    }
   ],
   "source": [
    "## Write a program to create a guessing game using the while loop and random module.\n",
    "\n",
    "import random\n",
    "\n",
    "jackpot = random.randint(1,100)\n",
    "\n",
    "guess = int(input(\"Guess the number :\"))\n",
    "counter = 1\n",
    "\n",
    "while guess != jackpot:\n",
    "\n",
    "    if guess < jackpot:\n",
    "        print(\"Guess higher\")\n",
    "    else:\n",
    "        print(\"Guess lower\") \n",
    "\n",
    "    guess = int(input(\"Guess the number again :\"))\n",
    "    counter += 1\n",
    "\n",
    "else:    \n",
    "    print(\"You have guessed it correct.\",guess)\n",
    "    print(\"The number of attempts taken are :\",counter)             "
   ]
  },
  {
   "cell_type": "code",
   "execution_count": 8,
   "id": "b67ac3bb",
   "metadata": {},
   "outputs": [
    {
     "name": "stdout",
     "output_type": "stream",
     "text": [
      "* \n",
      "* * \n",
      "* * * \n"
     ]
    }
   ],
   "source": [
    "# *\n",
    "# * *\n",
    "# * * *\n",
    "\n",
    "i = 1                     # Outer loop counter (rows)\n",
    "while i <= 3:             # Outer loop: runs 3 times\n",
    "    j = 1                 # Inner loop counter (stars in each row)\n",
    "    while j <= i:         # Inner loop: prints i stars\n",
    "        print(\"*\", end=\" \")\n",
    "        j += 1            # Move to next star\n",
    "    print()               # Move to next line after inner loop\n",
    "    i += 1                # Move to next row\n",
    "\n"
   ]
  },
  {
   "cell_type": "code",
   "execution_count": 42,
   "id": "ac993fa7",
   "metadata": {},
   "outputs": [
    {
     "name": "stdout",
     "output_type": "stream",
     "text": [
      "1 \n",
      "1 2 \n",
      "1 2 3 \n",
      "1 2 3 4 \n"
     ]
    }
   ],
   "source": [
    "# 1 \n",
    "# 1 2 \n",
    "# 1 2 3 \n",
    "# 1 2 3 4 \n",
    "\n",
    "i = 1\n",
    "while i <=4:\n",
    "    j = 1\n",
    "    while j <=i:\n",
    "        print(j,end=' ') \n",
    "        j += 1\n",
    "    print()\n",
    "    i += 1    \n"
   ]
  },
  {
   "cell_type": "code",
   "execution_count": 48,
   "id": "3f0a561f",
   "metadata": {},
   "outputs": [
    {
     "name": "stdout",
     "output_type": "stream",
     "text": [
      "The first n natural numbers are: 55\n"
     ]
    }
   ],
   "source": [
    "## Examples- Calculate the sum of first N natural numbers using a while loop.\n",
    "\n",
    "## while loop  \n",
    "\n",
    "n = int(input(\"Enter the number :\"))\n",
    "sum = 0\n",
    "count = 1\n",
    "\n",
    "while count <=n:\n",
    "    sum = sum +count\n",
    "    count += 1\n",
    "print(\"The first n natural numbers are:\",sum)    "
   ]
  },
  {
   "cell_type": "markdown",
   "id": "29aee6d6",
   "metadata": {},
   "source": [
    "#### Loop Control statements"
   ]
  },
  {
   "cell_type": "code",
   "execution_count": 46,
   "id": "170e427c",
   "metadata": {},
   "outputs": [
    {
     "name": "stdout",
     "output_type": "stream",
     "text": [
      "1\n",
      "2\n",
      "3\n",
      "4\n",
      "5\n",
      "6\n"
     ]
    }
   ],
   "source": [
    "## Break\n",
    "\n",
    "## As the name indicates it exits the loop prematurely. In short it avails to exit the loop.\n",
    "\n",
    "for i in range(1,11):\n",
    "    if i == 7:\n",
    "        break\n",
    "    print(i)"
   ]
  },
  {
   "cell_type": "code",
   "execution_count": 23,
   "id": "152a390c",
   "metadata": {},
   "outputs": [
    {
     "name": "stdout",
     "output_type": "stream",
     "text": [
      "11\n",
      "13\n",
      "17\n",
      "19\n",
      "23\n",
      "29\n",
      "31\n",
      "37\n",
      "41\n",
      "43\n",
      "47\n",
      "53\n",
      "59\n",
      "61\n",
      "67\n",
      "71\n",
      "73\n",
      "79\n",
      "83\n",
      "89\n",
      "97\n"
     ]
    }
   ],
   "source": [
    "## Write a program to find the prime number using the break statements.\n",
    "\n",
    "lower = int(input(\"Enter the lower range :\"))\n",
    "upper = int(input(\"Enter the upper range :\"))\n",
    "\n",
    "for i in range(lower,upper+1):\n",
    "    for j in range(2,i):\n",
    "        if i%j == 0:\n",
    "            break\n",
    "    else:\n",
    "        print(i)        "
   ]
  },
  {
   "cell_type": "code",
   "execution_count": 10,
   "id": "0f04ac2c",
   "metadata": {},
   "outputs": [
    {
     "name": "stdout",
     "output_type": "stream",
     "text": [
      "1\n",
      "2\n",
      "4\n",
      "5\n",
      "6\n"
     ]
    }
   ],
   "source": [
    "## Continue - Skips the current iteration and goes next.\n",
    "\n",
    "for i in range(1,7):\n",
    "    if i == 3:\n",
    "        continue\n",
    "    print(i)    "
   ]
  },
  {
   "cell_type": "code",
   "execution_count": 57,
   "id": "8b0029de",
   "metadata": {},
   "outputs": [],
   "source": [
    "## Pass - as the name indicates pass is used to prevents errors and build logic.\n",
    "\n",
    "for i in range(1,11):\n",
    "    pass"
   ]
  },
  {
   "cell_type": "code",
   "execution_count": 11,
   "id": "0a8118cf",
   "metadata": {},
   "outputs": [],
   "source": [
    "# Problem : Find All Prime Numbers in a Range\n",
    "# Write a Python program that:\n",
    "\n",
    "# Asks the user to enter two integers: start and end.\n",
    "\n",
    "# Prints all the prime numbers between start and end (inclusive)."
   ]
  },
  {
   "cell_type": "code",
   "execution_count": 37,
   "id": "2561aaa1",
   "metadata": {},
   "outputs": [
    {
     "name": "stdout",
     "output_type": "stream",
     "text": [
      "Prime numbers between 10 and 30 are:\n",
      "11, 13, 17, 19, 23, 29, "
     ]
    }
   ],
   "source": [
    "start_range = int(input(\"Enter the start range: \"))\n",
    "end_range = int(input(\"Enter the end range: \"))\n",
    "\n",
    "print(f\"Prime numbers between {start_range} and {end_range} are:\")\n",
    "\n",
    "for i in range(start_range, end_range + 1):\n",
    "    if i > 1:  # prime numbers are greater than 1\n",
    "        for j in range(2, i):\n",
    "            if i % j == 0:\n",
    "                # i is divisible by j, so not prime\n",
    "                break\n",
    "        else:\n",
    "            # no divisor found, so i is prime\n",
    "            print(i, end=', ')\n"
   ]
  },
  {
   "cell_type": "code",
   "execution_count": 21,
   "id": "374a627f",
   "metadata": {},
   "outputs": [],
   "source": [
    "\n",
    "# While Loop – Problem 1: Sum Until Zero\n",
    "# Problem Statement:\n",
    "# Write a Python program that keeps asking the user to enter numbers.\n",
    "# It should keep a running sum of all numbers entered.\n",
    "# The loop should stop only when the user enters 0."
   ]
  },
  {
   "cell_type": "code",
   "execution_count": 58,
   "id": "558d1c2a",
   "metadata": {},
   "outputs": [
    {
     "name": "stdout",
     "output_type": "stream",
     "text": [
      "The total sum is: 0\n"
     ]
    }
   ],
   "source": [
    "sum = 0\n",
    "\n",
    "while True:\n",
    "    num = int(input(\"Enter a number (0 to stop): \"))\n",
    "    if num == 0:\n",
    "        break\n",
    "    sum += num\n",
    "\n",
    "print(\"The total sum is:\", sum)\n",
    "\n"
   ]
  }
 ],
 "metadata": {
  "kernelspec": {
   "display_name": "Python 3",
   "language": "python",
   "name": "python3"
  },
  "language_info": {
   "codemirror_mode": {
    "name": "ipython",
    "version": 3
   },
   "file_extension": ".py",
   "mimetype": "text/x-python",
   "name": "python",
   "nbconvert_exporter": "python",
   "pygments_lexer": "ipython3",
   "version": "3.12.0"
  }
 },
 "nbformat": 4,
 "nbformat_minor": 5
}
