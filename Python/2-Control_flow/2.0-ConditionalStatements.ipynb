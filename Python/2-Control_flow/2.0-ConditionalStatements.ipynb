{
 "cells": [
  {
   "cell_type": "markdown",
   "id": "a6fc844d",
   "metadata": {},
   "source": [
    "### Conditional Statements (If, Elif, Else)"
   ]
  },
  {
   "cell_type": "code",
   "execution_count": 4,
   "id": "26e08fce",
   "metadata": {},
   "outputs": [
    {
     "name": "stdout",
     "output_type": "stream",
     "text": [
      "You are eligible to vote\n"
     ]
    }
   ],
   "source": [
    "## If statement -> if statement will execute the block of code within it, if the condition is True.\n",
    "\n",
    "age = 20\n",
    "\n",
    "if age >= 18:\n",
    "    print(\"You are eligible to vote\")"
   ]
  },
  {
   "cell_type": "code",
   "execution_count": 4,
   "id": "f34e38be",
   "metadata": {},
   "outputs": [
    {
     "name": "stdout",
     "output_type": "stream",
     "text": [
      "You are a minor\n"
     ]
    }
   ],
   "source": [
    "## Else statement -> The else statements will execute the code if condition in the if statement is False.\n",
    "\n",
    "age = 17\n",
    "\n",
    "if age >= 18:\n",
    "    print(\"You are eligible to vote\")\n",
    "else:\n",
    "    print(\"You are a minor\")    "
   ]
  },
  {
   "cell_type": "code",
   "execution_count": 12,
   "id": "3bf5489f",
   "metadata": {},
   "outputs": [
    {
     "name": "stdout",
     "output_type": "stream",
     "text": [
      "You are a teenager\n"
     ]
    }
   ],
   "source": [
    "## Elif statement allows you to check multiple conditions - It stands for 'Else If'\n",
    "\n",
    "age = 17\n",
    "\n",
    "if age < 13:\n",
    "    print(\"You are a child\")\n",
    "elif age < 18:\n",
    "    print(\"You are a teenager\") \n",
    "else:\n",
    "    print(\"You are an adult\")       "
   ]
  },
  {
   "cell_type": "code",
   "execution_count": null,
   "id": "606ca23c",
   "metadata": {},
   "outputs": [
    {
     "name": "stdout",
     "output_type": "stream",
     "text": [
      "-2 Is negative.\n"
     ]
    }
   ],
   "source": [
    "## Nested conditional statements\n",
    "\n",
    "## We can place one or more if, elif , else statements inside another if, elif, else statement to create a nested conditional statements.\n",
    "\n",
    "## Write a program to find a given number whether it's a positive, even, odd, zero, negative.\n",
    "\n",
    "number = int(input(\"Enter the number :\"))\n",
    "\n",
    "if number > 0:\n",
    "    if number % 2 == 0:\n",
    "        print(number, \"Is even.\")\n",
    "    else:\n",
    "        print(number,\"Is odd.\")\n",
    "\n",
    "elif number == 0:\n",
    "    print(number,\"Is zero.\")    \n",
    "        \n",
    "else:\n",
    "    print(number,\"Is negative.\")            "
   ]
  },
  {
   "cell_type": "markdown",
   "id": "bbddaebc",
   "metadata": {},
   "source": [
    "#### Conditional Statements Practical Examples"
   ]
  },
  {
   "cell_type": "code",
   "execution_count": 16,
   "id": "8eac20a1",
   "metadata": {},
   "outputs": [
    {
     "name": "stdout",
     "output_type": "stream",
     "text": [
      "2028 Is a leap year\n"
     ]
    }
   ],
   "source": [
    "## Write a program to determine if a year is a leap year using the nested conditional statements.\n",
    "\n",
    "year = int(input('Enter the year :'))\n",
    "\n",
    "if year%4 == 0:\n",
    "    if year%100 == 0:\n",
    "        if year%400 == 0:\n",
    "            print(year,\"Is a leap year.\")\n",
    "        else:\n",
    "            print(year,\"Is not a leap year.\")\n",
    "    else:\n",
    "        print(year,\"Is a leap year\")   \n",
    "else:\n",
    "    print(year,\"Is not a leap year\")                 "
   ]
  },
  {
   "cell_type": "code",
   "execution_count": null,
   "id": "1a76acba",
   "metadata": {},
   "outputs": [
    {
     "name": "stdout",
     "output_type": "stream",
     "text": [
      "Result is : 44.0\n"
     ]
    }
   ],
   "source": [
    "#Write a program to create a calculator where it also ask for the operation to be perfomed from the user.\n",
    "\n",
    "number1 = float(input(\"Enter the first number :\"))\n",
    "number2 = float(input(\"Enter the second number :\"))\n",
    "op = input(\"Enter the operation: (+,-,*,/).\")\n",
    "result = None\n",
    "\n",
    "# Operations.\n",
    "if op == '+':\n",
    "    result = number1 + number2\n",
    "elif op == '-':\n",
    "    result = number1 - number2 \n",
    "elif op == '*':\n",
    "    result = number1 * number2\n",
    "elif op == '/':\n",
    "    if number2 != 0:\n",
    "        result = number1 / number2\n",
    "    else:\n",
    "        result = 'ZeroDivisionError.'\n",
    "else:\n",
    "    print(\"Invalid Operation\")\n",
    "\n",
    "# Print the result.\n",
    "if result is not None:\n",
    "    print(\"Result is :\",result)                           "
   ]
  },
  {
   "cell_type": "code",
   "execution_count": 36,
   "id": "b01fc84e",
   "metadata": {},
   "outputs": [
    {
     "name": "stdout",
     "output_type": "stream",
     "text": [
      "Ticket fair: $18\n"
     ]
    }
   ],
   "source": [
    "## Determine the ticket price based on age and whether the person is a student.\n",
    "## Ticket pricing based on age and student status.\n",
    "\n",
    "age = int(input(\"Enter your age :\"))\n",
    "is_student = input(\"Are you a student ? (yes/no):\").lower()\n",
    "\n",
    "if age < 5 :\n",
    "    price = 'free'\n",
    "elif age <= 12:\n",
    "    price = '$10'\n",
    "elif age <= 18:\n",
    "    if is_student == 'yes':\n",
    "        price = '$12'\n",
    "    else:\n",
    "        price = '$15'\n",
    "elif age <= 60:\n",
    "    if is_student == 'yes':\n",
    "        price = '$18'\n",
    "    else:\n",
    "        price = '$25'\n",
    "else:\n",
    "\n",
    "    price = '$20'\n",
    "\n",
    "\n",
    "print(\"Ticket fair:\",price)\n"
   ]
  },
  {
   "cell_type": "code",
   "execution_count": 2,
   "id": "0a27c67a",
   "metadata": {},
   "outputs": [
    {
     "name": "stdout",
     "output_type": "stream",
     "text": [
      "Bonus amount : $2000.00\n"
     ]
    }
   ],
   "source": [
    "## Employee Bonus Calculation\n",
    "\n",
    "## Calculate an employee's bonus based on their performance rating and years of service.\n",
    "\n",
    "years_of_services = int(input(\"Enter the years of services :\"))\n",
    "performance_ratings = float(input(\"Enter performance ratings (rating 1.0 to 5.0) :\"))\n",
    "\n",
    "## Create the logic thru conditions:\n",
    "\n",
    "if performance_ratings >= 4.5:\n",
    "    if years_of_services > 10:\n",
    "        bonus_percentage = 20\n",
    "    elif years_of_services > 5:\n",
    "        bonus_percentage = 15\n",
    "    else:\n",
    "        bonus_percentage = 10\n",
    "elif performance_ratings >= 3.5:\n",
    "    if years_of_services > 10:\n",
    "        bonus_percentage = 15\n",
    "    elif years_of_services > 5:\n",
    "        bonus_percentage = 10\n",
    "    else:\n",
    "        bonus_percentage = 5\n",
    "else:\n",
    "    bonus_percentage = 0\n",
    "\n",
    "salary = float(input(\"Enter the salary :\"))\n",
    "\n",
    "bonus_amount = salary * bonus_percentage / 100\n",
    "\n",
    "print(\"Bonus amount : ${:.2f}\".format(bonus_amount))"
   ]
  },
  {
   "cell_type": "code",
   "execution_count": 35,
   "id": "dc94ee59",
   "metadata": {},
   "outputs": [
    {
     "name": "stdout",
     "output_type": "stream",
     "text": [
      "Incorrect password\n"
     ]
    }
   ],
   "source": [
    "## User login system that checks username and password.\n",
    "\n",
    "## User Login System (version 1)\n",
    "\n",
    "## Predefined username and password\n",
    "\n",
    "stored_username = 'admin'\n",
    "stored_password = 'password123!'\n",
    "\n",
    "## Take user input\n",
    "\n",
    "username = input(\"Enter the username :\")\n",
    "password = input(\"Enter the password :\")\n",
    "\n",
    "## Check login credentials\n",
    "\n",
    "if username == stored_username:\n",
    "    if password == stored_password:\n",
    "        print(\"Login successful\")\n",
    "    else:\n",
    "        print(\"Incorrect password\")\n",
    "else:\n",
    "    print(\"Username not found\")            "
   ]
  },
  {
   "cell_type": "code",
   "execution_count": 1,
   "id": "958c87da",
   "metadata": {},
   "outputs": [
    {
     "name": "stdout",
     "output_type": "stream",
     "text": [
      "Login Sucessful\n"
     ]
    }
   ],
   "source": [
    "## User login system (version 2)\n",
    "\n",
    "## Predefined email and password\n",
    "\n",
    "## email = 'anas@gmail.com'\n",
    "## password = 'password123'\n",
    "\n",
    "email = input(\"Enter the email :\")\n",
    "password = input(\"Enter the password :\")\n",
    "\n",
    "if email == 'anas@gmail.com' and password == 'password123':\n",
    "    print(\"Login Sucessful\")\n",
    "elif email == 'anas@gmail.com' and password != 'password123':\n",
    "    password = input(\"Enter the password again :\")\n",
    "    if password == 'password123':\n",
    "        print('Login Successful!')\n",
    "    else:\n",
    "        print(\"Login Unsucessful!\")    \n",
    "\n",
    "else:\n",
    "    print(\"Login Unsucessful\")"
   ]
  }
 ],
 "metadata": {
  "kernelspec": {
   "display_name": "Python 3",
   "language": "python",
   "name": "python3"
  },
  "language_info": {
   "codemirror_mode": {
    "name": "ipython",
    "version": 3
   },
   "file_extension": ".py",
   "mimetype": "text/x-python",
   "name": "python",
   "nbconvert_exporter": "python",
   "pygments_lexer": "ipython3",
   "version": "3.12.0"
  }
 },
 "nbformat": 4,
 "nbformat_minor": 5
}
