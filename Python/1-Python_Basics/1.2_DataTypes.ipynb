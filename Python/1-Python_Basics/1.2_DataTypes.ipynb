{
 "cells": [
  {
   "cell_type": "markdown",
   "id": "cf9f922a",
   "metadata": {},
   "source": [
    "## DataTypes\n",
    "#### 1. Definition:\n",
    "\n",
    "- Data types are classification of data which tell the interpreter how the programmer intends to use the data.\n",
    "- They determine the type of operations that can be performed on the data, the values that the data can take, and the amount of memory needed to store the data.\n",
    "\n",
    "#### 2. Importance of Data Types in Programming\n",
    "Explanation:\n",
    "\n",
    "- Data types ensure that data is stored in an efficient way.\n",
    "- They help in performing correct operations on data.\n",
    "- Proper use of data types can prevent errors and bugs in the program.\n",
    "\n"
   ]
  },
  {
   "cell_type": "markdown",
   "id": "f67a3cbf",
   "metadata": {},
   "source": [
    "\n",
    "3. Basic Data Types\n",
    "   - Integers\n",
    "   - Floating-point numbers\n",
    "   - Strings\n",
    "   - Booleans"
   ]
  },
  {
   "cell_type": "code",
   "execution_count": 1,
   "id": "08135fa0",
   "metadata": {},
   "outputs": [
    {
     "name": "stdout",
     "output_type": "stream",
     "text": [
      "100 <class 'int'>\n",
      "377 <class 'int'>\n"
     ]
    }
   ],
   "source": [
    "## Integer datatype:\n",
    "\n",
    "int_a = 100\n",
    "print(int_a,type(int_a))\n",
    "\n",
    "int_b = 377\n",
    "print(int_b,type(int_b))"
   ]
  },
  {
   "cell_type": "code",
   "execution_count": 2,
   "id": "8e8ef8e2",
   "metadata": {},
   "outputs": [
    {
     "name": "stdout",
     "output_type": "stream",
     "text": [
      "33.7 <class 'float'>\n",
      "0.001 <class 'float'>\n"
     ]
    }
   ],
   "source": [
    "## Floating datatype:\n",
    "\n",
    "f_a = 33.7\n",
    "print(f_a,type(f_a))\n",
    "\n",
    "f_b = 0.001\n",
    "print(f_b,type(f_b))"
   ]
  },
  {
   "cell_type": "code",
   "execution_count": 3,
   "id": "d2e7a677",
   "metadata": {},
   "outputs": [
    {
     "name": "stdout",
     "output_type": "stream",
     "text": [
      "Hello World <class 'str'>\n",
      "Hello World <class 'str'>\n",
      "It's raining today <class 'str'>\n",
      "Nissan GTR <class 'str'>\n"
     ]
    }
   ],
   "source": [
    "## Strings datatype\n",
    "\n",
    "s_a = 'Hello World'\n",
    "print(s_a,type(s_a))\n",
    "\n",
    "s_b = \"Hello World\"\n",
    "print(s_b,type(s_b))\n",
    "\n",
    "s_c = \"It's raining today\"\n",
    "print(s_c,type(s_c))\n",
    "\n",
    "s_d = str(\"Nissan GTR\")\n",
    "print(s_d,type(s_d))"
   ]
  },
  {
   "cell_type": "code",
   "execution_count": 4,
   "id": "4a3b9716",
   "metadata": {},
   "outputs": [
    {
     "name": "stdout",
     "output_type": "stream",
     "text": [
      "(33+6j) 33.0 6.0 <class 'complex'>\n"
     ]
    }
   ],
   "source": [
    "## Complex\n",
    "\n",
    "c = 33+6j\n",
    "\n",
    "print(c,c.real,c.imag,type(c))"
   ]
  },
  {
   "cell_type": "code",
   "execution_count": 5,
   "id": "1a1cd94c",
   "metadata": {},
   "outputs": [
    {
     "name": "stdout",
     "output_type": "stream",
     "text": [
      "False <class 'bool'>\n",
      "True <class 'bool'>\n",
      "2 <class 'int'>\n",
      "1 <class 'int'>\n"
     ]
    }
   ],
   "source": [
    "## Boolean\n",
    "\n",
    "b_a = bool()\n",
    "print(b_a,type(b_a))\n",
    "\n",
    "b_b = bool(True)\n",
    "print(b_b,type(b_b))\n",
    "\n",
    "## In python boolean can be represented in a mathematical expression:\n",
    "\n",
    "b_c = 1+True\n",
    "print(b_c,type(b_c))\n",
    "\n",
    "b_d = True + 0\n",
    "print(b_d,type(b_d))"
   ]
  },
  {
   "cell_type": "code",
   "execution_count": 13,
   "id": "12a23eeb",
   "metadata": {},
   "outputs": [
    {
     "ename": "TypeError",
     "evalue": "can only concatenate str (not \"int\") to str",
     "output_type": "error",
     "traceback": [
      "\u001b[31m---------------------------------------------------------------------------\u001b[39m",
      "\u001b[31mTypeError\u001b[39m                                 Traceback (most recent call last)",
      "\u001b[36mCell\u001b[39m\u001b[36m \u001b[39m\u001b[32mIn[13]\u001b[39m\u001b[32m, line 3\u001b[39m\n\u001b[32m      1\u001b[39m \u001b[38;5;66;03m## common errors\u001b[39;00m\n\u001b[32m----> \u001b[39m\u001b[32m3\u001b[39m result=\u001b[33;43m\"\u001b[39;49m\u001b[33;43mHello\u001b[39;49m\u001b[33;43m\"\u001b[39;49m\u001b[43m \u001b[49m\u001b[43m+\u001b[49m\u001b[43m \u001b[49m\u001b[32;43m5\u001b[39;49m\n",
      "\u001b[31mTypeError\u001b[39m: can only concatenate str (not \"int\") to str"
     ]
    }
   ],
   "source": [
    "## common errors\n",
    "\n",
    "result=\"Hello\" + 5"
   ]
  },
  {
   "cell_type": "code",
   "execution_count": 8,
   "id": "4d4776f9",
   "metadata": {},
   "outputs": [
    {
     "name": "stdout",
     "output_type": "stream",
     "text": [
      "Hello 5\n"
     ]
    }
   ],
   "source": [
    "## Rectifying common errors using concatenation.\n",
    "\n",
    "\n",
    "result=\"Hello\" + ' ' + str(5)\n",
    "\n",
    "print(result)"
   ]
  }
 ],
 "metadata": {
  "kernelspec": {
   "display_name": "Python 3",
   "language": "python",
   "name": "python3"
  },
  "language_info": {
   "codemirror_mode": {
    "name": "ipython",
    "version": 3
   },
   "file_extension": ".py",
   "mimetype": "text/x-python",
   "name": "python",
   "nbconvert_exporter": "python",
   "pygments_lexer": "ipython3",
   "version": "3.12.0"
  }
 },
 "nbformat": 4,
 "nbformat_minor": 5
}
