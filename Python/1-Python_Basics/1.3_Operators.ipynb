{
 "cells": [
  {
   "cell_type": "markdown",
   "id": "6726e686",
   "metadata": {},
   "source": [
    "### Python Operators\n",
    "\n",
    "#### 1. Arthmetic\n",
    "#### 2. Comparision\n",
    "#### 3. Bitwise\n",
    "#### 4. Logical\n",
    "#### 5. Assignment\n",
    "#### 6 . Membership\n",
    "#### 7. Identity\n"
   ]
  },
  {
   "cell_type": "code",
   "execution_count": 1,
   "id": "d4a17e3b",
   "metadata": {},
   "outputs": [
    {
     "name": "stdout",
     "output_type": "stream",
     "text": [
      "Addition of (x+y) = 7\n",
      "Substraction of (x-y) = 3\n",
      "Multiplication of (x*y) = 10\n",
      "Divison of (x/y) = 2.5\n",
      "Floor division of (x//y) = 2\n",
      "Modulus of (x%y) = 1\n",
      "Exp of (x**y) = 25\n"
     ]
    }
   ],
   "source": [
    "## Arthemtic\n",
    "\n",
    "x = 5\n",
    "y = 2\n",
    "\n",
    "print(f\"Addition of (x+y) = {x+y}\")\n",
    "print(f\"Substraction of (x-y) = {x-y}\")\n",
    "print(f\"Multiplication of (x*y) = {x*y}\")\n",
    "print(f\"Divison of (x/y) = {x/y}\")\n",
    "print(f\"Floor division of (x//y) = {x//y}\") ## Rounds into the nearest integer.\n",
    "print(f\"Modulus of (x%y) = {x%y}\")\n",
    "print(f\"Exp of (x**y) = {x**y}\")"
   ]
  },
  {
   "cell_type": "code",
   "execution_count": 2,
   "id": "e5c46cbe",
   "metadata": {},
   "outputs": [
    {
     "name": "stdout",
     "output_type": "stream",
     "text": [
      "Equal to operator -> False\n",
      "Not equal to opeator -> True\n",
      "Greater than operator -> False\n",
      "Less than operator -> True\n",
      "Greater than equal to operator -> False\n",
      "Less than equal to operator -> True\n"
     ]
    }
   ],
   "source": [
    "## Comparision\n",
    "\n",
    "a = 4\n",
    "b = 5\n",
    "\n",
    "\n",
    "print(f\"Equal to operator -> {a==b}\")\n",
    "print(f\"Not equal to opeator -> {a!=b}\")\n",
    "print(f\"Greater than operator -> {a>b}\")\n",
    "print(f\"Less than operator -> {a<b}\")\n",
    "print(f\"Greater than equal to operator -> {a>=b}\")\n",
    "print(f\"Less than equal to operator -> {a<=b}\")"
   ]
  },
  {
   "cell_type": "code",
   "execution_count": 1,
   "id": "be47e9e8",
   "metadata": {},
   "outputs": [
    {
     "name": "stdout",
     "output_type": "stream",
     "text": [
      "Bitwise and -> 2\n",
      "Bitwise OR -> 3\n",
      "Bitwise XOR -> 1\n",
      "Bitwise Not -> -3\n",
      "Bitwise right shift 0\n",
      "Bitwise left shift 8\n"
     ]
    }
   ],
   "source": [
    "## Bitwise\n",
    "\n",
    "## Bitwise operators on Binary\n",
    "\n",
    "m = 2\n",
    "n = 3\n",
    "\n",
    "## Binary Reprsentation\n",
    "## 2 -> 10\n",
    "## 3 -> 11  \n",
    "# __________\n",
    "\n",
    "\n",
    "print(f\"Bitwise and -> {m&n}\")\n",
    "\n",
    "print(f\"Bitwise OR -> {m|n}\")\n",
    "\n",
    "print(f\"Bitwise XOR -> {m^n}\")\n",
    "\n",
    "print(f\"Bitwise Not -> {~m}\")\n",
    "\n",
    "print(f\"Bitwise right shift {n>>2}\")\n",
    "\n",
    "print(f\"Bitwise left shift {m<<2}\")\n",
    "\n"
   ]
  },
  {
   "cell_type": "code",
   "execution_count": 4,
   "id": "cfd12b0f",
   "metadata": {},
   "outputs": [
    {
     "name": "stdout",
     "output_type": "stream",
     "text": [
      "True\n",
      "False\n",
      "True\n",
      "True\n",
      "False\n",
      "True\n"
     ]
    }
   ],
   "source": [
    "## Logical\n",
    "\n",
    "j = True \n",
    "k = True \n",
    "\n",
    "y = True\n",
    "z = False\n",
    "\n",
    "print(j and k)\n",
    "print(y and z)\n",
    "\n",
    "\n",
    "print(j or k)\n",
    "print(y or z)\n",
    "\n",
    "print(not j) ## Inverser.\n",
    "print(not z)"
   ]
  },
  {
   "cell_type": "code",
   "execution_count": 19,
   "id": "7429a874",
   "metadata": {},
   "outputs": [
    {
     "name": "stdout",
     "output_type": "stream",
     "text": [
      "2\n",
      "4\n",
      "2\n",
      "4\n",
      "2.0\n",
      "1.0\n",
      "1.0\n"
     ]
    }
   ],
   "source": [
    "## Assignment\n",
    "\n",
    "a = 2\n",
    "print(a)\n",
    "\n",
    "a += 2 ## Similar to a = a +2\n",
    "print(a)\n",
    "\n",
    "a -= 2\n",
    "print(a)\n",
    "\n",
    "\n",
    "a *= 2\n",
    "print(a)\n",
    "\n",
    "a /= 2\n",
    "print(a)\n",
    "\n",
    "a //= 2\n",
    "print(a)\n",
    "\n",
    "\n",
    "\n",
    "a **= 7\n",
    "print(a)\n",
    "\n",
    "\n",
    "\n",
    "\n"
   ]
  },
  {
   "cell_type": "code",
   "execution_count": 16,
   "id": "f89b67c2",
   "metadata": {},
   "outputs": [
    {
     "name": "stdout",
     "output_type": "stream",
     "text": [
      "True\n",
      "False\n",
      "True\n",
      "False\n"
     ]
    }
   ],
   "source": [
    "## Membership -> Determines whether the sequence is present or not.\n",
    "\n",
    "print(\"H\" in \"Hello World\")\n",
    "print(\"H\" in \"hello World\")\n",
    "\n",
    "print(1 in [1,2])\n",
    "\n",
    "print('name' not in {'name':'anas'})"
   ]
  },
  {
   "cell_type": "code",
   "execution_count": 15,
   "id": "ad379b52",
   "metadata": {},
   "outputs": [
    {
     "name": "stdout",
     "output_type": "stream",
     "text": [
      "0x7ffbb98549f8\n",
      "0x7ffbb98549f8\n",
      "True\n",
      "0x7ffbb9854d58\n",
      "0x7ffbb9854e58\n",
      "True\n"
     ]
    }
   ],
   "source": [
    "## Identity -> Determines whether the variable/object is point to a memory location in the memory register.\n",
    "\n",
    "a = 3\n",
    "\n",
    "b = a\n",
    "\n",
    "print(hex(id(a)))\n",
    "print(hex(id(b)))\n",
    "\n",
    "print(a is b)\n",
    "\n",
    "x = 30\n",
    "\n",
    "y = 38\n",
    "\n",
    "print(hex(id(x)))\n",
    "print(hex(id(y)))\n",
    "\n",
    "print(x is not b)"
   ]
  },
  {
   "cell_type": "code",
   "execution_count": 8,
   "id": "1c68b46f",
   "metadata": {},
   "outputs": [
    {
     "name": "stdout",
     "output_type": "stream",
     "text": [
      "Addition: 5.0\n",
      "Subtraction: 1.0\n",
      "Multiplication: 6.0\n",
      "Division: 1.5\n",
      "Floor division: 1.0\n",
      "Modulus: 1.0\n",
      "Exponentation: 9.0\n"
     ]
    }
   ],
   "source": [
    "## Write a program to create a simple calculator:\n",
    "\n",
    "num1 = float(input(\"Enter the fnum :\"))\n",
    "num2 = float(input(\"Enter the snum :\"))\n",
    "\n",
    "add = num1+num2\n",
    "sub = num1-num2\n",
    "mul = num1*num2\n",
    "div = num1/num2\n",
    "floor_div = num1//num2\n",
    "modulus = num1%num2\n",
    "exp = num1**num2\n",
    "\n",
    "print(\"Addition:\",add)\n",
    "print(\"Subtraction:\",sub)\n",
    "print(\"Multiplication:\",mul)\n",
    "print(\"Division:\",div)\n",
    "print(\"Floor division:\",floor_div)\n",
    "print(\"Modulus:\",modulus)\n",
    "print(\"Exponentation:\",exp)"
   ]
  },
  {
   "cell_type": "code",
   "execution_count": 26,
   "id": "504c5242",
   "metadata": {},
   "outputs": [
    {
     "name": "stdout",
     "output_type": "stream",
     "text": [
      "Sum: 9\n"
     ]
    }
   ],
   "source": [
    "## Write a program which takes three digit number as input and perform the sum:\n",
    "\n",
    "number = int(input(\"Enter the three digit number: \"))\n",
    "\n",
    "a = number%10\n",
    "\n",
    "number = number//10\n",
    "\n",
    "b = number%10\n",
    "\n",
    "number = number//10\n",
    "\n",
    "c = number%10\n",
    "\n",
    "print(\"Sum:\",a+b+c)\n"
   ]
  },
  {
   "cell_type": "code",
   "execution_count": null,
   "id": "65787308",
   "metadata": {},
   "outputs": [],
   "source": []
  }
 ],
 "metadata": {
  "kernelspec": {
   "display_name": "Python 3",
   "language": "python",
   "name": "python3"
  },
  "language_info": {
   "codemirror_mode": {
    "name": "ipython",
    "version": 3
   },
   "file_extension": ".py",
   "mimetype": "text/x-python",
   "name": "python",
   "nbconvert_exporter": "python",
   "pygments_lexer": "ipython3",
   "version": "3.12.0"
  }
 },
 "nbformat": 4,
 "nbformat_minor": 5
}
