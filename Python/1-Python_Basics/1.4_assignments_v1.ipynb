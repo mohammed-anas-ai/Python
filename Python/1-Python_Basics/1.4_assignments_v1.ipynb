{
 "cells": [
  {
   "cell_type": "markdown",
   "metadata": {},
   "source": [
    "# Lesson 1.2: Python Basics\n",
    "## Topics Covered:\n",
    "- Syntax and Semantics\n",
    "- Variables and Data Types\n",
    "- Basic Operators (Arithmetic, Comparison, Logical)\n"
   ]
  },
  {
   "cell_type": "markdown",
   "metadata": {},
   "source": [
    "## 1. Syntax and Semantics\n",
    "\n",
    "**Question 1:** Write a Python program to print \"Hello, World!\"."
   ]
  },
  {
   "cell_type": "code",
   "execution_count": 1,
   "metadata": {},
   "outputs": [
    {
     "name": "stdout",
     "output_type": "stream",
     "text": [
      "Hello, World!\n"
     ]
    }
   ],
   "source": [
    "print(\"Hello, World!\")"
   ]
  },
  {
   "cell_type": "markdown",
   "metadata": {},
   "source": [
    "**Question 2:** Write a Python program that takes a user input and prints it."
   ]
  },
  {
   "cell_type": "code",
   "execution_count": 3,
   "metadata": {},
   "outputs": [
    {
     "name": "stdout",
     "output_type": "stream",
     "text": [
      "anas\n",
      "<class 'str'>\n"
     ]
    }
   ],
   "source": [
    "user_input = input(\"Enter your name :\")\n",
    "print(user_input)\n",
    "print(type(user_input))"
   ]
  },
  {
   "cell_type": "markdown",
   "metadata": {},
   "source": [
    "**Question 3:** Write a Python program to check if a number is positive, negative, or zero."
   ]
  },
  {
   "cell_type": "code",
   "execution_count": null,
   "metadata": {},
   "outputs": [
    {
     "name": "stdout",
     "output_type": "stream",
     "text": [
      "The -1.0 is negative.\n"
     ]
    }
   ],
   "source": [
    "num = float(input(\"Enter the number :\"))\n",
    "\n",
    "if num > 0:\n",
    "    print(f\"The {num} is positive.\")\n",
    "elif num == 0:\n",
    "    print(f\"The {num} is zero.\") \n",
    "else:\n",
    "    print(f\"The {num} is negative.\")       "
   ]
  },
  {
   "cell_type": "markdown",
   "metadata": {},
   "source": [
    "**Question 4:** Write a Python program to find the largest of three numbers."
   ]
  },
  {
   "cell_type": "code",
   "execution_count": 7,
   "metadata": {},
   "outputs": [
    {
     "name": "stdout",
     "output_type": "stream",
     "text": [
      "The largest is 5.0\n"
     ]
    }
   ],
   "source": [
    "num1 = float(input('Enter the first number :'))\n",
    "num2 = float(input(\"Enter the second number : \"))\n",
    "num3 = float(input(\"Enter the third number :\"))\n",
    "\n",
    "if num1 > num2 and num1 > num3:\n",
    "    print(f\"The largest is {num1}.\")\n",
    "\n",
    "elif num2 > num3:\n",
    "    print(f\"The largest is {num2}.\")\n",
    "    \n",
    "else:\n",
    "    print(f\"The largest is {num3}\")        "
   ]
  },
  {
   "cell_type": "markdown",
   "metadata": {},
   "source": [
    "**Question 5:** Write a Python program to calculate the factorial of a number."
   ]
  },
  {
   "cell_type": "code",
   "execution_count": 48,
   "metadata": {},
   "outputs": [
    {
     "name": "stdout",
     "output_type": "stream",
     "text": [
      "The factorial of 5 is 120.\n"
     ]
    }
   ],
   "source": [
    "import math\n",
    "\n",
    "number = int(input(\"Enter the number of factorial:\"))\n",
    "\n",
    "factorial = math.factorial(number)\n",
    "print(f\"The factorial of {number} is {factorial}.\")"
   ]
  },
  {
   "cell_type": "code",
   "execution_count": 11,
   "metadata": {},
   "outputs": [
    {
     "name": "stdout",
     "output_type": "stream",
     "text": [
      "The factorial of 6 is 720\n"
     ]
    }
   ],
   "source": [
    "number = int(input(\"Enter the number of factorial :\"))\n",
    "fact = 1\n",
    "\n",
    "for i in range(1,number+1):\n",
    "    fact = fact*i\n",
    "\n",
    "print(f\"The factorial of {number} is {fact}\")"
   ]
  },
  {
   "cell_type": "markdown",
   "metadata": {},
   "source": [
    "## 2. Variables and Data Types\n",
    "\n",
    "**Question 6:** Create variables of different data types: integer, float, string, and boolean. Print their values and types."
   ]
  },
  {
   "cell_type": "code",
   "execution_count": 12,
   "metadata": {},
   "outputs": [
    {
     "name": "stdout",
     "output_type": "stream",
     "text": [
      "33\n",
      "3.14\n",
      "Hello World\n",
      "True\n"
     ]
    }
   ],
   "source": [
    "int_a = 33\n",
    "float_b = 3.14\n",
    "string_s = str((\"Hello World\"))\n",
    "bool_b = bool(True)\n",
    "\n",
    "## Print to the console:\n",
    "print(int_a)\n",
    "print(float_b)\n",
    "print(string_s)\n",
    "print(bool_b)"
   ]
  },
  {
   "cell_type": "markdown",
   "metadata": {},
   "source": [
    "**Question 7:** Write a Python program to swap the values of two variables."
   ]
  },
  {
   "cell_type": "code",
   "execution_count": 10,
   "metadata": {},
   "outputs": [
    {
     "name": "stdout",
     "output_type": "stream",
     "text": [
      "3 4\n",
      "Before swap\n",
      "After swap\n",
      "4 3\n"
     ]
    }
   ],
   "source": [
    "n1 = 3\n",
    "n2 = 4\n",
    "print((n1),((n2)))\n",
    "\n",
    "print(\"Before swap\")\n",
    "\n",
    "print(\"After swap\")\n",
    "n1,n2 = n2,n1\n",
    "print(n1,n2)"
   ]
  },
  {
   "cell_type": "markdown",
   "metadata": {},
   "source": [
    "**Question 8:** Write a Python program to convert Celsius to Fahrenheit."
   ]
  },
  {
   "cell_type": "code",
   "execution_count": 13,
   "metadata": {},
   "outputs": [
    {
     "name": "stdout",
     "output_type": "stream",
     "text": [
      "The celcius to farenheit is :  39.2\n"
     ]
    }
   ],
   "source": [
    "c = float(input(\"Enter the temperature :\"))\n",
    "farenheit = c * 9/5 + 32\n",
    "print(f\"The celcius to farenheit is : \",farenheit)"
   ]
  },
  {
   "cell_type": "markdown",
   "metadata": {},
   "source": [
    "**Question 9:** Write a Python program to concatenate two strings."
   ]
  },
  {
   "cell_type": "code",
   "execution_count": 22,
   "metadata": {},
   "outputs": [
    {
     "name": "stdout",
     "output_type": "stream",
     "text": [
      "String concat : Hello World\n"
     ]
    }
   ],
   "source": [
    "string_1 = input(\"Enter the first_string :\")\n",
    "string_2 = input(\"Enter the second_string :\")\n",
    "\n",
    "string_concat = string_1 +' '+ string_2\n",
    "print(\"String concat :\",string_concat)"
   ]
  },
  {
   "cell_type": "markdown",
   "metadata": {},
   "source": [
    "**Question 10:** Write a Python program to check if a variable is of a specific data type."
   ]
  },
  {
   "cell_type": "code",
   "execution_count": 18,
   "metadata": {},
   "outputs": [
    {
     "name": "stdout",
     "output_type": "stream",
     "text": [
      "<class 'str'>\n",
      "<class 'bool'>\n",
      "<class 'int'>\n",
      "<class 'float'>\n"
     ]
    }
   ],
   "source": [
    "name = input(\"Enter your name :\")\n",
    "is_student = bool(input(\"Are you a student ?\"))\n",
    "int_a = int(input(\"Enter the whole number :\"))\n",
    "float_f = float(input(\"Enter the decimal number :\"))\n",
    "\n",
    "print(type(name))\n",
    "print(type(is_student))\n",
    "print(type(int_a))\n",
    "print(type(float_f))"
   ]
  },
  {
   "cell_type": "markdown",
   "metadata": {},
   "source": [
    "## 3. Basic Operators (Arithmetic, Comparison, Logical)\n",
    "\n",
    "**Question 11:** Write a Python program to perform arithmetic operations: addition, subtraction, multiplication, and division."
   ]
  },
  {
   "cell_type": "code",
   "execution_count": 23,
   "metadata": {},
   "outputs": [
    {
     "name": "stdout",
     "output_type": "stream",
     "text": [
      "The addition of (num1+num2) is 55.0\n",
      "The substraction of (num1+num2) is -11.0\n",
      "The multiplication of (num1+num2) is 726.0\n",
      "The division of (num1+num2) is 0.6666666666666666\n"
     ]
    }
   ],
   "source": [
    "num1 = float(input(\"Enter the fnum :\"))\n",
    "num2 = float(input(\"Ente the snum :\"))\n",
    "\n",
    "\n",
    "addition = num1+num2\n",
    "substraction = num1-num2\n",
    "multiplication = num1*num2\n",
    "division = num1/num2\n",
    "\n",
    "print(f\"The addition of (num1+num2) is {addition}\")\n",
    "print(f\"The substraction of (num1+num2) is {substraction}\")\n",
    "print(f\"The multiplication of (num1+num2) is {multiplication}\")\n",
    "print(f\"The division of (num1+num2) is {division}\")"
   ]
  },
  {
   "cell_type": "markdown",
   "metadata": {},
   "source": [
    "**Question 12:** Write a Python program to demonstrate comparison operators: equal to, not equal to, greater than, less than."
   ]
  },
  {
   "cell_type": "code",
   "execution_count": 25,
   "metadata": {},
   "outputs": [
    {
     "name": "stdout",
     "output_type": "stream",
     "text": [
      "Equal to : False\n",
      "Not equal to : True\n",
      "Greater than : True\n",
      "Less than : False\n",
      "Greater than equal to : True\n",
      "Less than equal to : False\n"
     ]
    }
   ],
   "source": [
    "num1 = float(input(\"Enter the fnum :\"))\n",
    "num2 = float(input(\"Ente the snum :\"))\n",
    "\n",
    "equal_to = num1==num2\n",
    "not_equal_to = num1!=num2\n",
    "greater_than = num1>num2\n",
    "less_than = num1<num2\n",
    "greater_than_equal_to = num1>=num2\n",
    "less_than_equal_to = num1<=num2\n",
    "\n",
    "print(\"Equal to :\",equal_to)\n",
    "print(\"Not equal to :\",not_equal_to)\n",
    "print(\"Greater than :\",greater_than)\n",
    "print(\"Less than :\",less_than)\n",
    "print(\"Greater than equal to :\",greater_than_equal_to)\n",
    "print(\"Less than equal to :\",less_than_equal_to)"
   ]
  },
  {
   "cell_type": "markdown",
   "metadata": {},
   "source": [
    "**Question 13:** Write a Python program to demonstrate logical operators: and, or, not."
   ]
  },
  {
   "cell_type": "code",
   "execution_count": 42,
   "metadata": {},
   "outputs": [
    {
     "name": "stdout",
     "output_type": "stream",
     "text": [
      "False\n",
      "True\n",
      "True\n",
      "False\n",
      "True\n",
      "True\n",
      "False\n"
     ]
    }
   ],
   "source": [
    "x = True\n",
    "y = False\n",
    "\n",
    "print(x and y)\n",
    "print(x or y)\n",
    "print(not y)\n",
    "print(not x)\n",
    "\n",
    "x = True\n",
    "y = True\n",
    "\n",
    "print(x and y)\n",
    "print(x or y)\n",
    "print(not x)"
   ]
  },
  {
   "cell_type": "markdown",
   "metadata": {},
   "source": [
    "**Question 14:** Write a Python program to calculate the square of a number."
   ]
  },
  {
   "cell_type": "code",
   "execution_count": 22,
   "metadata": {},
   "outputs": [
    {
     "name": "stdout",
     "output_type": "stream",
     "text": [
      "16.0\n"
     ]
    }
   ],
   "source": [
    "number = float(input(\"Enter the number :\"))\n",
    "\n",
    "square = number **2\n",
    "\n",
    "print(square)"
   ]
  },
  {
   "cell_type": "markdown",
   "metadata": {},
   "source": [
    "**Question 15:** Write a Python program to check if a number is even or odd."
   ]
  },
  {
   "cell_type": "code",
   "execution_count": 28,
   "metadata": {},
   "outputs": [
    {
     "name": "stdout",
     "output_type": "stream",
     "text": [
      "9 is odd\n"
     ]
    }
   ],
   "source": [
    "number = int(input(\"Enter the number :\"))\n",
    "\n",
    "if number %2 == 0:\n",
    "    print(f\"{number} is even\")\n",
    "else:\n",
    "    print(f\"{number} is odd\")    "
   ]
  },
  {
   "cell_type": "markdown",
   "metadata": {},
   "source": [
    "**Question 16:** Write a Python program to find the sum of the first n natural numbers."
   ]
  },
  {
   "cell_type": "code",
   "execution_count": 29,
   "metadata": {},
   "outputs": [
    {
     "name": "stdout",
     "output_type": "stream",
     "text": [
      "The sum of first natural number is : 55.0\n"
     ]
    }
   ],
   "source": [
    "number = float(input(\"Enter the number :\"))\n",
    "\n",
    "natural_numbers = (number * (number+1)) / 2\n",
    "print(f\"The sum of first natural number is : {natural_numbers}\")"
   ]
  },
  {
   "cell_type": "markdown",
   "metadata": {},
   "source": [
    "**Question 17:** Write a Python program to check if a year is a leap year."
   ]
  },
  {
   "cell_type": "code",
   "execution_count": 33,
   "metadata": {},
   "outputs": [
    {
     "name": "stdout",
     "output_type": "stream",
     "text": [
      "2020 Is a leap year\n"
     ]
    }
   ],
   "source": [
    "year = int(input(\"Enter the year :\"))\n",
    "\n",
    "if (year % 4 == 0 and year % 100 != 0) or (year % 400 ==0 ):\n",
    "    print(year,\"Is a leap year\")\n",
    "else:\n",
    "    print(year,\"Is not a leap year\")    "
   ]
  },
  {
   "cell_type": "markdown",
   "metadata": {},
   "source": [
    "**Question 18:** Write a Python program to reverse a string."
   ]
  },
  {
   "cell_type": "code",
   "execution_count": 34,
   "metadata": {},
   "outputs": [
    {
     "name": "stdout",
     "output_type": "stream",
     "text": [
      "Before reversing the string: Linear Regression\n",
      "After reversing the string: noissergeR raeniL\n"
     ]
    }
   ],
   "source": [
    "string = str('Linear Regression')\n",
    "print(\"Before reversing the string:\",string)\n",
    "\n",
    "reverse_str = string[::-1]\n",
    "print(\"After reversing the string:\",reverse_str)"
   ]
  },
  {
   "cell_type": "markdown",
   "metadata": {},
   "source": [
    "**Question 19:** Write a Python program to check if a string is a palindrome."
   ]
  },
  {
   "cell_type": "code",
   "execution_count": 37,
   "metadata": {},
   "outputs": [
    {
     "name": "stdout",
     "output_type": "stream",
     "text": [
      "python is not a palindrome.\n"
     ]
    }
   ],
   "source": [
    "strings = input(\"Enter the strings :\")\n",
    "\n",
    "if strings == strings[::-1]:\n",
    "    print(f\"{strings} is palindrome.\")\n",
    "else:\n",
    "    print(f\"{strings} is not a palindrome.\")"
   ]
  },
  {
   "cell_type": "markdown",
   "metadata": {},
   "source": [
    "**Question 20:** Write a Python program to sort a list of numbers in ascending order."
   ]
  },
  {
   "cell_type": "code",
   "execution_count": 41,
   "metadata": {},
   "outputs": [
    {
     "name": "stdout",
     "output_type": "stream",
     "text": [
      "Before sorting in ascending : [1, 3, 4, 5, 7, 6, 10, 9, 8, 12, 11, 15, 13]\n",
      "After sorting into ascending : [1, 3, 4, 5, 6, 7, 8, 9, 10, 11, 12, 13, 15]\n"
     ]
    }
   ],
   "source": [
    "number = [1,3,4,5,7,6,10,9,8,12,11,15,13]\n",
    "print(\"Before sorting in ascending :\",number)\n",
    "\n",
    "number_asc_sort = sorted(number)\n",
    "print(\"After sorting into ascending :\",number_asc_sort)"
   ]
  },
  {
   "cell_type": "code",
   "execution_count": 44,
   "metadata": {},
   "outputs": [
    {
     "name": "stdout",
     "output_type": "stream",
     "text": [
      "Before sorting in descending : [1, 3, 4, 5, 7, 6, 10, 9, 8, 12, 11, 15, 13]\n",
      "After sorting into descending : [15, 13, 12, 11, 10, 9, 8, 7, 6, 5, 4, 3, 1]\n"
     ]
    }
   ],
   "source": [
    "number = [1,3,4,5,7,6,10,9,8,12,11,15,13]\n",
    "print(\"Before sorting in descending :\",number)\n",
    "\n",
    "number_desc_sort = sorted(number,reverse=True)\n",
    "print(\"After sorting into descending :\",number_desc_sort)"
   ]
  },
  {
   "cell_type": "code",
   "execution_count": 68,
   "metadata": {},
   "outputs": [
    {
     "name": "stdout",
     "output_type": "stream",
     "text": [
      "Error. Cannot divide by zero.\n"
     ]
    }
   ],
   "source": [
    "#  Problem 23: Mini Calculator\n",
    "\n",
    "number1 = float(input(\"Enter the fnum:\"))\n",
    "number2 = float(input(\"Enter the snum:\"))\n",
    "\n",
    "op = input(\"Please specify the operations (+,-,*,/).\")\n",
    "\n",
    "result = None\n",
    "\n",
    "if op == '+':\n",
    "    result = number1 + number2\n",
    "elif op == '-':\n",
    "    result = number1 - number2\n",
    "elif op == '*':\n",
    "    result = number1 * number2\n",
    "elif op == '/':\n",
    "    if number2 == 0:\n",
    "        print(\"Error. Cannot divide by zero.\")\n",
    "    else:\n",
    "        result = number1/number2\n",
    "else:\n",
    "    print(\"Invalid operation.\")   \n",
    "\n",
    "if result is not None:\n",
    "    print(\"Result:\", result)"
   ]
  }
 ],
 "metadata": {
  "kernelspec": {
   "display_name": "Python 3",
   "language": "python",
   "name": "python3"
  },
  "language_info": {
   "codemirror_mode": {
    "name": "ipython",
    "version": 3
   },
   "file_extension": ".py",
   "mimetype": "text/x-python",
   "name": "python",
   "nbconvert_exporter": "python",
   "pygments_lexer": "ipython3",
   "version": "3.12.0"
  }
 },
 "nbformat": 4,
 "nbformat_minor": 4
}
