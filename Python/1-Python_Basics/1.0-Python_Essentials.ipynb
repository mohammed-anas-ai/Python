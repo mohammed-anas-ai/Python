{
 "cells": [
  {
   "cell_type": "markdown",
   "id": "3368c5c5",
   "metadata": {},
   "source": [
    "## Python Syntax and Semantics."
   ]
  },
  {
   "cell_type": "markdown",
   "id": "ed3139c9",
   "metadata": {},
   "source": [
    "### Python Syntax refers to the correct arrangement of code and Symbols used in the code.\n",
    "\n",
    "### Python Semantic refers to the interpretation of the code. It defines what a code is supposed to do when it runs."
   ]
  },
  {
   "cell_type": "code",
   "execution_count": 5,
   "id": "5e0ba14e",
   "metadata": {},
   "outputs": [
    {
     "name": "stdout",
     "output_type": "stream",
     "text": [
      "False\n"
     ]
    }
   ],
   "source": [
    "## Basics syntax in python.\n",
    "\n",
    "## Python is a case sensitive language.\n",
    "\n",
    "name = 'anas'\n",
    "Name = 'Anas'\n",
    "\n",
    "print(name==Name)\n"
   ]
  },
  {
   "cell_type": "code",
   "execution_count": 6,
   "id": "604e0757",
   "metadata": {},
   "outputs": [
    {
     "data": {
      "text/plain": [
       "(str, str)"
      ]
     },
     "execution_count": 6,
     "metadata": {},
     "output_type": "execute_result"
    }
   ],
   "source": [
    "type(name),type(Name)"
   ]
  },
  {
   "cell_type": "code",
   "execution_count": 7,
   "id": "116f0624",
   "metadata": {},
   "outputs": [
    {
     "name": "stdout",
     "output_type": "stream",
     "text": [
      "False\n"
     ]
    }
   ],
   "source": [
    "num = 33+7j\n",
    "Num = 33+8j\n",
    "\n",
    "print(num==Num)"
   ]
  },
  {
   "cell_type": "markdown",
   "id": "acfa4d5a",
   "metadata": {},
   "source": [
    "## Indentation\n",
    "\n",
    "### Indentation in python is used to define the structure and hierarchy of the code additionally, it indicates the block of code.\n"
   ]
  },
  {
   "cell_type": "code",
   "execution_count": 28,
   "id": "91d11751",
   "metadata": {},
   "outputs": [
    {
     "name": "stdout",
     "output_type": "stream",
     "text": [
      "within the block.\n",
      "Outside the block.\n"
     ]
    }
   ],
   "source": [
    "age = 22\n",
    "\n",
    "if age > 20:\n",
    "    print('within the block.')\n",
    "print('Outside the block.')    "
   ]
  },
  {
   "cell_type": "code",
   "execution_count": 29,
   "id": "fe04d36f",
   "metadata": {},
   "outputs": [],
   "source": [
    "ML_Algo = 'SVM'\n",
    "\n",
    "if ML_Algo != 'SVM':\n",
    "    print(ML_Algo)"
   ]
  },
  {
   "cell_type": "code",
   "execution_count": 30,
   "id": "2ee0464a",
   "metadata": {},
   "outputs": [
    {
     "name": "stdout",
     "output_type": "stream",
     "text": [
      "SVM\n"
     ]
    }
   ],
   "source": [
    "ML_Algo = 'SVM'\n",
    "\n",
    "if ML_Algo == 'SVM':\n",
    "    print(ML_Algo)"
   ]
  },
  {
   "cell_type": "code",
   "execution_count": 31,
   "id": "ec7369e2",
   "metadata": {},
   "outputs": [],
   "source": [
    "## Python Comments\n",
    "\n",
    "## Comments are used in the code for documentation such as to describe the code for better clarity in terms of code understandbility."
   ]
  },
  {
   "cell_type": "code",
   "execution_count": 32,
   "id": "7912e931",
   "metadata": {},
   "outputs": [],
   "source": [
    "## Single line comment - Spans a single line only\n",
    "\n",
    "## This is a single line comment"
   ]
  },
  {
   "cell_type": "code",
   "execution_count": 33,
   "id": "d3106df7",
   "metadata": {},
   "outputs": [
    {
     "data": {
      "text/plain": [
       "'\\nPython is a general purpose language.\\nPython supports mutiple code paradigm.\\n'"
      ]
     },
     "execution_count": 33,
     "metadata": {},
     "output_type": "execute_result"
    }
   ],
   "source": [
    "### Multi Line comments - which spans across the line.\n",
    "\n",
    "\"\"\"\n",
    "Python is a general purpose language.\n",
    "Python supports mutiple code paradigm.\n",
    "\"\"\""
   ]
  },
  {
   "cell_type": "code",
   "execution_count": 34,
   "id": "5e5ae709",
   "metadata": {},
   "outputs": [
    {
     "name": "stdout",
     "output_type": "stream",
     "text": [
      "The total is 49\n"
     ]
    }
   ],
   "source": [
    "## Line continuation syntax\n",
    "## use blackslash (\\) to continue to the next line.\n",
    "\n",
    "total = 2+5+8+4+\\\n",
    "10+20\n",
    "print(f\"The total is {total}\")"
   ]
  },
  {
   "cell_type": "code",
   "execution_count": 35,
   "id": "d745811c",
   "metadata": {},
   "outputs": [
    {
     "name": "stdout",
     "output_type": "stream",
     "text": [
      "Sum: 5\n"
     ]
    }
   ],
   "source": [
    "## Multiple statements using a single line.\n",
    "\n",
    "x=2;y=3;z=x+y\n",
    "print('Sum:',z)"
   ]
  },
  {
   "cell_type": "code",
   "execution_count": 36,
   "id": "f8a91804",
   "metadata": {},
   "outputs": [
    {
     "name": "stdout",
     "output_type": "stream",
     "text": [
      "5 5 5\n"
     ]
    }
   ],
   "source": [
    "x=y=z=5\n",
    "print(x, y, z)"
   ]
  },
  {
   "cell_type": "code",
   "execution_count": 37,
   "id": "3d27c701",
   "metadata": {},
   "outputs": [
    {
     "name": "stdout",
     "output_type": "stream",
     "text": [
      "18\n"
     ]
    }
   ],
   "source": [
    "a,b,c = 3, 6, 9\n",
    "print(a+b+c)"
   ]
  },
  {
   "cell_type": "code",
   "execution_count": 38,
   "id": "e2782ea7",
   "metadata": {},
   "outputs": [
    {
     "name": "stdout",
     "output_type": "stream",
     "text": [
      "<class 'int'>\n",
      "<class 'float'>\n",
      "<class 'str'>\n"
     ]
    }
   ],
   "source": [
    "## Fathom the semantics in python\n",
    "\n",
    "x = 100 ## Integer data type\n",
    "print(type(x))\n",
    "\n",
    "y = 3.14 ## Float data type\n",
    "print(type(y))\n",
    "\n",
    "name = 'anas' # STR\n",
    "print(type(name))"
   ]
  },
  {
   "cell_type": "code",
   "execution_count": 39,
   "id": "0987a9ad",
   "metadata": {},
   "outputs": [
    {
     "name": "stdout",
     "output_type": "stream",
     "text": [
      "<class 'float'>\n",
      "<class 'str'>\n"
     ]
    }
   ],
   "source": [
    "## Type inference\n",
    "\n",
    "var = 1e308\n",
    "print(type(var))\n",
    "var= 'python'\n",
    "print(type(var))"
   ]
  },
  {
   "cell_type": "code",
   "execution_count": 10,
   "id": "3b77862c",
   "metadata": {},
   "outputs": [
    {
     "ename": "NameError",
     "evalue": "name 'n' is not defined",
     "output_type": "error",
     "traceback": [
      "\u001b[31m---------------------------------------------------------------------------\u001b[39m",
      "\u001b[31mNameError\u001b[39m                                 Traceback (most recent call last)",
      "\u001b[36mCell\u001b[39m\u001b[36m \u001b[39m\u001b[32mIn[10]\u001b[39m\u001b[32m, line 3\u001b[39m\n\u001b[32m      1\u001b[39m \u001b[38;5;66;03m## Name error\u001b[39;00m\n\u001b[32m----> \u001b[39m\u001b[32m3\u001b[39m m=\u001b[43mn\u001b[49m\n",
      "\u001b[31mNameError\u001b[39m: name 'n' is not defined"
     ]
    }
   ],
   "source": [
    "## Name error\n",
    "\n",
    "m=n"
   ]
  },
  {
   "cell_type": "code",
   "execution_count": 41,
   "id": "2b7a0efe",
   "metadata": {},
   "outputs": [
    {
     "name": "stdout",
     "output_type": "stream",
     "text": [
      "This will print since it's bool True\n",
      "This statement will print since it's outta the false block\n",
      "This statement will print eventually since it's in vertical to True Block\n"
     ]
    }
   ],
   "source": [
    "## Code examples of indentation\n",
    "\n",
    "if True:\n",
    "    print(\"This will print since it's bool True\")\n",
    "    if False:\n",
    "        print(\"This will not be printed since it's False\")\n",
    "    print(\"This statement will print since it's outta the false block\")\n",
    "  \n",
    "print(\"This statement will print eventually since it's in vertical to True Block\")        \n",
    "\n"
   ]
  },
  {
   "cell_type": "markdown",
   "id": "532ab285",
   "metadata": {},
   "source": [
    "### Conclusion:\n",
    "Understanding the syntax and semantics of Python is crucial for writing correct and meaningful programs. Syntax ensures the code is properly structured, while semantics ensures the code behaves as expected. "
   ]
  }
 ],
 "metadata": {
  "kernelspec": {
   "display_name": "Python 3",
   "language": "python",
   "name": "python3"
  },
  "language_info": {
   "codemirror_mode": {
    "name": "ipython",
    "version": 3
   },
   "file_extension": ".py",
   "mimetype": "text/x-python",
   "name": "python",
   "nbconvert_exporter": "python",
   "pygments_lexer": "ipython3",
   "version": "3.12.0"
  }
 },
 "nbformat": 4,
 "nbformat_minor": 5
}
