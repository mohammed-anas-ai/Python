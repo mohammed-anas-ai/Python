{
 "cells": [
  {
   "cell_type": "markdown",
   "id": "8110fd26",
   "metadata": {},
   "source": [
    "### Variables\n",
    "Variables are fundamental elements in programming used to store data that can be referenced and manipulated in a program. In Python, variables are created when you assign a literal to them, and they do not need explicit declaration to reserve memory space. The declaration happens automatically when you assign a literal to a variable."
   ]
  },
  {
   "cell_type": "code",
   "execution_count": 2,
   "id": "e64cb07a",
   "metadata": {},
   "outputs": [
    {
     "name": "stdout",
     "output_type": "stream",
     "text": [
      "23\n",
      "5.8\n",
      "mohammed anas\n",
      "(33+7j)\n",
      "True\n"
     ]
    }
   ],
   "source": [
    "## Declaring and assigning variables\n",
    "\n",
    "age = 23\n",
    "height = 5.8\n",
    "name = 'mohammed anas'\n",
    "complex = 33+7j\n",
    "is_student = bool(True)\n",
    "\n",
    "## Print to the console\n",
    "\n",
    "print(age)\n",
    "print(height)\n",
    "print(name)\n",
    "print(complex)\n",
    "print(is_student)"
   ]
  },
  {
   "cell_type": "code",
   "execution_count": 28,
   "id": "54e8a465",
   "metadata": {},
   "outputs": [],
   "source": [
    "## Varibale naming conventions as follows:\n",
    "\n",
    "## Variable name should be descriptive\n",
    "## They should start with name or underscore not a digit or @.\n",
    "## Varibale name can be alphanumeric\n",
    "## Varibale name shouldn't be keywords\n",
    "## Variable can have underscore - single underscore is protected(_) and double underscore is private(__)"
   ]
  },
  {
   "cell_type": "code",
   "execution_count": 3,
   "id": "8944313c",
   "metadata": {},
   "outputs": [],
   "source": [
    "## Valid Varibales as follows:\n",
    "\n",
    "first_name = 'mohammed'\n",
    "last_name = 'anas'\n",
    "car1 = 'Ferrari'\n",
    "_ = 'GTR'\n",
    "__ = 'Mclaren'\n",
    "\n"
   ]
  },
  {
   "cell_type": "code",
   "execution_count": 2,
   "id": "d4584885",
   "metadata": {},
   "outputs": [
    {
     "ename": "SyntaxError",
     "evalue": "invalid decimal literal (3006364212.py, line 3)",
     "output_type": "error",
     "traceback": [
      "  \u001b[36mCell\u001b[39m\u001b[36m \u001b[39m\u001b[32mIn[2]\u001b[39m\u001b[32m, line 3\u001b[39m\n\u001b[31m    \u001b[39m\u001b[31m1name = 'anas'\u001b[39m\n    ^\n\u001b[31mSyntaxError\u001b[39m\u001b[31m:\u001b[39m invalid decimal literal\n"
     ]
    }
   ],
   "source": [
    "## Invalid Variables as follows:\n",
    "\n",
    "1name = 'anas'\n",
    "@anas.com = 'email account'\n",
    "first-name = 'mohammed anas'"
   ]
  },
  {
   "cell_type": "code",
   "execution_count": 3,
   "id": "75832b33",
   "metadata": {},
   "outputs": [
    {
     "name": "stdout",
     "output_type": "stream",
     "text": [
      "False\n"
     ]
    }
   ],
   "source": [
    "## Case sensitivity\n",
    "\n",
    "name = 'Linear Regression'\n",
    "Name = 'Logistic Regression'\n",
    "\n",
    "print(name==Name)\n",
    "\n"
   ]
  },
  {
   "cell_type": "code",
   "execution_count": 8,
   "id": "88435755",
   "metadata": {},
   "outputs": [
    {
     "name": "stdout",
     "output_type": "stream",
     "text": [
      "23\n",
      "5.8\n",
      "anas\n",
      "True\n"
     ]
    }
   ],
   "source": [
    "## Fathoming Variable Types:\n",
    "\n",
    "## Python is a dynamically typed, type of a variable is determined at the run time.\n",
    "\n",
    "age = 23 # Int\n",
    "height = 5.8\n",
    "name = 'anas'\n",
    "is_student = bool(True)\n",
    "\n",
    "print(age)\n",
    "print(height)\n",
    "print(name)\n",
    "print(is_student)"
   ]
  },
  {
   "cell_type": "code",
   "execution_count": 9,
   "id": "b3c5f741",
   "metadata": {},
   "outputs": [
    {
     "name": "stdout",
     "output_type": "stream",
     "text": [
      "<class 'str'>\n",
      "<class 'int'>\n",
      "<class 'float'>\n",
      "<class 'bool'>\n"
     ]
    }
   ],
   "source": [
    "## Type checking\n",
    "\n",
    "print(type(name))\n",
    "print(type(age))\n",
    "print(type(height))\n",
    "print(type(is_student))"
   ]
  },
  {
   "cell_type": "code",
   "execution_count": 10,
   "id": "2c46230a",
   "metadata": {},
   "outputs": [
    {
     "name": "stdout",
     "output_type": "stream",
     "text": [
      "3 <class 'int'>\n",
      "3 <class 'str'>\n"
     ]
    }
   ],
   "source": [
    "## Type Conversion - is a process of converting one data type to another\n",
    "\n",
    "## Valid type conversion\n",
    "\n",
    "blob = 3\n",
    "print(blob,type(blob))\n",
    "\n",
    "## Converting INT to STR\n",
    "\n",
    "blob_str = str(blob)\n",
    "print(blob_str,type(blob_str))"
   ]
  },
  {
   "cell_type": "code",
   "execution_count": 16,
   "id": "8174f958",
   "metadata": {},
   "outputs": [
    {
     "name": "stdout",
     "output_type": "stream",
     "text": [
      "71 <class 'str'>\n",
      "71 <class 'int'>\n"
     ]
    }
   ],
   "source": [
    "blob = '71'\n",
    "print(blob,type(blob))\n",
    "\n",
    "## Convering STR to INT\n",
    "\n",
    "blob_int = int(blob)\n",
    "print(blob_int,type(blob_int))"
   ]
  },
  {
   "cell_type": "code",
   "execution_count": 3,
   "id": "a853ec30",
   "metadata": {},
   "outputs": [
    {
     "name": "stdout",
     "output_type": "stream",
     "text": [
      "<class 'float'>\n",
      "<class 'int'>\n"
     ]
    }
   ],
   "source": [
    "learning_rate = 0.001\n",
    "print(type(learning_rate))\n",
    "\n",
    "## Converting float into int\n",
    "\n",
    "learning_rate_int = int(learning_rate)\n",
    "print(type(learning_rate_int))"
   ]
  },
  {
   "cell_type": "code",
   "execution_count": 4,
   "id": "e7c4a63d",
   "metadata": {},
   "outputs": [
    {
     "name": "stdout",
     "output_type": "stream",
     "text": [
      "<class 'complex'>\n"
     ]
    },
    {
     "ename": "TypeError",
     "evalue": "float() argument must be a string or a real number, not 'complex'",
     "output_type": "error",
     "traceback": [
      "\u001b[31m---------------------------------------------------------------------------\u001b[39m",
      "\u001b[31mTypeError\u001b[39m                                 Traceback (most recent call last)",
      "\u001b[36mCell\u001b[39m\u001b[36m \u001b[39m\u001b[32mIn[4]\u001b[39m\u001b[32m, line 8\u001b[39m\n\u001b[32m      4\u001b[39m \u001b[38;5;28mprint\u001b[39m(\u001b[38;5;28mtype\u001b[39m(\u001b[38;5;28mcomplex\u001b[39m))\n\u001b[32m      6\u001b[39m \u001b[38;5;66;03m## Converting complex to float,int\u001b[39;00m\n\u001b[32m----> \u001b[39m\u001b[32m8\u001b[39m float_complex = \u001b[38;5;28;43mfloat\u001b[39;49m\u001b[43m(\u001b[49m\u001b[38;5;28;43mcomplex\u001b[39;49m\u001b[43m)\u001b[49m\n\u001b[32m      9\u001b[39m \u001b[38;5;28mprint\u001b[39m(\u001b[38;5;28mtype\u001b[39m(float_complex))\n\u001b[32m     11\u001b[39m int_complex = \u001b[38;5;28mint\u001b[39m(\u001b[38;5;28mcomplex\u001b[39m)\n",
      "\u001b[31mTypeError\u001b[39m: float() argument must be a string or a real number, not 'complex'"
     ]
    }
   ],
   "source": [
    "## Invalid Type Conversion\n",
    "\n",
    "complex = 44+8j\n",
    "print(type(complex))\n",
    "\n",
    "## Converting complex to float,int\n",
    "\n",
    "float_complex = float(complex)\n",
    "print(type(float_complex))\n",
    "\n",
    "int_complex = int(complex)\n",
    "print(type(int_complex))\n",
    "\n"
   ]
  },
  {
   "cell_type": "code",
   "execution_count": 5,
   "id": "324f3266",
   "metadata": {},
   "outputs": [
    {
     "ename": "ValueError",
     "evalue": "invalid literal for int() with base 10: 'anas'",
     "output_type": "error",
     "traceback": [
      "\u001b[31m---------------------------------------------------------------------------\u001b[39m",
      "\u001b[31mValueError\u001b[39m                                Traceback (most recent call last)",
      "\u001b[36mCell\u001b[39m\u001b[36m \u001b[39m\u001b[32mIn[5]\u001b[39m\u001b[32m, line 3\u001b[39m\n\u001b[32m      1\u001b[39m name = \u001b[33m'\u001b[39m\u001b[33manas\u001b[39m\u001b[33m'\u001b[39m\n\u001b[32m----> \u001b[39m\u001b[32m3\u001b[39m int_str = \u001b[38;5;28;43mint\u001b[39;49m\u001b[43m(\u001b[49m\u001b[43mname\u001b[49m\u001b[43m)\u001b[49m\n\u001b[32m      4\u001b[39m \u001b[38;5;28mprint\u001b[39m(\u001b[38;5;28mtype\u001b[39m(int_str))\n",
      "\u001b[31mValueError\u001b[39m: invalid literal for int() with base 10: 'anas'"
     ]
    }
   ],
   "source": [
    "name = 'anas'\n",
    "\n",
    "int_str = int(name)\n",
    "print(type(int_str))"
   ]
  },
  {
   "cell_type": "code",
   "execution_count": 6,
   "id": "f5c3ec2a",
   "metadata": {},
   "outputs": [
    {
     "name": "stdout",
     "output_type": "stream",
     "text": [
      "SVM\n",
      "0.001\n"
     ]
    }
   ],
   "source": [
    "## Dynamic Typing. We don't need to specify the data type before creating an indentifier.\n",
    "\n",
    "name = 'SVM'\n",
    "print(name)\n",
    "\n",
    "learning_rate = 0.001\n",
    "print(learning_rate)\n",
    "\n",
    "\n"
   ]
  },
  {
   "cell_type": "code",
   "execution_count": 7,
   "id": "8e141a93",
   "metadata": {},
   "outputs": [
    {
     "name": "stdout",
     "output_type": "stream",
     "text": [
      "anas\n",
      "23\n",
      "3.14\n"
     ]
    }
   ],
   "source": [
    "## Dynamic binding - Python allows the literal assigned to the variable to be changed as the program executes. in short literal is not asscoiated to a variable it can be changed in the same program.\n",
    "\n",
    "var = 'anas' ## STR\n",
    "print(var)\n",
    "var = 23  ## INT\n",
    "print(var)\n",
    "var = 3.14 ## FLOAT\n",
    "print(var)"
   ]
  },
  {
   "cell_type": "code",
   "execution_count": 8,
   "id": "82512a1a",
   "metadata": {},
   "outputs": [
    {
     "name": "stdout",
     "output_type": "stream",
     "text": [
      "hh\n",
      "<class 'str'>\n"
     ]
    }
   ],
   "source": [
    "## Input Function - is a inbuilt function which takes input from the user and it always return strings because string is a universal datatype can hold any datatype.\n",
    "\n",
    "number = input(\"Enter the number :\")\n",
    "print(number)\n",
    "print(type(number))\n"
   ]
  },
  {
   "cell_type": "code",
   "execution_count": 18,
   "id": "18fc169e",
   "metadata": {},
   "outputs": [
    {
     "name": "stdout",
     "output_type": "stream",
     "text": [
      "Sum: 34.0\n",
      "Difference: 10.0\n",
      "Product 264.0\n",
      "Quotient 1.8333333333333333\n"
     ]
    }
   ],
   "source": [
    "## Write a program to create a simple calculator which takes input from the user.\n",
    "\n",
    "\n",
    "## Take the input from the user:\n",
    "num1 = float(input(\"Enter the fnum :\"))\n",
    "num2 = float(input(\"Enter the snum :\"))\n",
    "\n",
    "## Perform the operations:\n",
    "sum = num1+num2\n",
    "difference = num1-num2\n",
    "product = num1*num2\n",
    "quotient = num1/num2\n",
    "\n",
    "## print to the console:\n",
    "\n",
    "print(\"Sum:\",sum)\n",
    "print(\"Difference:\",difference)\n",
    "print(\"Product\",product)\n",
    "print(\"Quotient\",quotient)\n",
    "\n"
   ]
  },
  {
   "cell_type": "markdown",
   "id": "039a6c37",
   "metadata": {},
   "source": [
    "### Conclusion:\n",
    "Variables are essential in Python programming for storing and manipulating data. Understanding how to declare, assign, and use variables effectively is crucial for writing functional and efficient code. Following proper naming conventions and understanding variable types will help in maintaining readability and consistency in your code."
   ]
  },
  {
   "cell_type": "code",
   "execution_count": null,
   "id": "2e601324",
   "metadata": {},
   "outputs": [],
   "source": []
  }
 ],
 "metadata": {
  "kernelspec": {
   "display_name": "Python 3",
   "language": "python",
   "name": "python3"
  },
  "language_info": {
   "codemirror_mode": {
    "name": "ipython",
    "version": 3
   },
   "file_extension": ".py",
   "mimetype": "text/x-python",
   "name": "python",
   "nbconvert_exporter": "python",
   "pygments_lexer": "ipython3",
   "version": "3.12.0"
  }
 },
 "nbformat": 4,
 "nbformat_minor": 5
}
