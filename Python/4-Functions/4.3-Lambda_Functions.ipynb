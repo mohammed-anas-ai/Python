{
 "cells": [
  {
   "cell_type": "markdown",
   "id": "810b1e9d",
   "metadata": {},
   "source": [
    "### Introduction to Lambda Function.\n",
    "\n",
    "well, lambda is a small anonymous function which is defined using the keyboard lambda furthermore, It take can have any number for arguments however it can only have a single expression additionally, it is useful for short operations alternatively as argument for higher order function."
   ]
  },
  {
   "cell_type": "code",
   "execution_count": 11,
   "id": "00d9cca6",
   "metadata": {},
   "outputs": [
    {
     "data": {
      "text/plain": [
       "<function __main__.<lambda>(arguments)>"
      ]
     },
     "execution_count": 11,
     "metadata": {},
     "output_type": "execute_result"
    }
   ],
   "source": [
    "# Syntax\n",
    "\n",
    "lambda arguments: expression"
   ]
  },
  {
   "cell_type": "code",
   "execution_count": 12,
   "id": "4e6e70fe",
   "metadata": {},
   "outputs": [
    {
     "name": "stdout",
     "output_type": "stream",
     "text": [
      "Addition: 5\n"
     ]
    }
   ],
   "source": [
    "# Addition\n",
    "\n",
    "add = lambda x,y:x+y\n",
    "print(f\"Addition:\",add(2,3))"
   ]
  },
  {
   "cell_type": "code",
   "execution_count": 15,
   "id": "5fc17687",
   "metadata": {},
   "outputs": [
    {
     "name": "stdout",
     "output_type": "stream",
     "text": [
      "Product: 9\n"
     ]
    }
   ],
   "source": [
    "# Multiplication\n",
    "\n",
    "product = lambda x,y:x*y\n",
    "print(\"Product:\",(product(3,3)))"
   ]
  },
  {
   "cell_type": "code",
   "execution_count": 12,
   "id": "6163f360",
   "metadata": {},
   "outputs": [
    {
     "name": "stdout",
     "output_type": "stream",
     "text": [
      "True\n"
     ]
    }
   ],
   "source": [
    "## even\n",
    "\n",
    "even = lambda num:num%2 == 0\n",
    "print(even(12))"
   ]
  },
  {
   "cell_type": "code",
   "execution_count": 14,
   "id": "0f8380eb",
   "metadata": {},
   "outputs": [
    {
     "name": "stdout",
     "output_type": "stream",
     "text": [
      "True\n"
     ]
    }
   ],
   "source": [
    "## odd\n",
    "\n",
    "even = lambda num:num%2 == 1\n",
    "print(even(11))"
   ]
  },
  {
   "cell_type": "code",
   "execution_count": 16,
   "id": "50be77af",
   "metadata": {},
   "outputs": [
    {
     "name": "stdout",
     "output_type": "stream",
     "text": [
      "9\n"
     ]
    }
   ],
   "source": [
    "# Lambda function with multiple arguments.\n",
    "\n",
    "add = lambda x,y,z:x+y+z\n",
    "print(add(2,3,4))"
   ]
  },
  {
   "cell_type": "code",
   "execution_count": 14,
   "id": "0a1afddb",
   "metadata": {},
   "outputs": [
    {
     "name": "stdout",
     "output_type": "stream",
     "text": [
      "9\n"
     ]
    }
   ],
   "source": [
    "\n",
    "def square(num):\n",
    "    return num**2\n",
    "print(square(3))    "
   ]
  },
  {
   "cell_type": "code",
   "execution_count": 24,
   "id": "c99768a4",
   "metadata": {},
   "outputs": [
    {
     "name": "stdout",
     "output_type": "stream",
     "text": [
      "[1, 4, 9, 16, 25, 36]\n"
     ]
    }
   ],
   "source": [
    "# MAP function applies function to all the items in a python sequence (iterator).\n",
    "\n",
    "lst = [1,2,3,4,5,6]\n",
    "square = list((map(lambda x:x*x,lst)))\n",
    "print(square)"
   ]
  },
  {
   "cell_type": "code",
   "execution_count": null,
   "id": "8d9b212b",
   "metadata": {},
   "outputs": [],
   "source": [
    "# Question 1 – Square of Odd Numbers\n",
    "# Problem:\n",
    "# Given a list of numbers from 1 to 10, use a lambda function to generate a new list containing the squares of only the odd numbers.\n",
    "\n",
    "# ✅ Don't use map or filter together. Use just lambda inside a list comprehension or however you prefer."
   ]
  },
  {
   "cell_type": "code",
   "execution_count": 32,
   "id": "48725728",
   "metadata": {},
   "outputs": [
    {
     "name": "stdout",
     "output_type": "stream",
     "text": [
      "[1, 9, 25, 49, 81]\n"
     ]
    }
   ],
   "source": [
    "squares_odd = [(lambda x:x*x)(x) for x in range(1,11) if x%2 == 1]\n",
    "print(squares_odd)"
   ]
  },
  {
   "cell_type": "code",
   "execution_count": null,
   "id": "5b4616ce",
   "metadata": {},
   "outputs": [],
   "source": []
  }
 ],
 "metadata": {
  "kernelspec": {
   "display_name": "Python 3",
   "language": "python",
   "name": "python3"
  },
  "language_info": {
   "codemirror_mode": {
    "name": "ipython",
    "version": 3
   },
   "file_extension": ".py",
   "mimetype": "text/x-python",
   "name": "python",
   "nbconvert_exporter": "python",
   "pygments_lexer": "ipython3",
   "version": "3.12.0"
  }
 },
 "nbformat": 4,
 "nbformat_minor": 5
}
