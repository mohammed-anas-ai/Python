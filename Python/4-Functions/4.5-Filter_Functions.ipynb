{
 "cells": [
  {
   "cell_type": "markdown",
   "id": "74fba8bb",
   "metadata": {},
   "source": [
    "##### Introduction to filter() Function in Python\n",
    "The filter() function constructs an iterator from elements of an iterable for which a function returns true. It is used to filter out items from a list (or any other iterable) based on a specific condition."
   ]
  },
  {
   "cell_type": "code",
   "execution_count": 2,
   "id": "0ee2e8d8",
   "metadata": {},
   "outputs": [
    {
     "data": {
      "text/plain": [
       "True"
      ]
     },
     "execution_count": 2,
     "metadata": {},
     "output_type": "execute_result"
    }
   ],
   "source": [
    "def even(num):\n",
    "    if num % 2 == 0:\n",
    "       return True\n",
    "\n",
    "even(12)\n",
    "\n"
   ]
  },
  {
   "cell_type": "code",
   "execution_count": 6,
   "id": "e495c7d4",
   "metadata": {},
   "outputs": [
    {
     "data": {
      "text/plain": [
       "[2, 4, 6, 8, 10, 12]"
      ]
     },
     "execution_count": 6,
     "metadata": {},
     "output_type": "execute_result"
    }
   ],
   "source": [
    "lst = list([1,2,3,4,5,6,7,8,9,10,11,12,13])\n",
    "\n",
    "list(filter(even,lst))\n"
   ]
  },
  {
   "cell_type": "code",
   "execution_count": 7,
   "id": "8acfdb45",
   "metadata": {},
   "outputs": [
    {
     "data": {
      "text/plain": [
       "[4, 5, 6, 7, 8, 9, 10]"
      ]
     },
     "execution_count": 7,
     "metadata": {},
     "output_type": "execute_result"
    }
   ],
   "source": [
    "## filter with a Lambda Function\n",
    "\n",
    "numbers = list(range(1,11))\n",
    "\n",
    "list(filter(lambda x:x>=4,numbers))"
   ]
  },
  {
   "cell_type": "code",
   "execution_count": 14,
   "id": "89f88be2",
   "metadata": {},
   "outputs": [
    {
     "data": {
      "text/plain": [
       "[6, 8, 10]"
      ]
     },
     "execution_count": 14,
     "metadata": {},
     "output_type": "execute_result"
    }
   ],
   "source": [
    "## filter with a Lambda Function with multiple conditions.\n",
    "\n",
    "numbers = list(range(1,11))\n",
    "\n",
    "list(filter(lambda x:x>5 and x%2==0,numbers))"
   ]
  },
  {
   "cell_type": "code",
   "execution_count": null,
   "id": "27559b09",
   "metadata": {},
   "outputs": [
    {
     "data": {
      "text/plain": [
       "[{'name': 'anas', 'age': 23}, {'name': 'aziz', 'age': 45}]"
      ]
     },
     "execution_count": 12,
     "metadata": {},
     "output_type": "execute_result"
    }
   ],
   "source": [
    "## Filter() to check if the age is greater than 22 in dictionaries\n",
    "\n",
    "students =[\n",
    "    {'name':'anas','age':23},\n",
    "    {'name':'aziz','age':45},\n",
    "    {'name':'afifa','age':21}\n",
    "]\n",
    "\n",
    "def student_details(person):\n",
    "    return person['age'] > 22\n",
    "\n",
    "list(filter(student_details,students))\n",
    "\n",
    "\n"
   ]
  },
  {
   "cell_type": "code",
   "execution_count": 14,
   "id": "810cd7ab",
   "metadata": {},
   "outputs": [
    {
     "name": "stdout",
     "output_type": "stream",
     "text": [
      "[1, 3, 5, 7, 9]\n"
     ]
    }
   ],
   "source": [
    "numbers = [1, 2, 3, 4, 5, 6, 7, 8, 9, 10]\n",
    "\n",
    "odd = list(filter(lambda num:num % 2 != 0,numbers))\n",
    "\n",
    "print(odd)"
   ]
  },
  {
   "cell_type": "code",
   "execution_count": 24,
   "id": "107e978a",
   "metadata": {},
   "outputs": [],
   "source": [
    "#  Question 1:\n",
    "# Filter out the numbers from the list that are divisible by 3."
   ]
  },
  {
   "cell_type": "code",
   "execution_count": 23,
   "id": "09c2a725",
   "metadata": {},
   "outputs": [
    {
     "data": {
      "text/plain": [
       "[3, 6, 9, 12, 15]"
      ]
     },
     "execution_count": 23,
     "metadata": {},
     "output_type": "execute_result"
    }
   ],
   "source": [
    "numbers = list(range(1,16))\n",
    "\n",
    "output = list(filter(lambda num : num % 3 == 0,numbers))\n",
    "output"
   ]
  },
  {
   "cell_type": "code",
   "execution_count": 32,
   "id": "2774e7d9",
   "metadata": {},
   "outputs": [],
   "source": [
    "#  Question 2:\n",
    "# Filter all strings that start with the letter 'a' from the list below:"
   ]
  },
  {
   "cell_type": "code",
   "execution_count": 18,
   "id": "f799a24a",
   "metadata": {},
   "outputs": [
    {
     "name": "stdout",
     "output_type": "stream",
     "text": [
      "['apple', 'avocado', 'apricot']\n"
     ]
    }
   ],
   "source": [
    "words = ['apple', 'banana', 'avocado', 'cherry', 'apricot', 'blueberry']\n",
    "word_a = list(filter(lambda a: a.startswith('a'), words))\n",
    "print(word_a)\n"
   ]
  },
  {
   "cell_type": "code",
   "execution_count": null,
   "id": "a8af874b",
   "metadata": {},
   "outputs": [
    {
     "data": {
      "text/plain": [
       "['cherry', 'blueberry']"
      ]
     },
     "execution_count": 42,
     "metadata": {},
     "output_type": "execute_result"
    }
   ],
   "source": [
    "#  Question:\n",
    "# You have a list of numbers from 1 to 20.\n",
    "# Write a lambda function using filter() to get only the numbers that are divisible by both 2 and 3."
   ]
  },
  {
   "cell_type": "code",
   "execution_count": 27,
   "id": "0bab2799",
   "metadata": {},
   "outputs": [
    {
     "name": "stdout",
     "output_type": "stream",
     "text": [
      "[6, 12, 18]\n"
     ]
    }
   ],
   "source": [
    "numbers = list(range(1,21))\n",
    "\n",
    "result = list(filter(lambda num: num%2 == 0 and num%3 == 0, numbers))\n",
    "print(result)"
   ]
  },
  {
   "cell_type": "code",
   "execution_count": 21,
   "id": "4ca8aa35",
   "metadata": {},
   "outputs": [
    {
     "data": {
      "text/plain": [
       "['apple', 'orange', 'umbrella', 'avocado']"
      ]
     },
     "execution_count": 21,
     "metadata": {},
     "output_type": "execute_result"
    }
   ],
   "source": [
    "# Given a list of strings, filter only those strings that start with a vowel.\n",
    "\n",
    "words = ['apple', 'banana', 'orange', 'grape', 'umbrella', 'cherry', 'avocado']\n",
    "\n",
    "# Write a one-liner using filter and lambda to get words starting with a vowel.\n",
    "\n",
    "vowel_result = list(filter(lambda word:word.lower().startswith(('a','e','i','o','u')),words))\n",
    "vowel_result\n"
   ]
  },
  {
   "cell_type": "code",
   "execution_count": 67,
   "id": "0fe80160",
   "metadata": {},
   "outputs": [],
   "source": [
    "## You are given a list of integers from 1 to 20.\n",
    "# Filter out the numbers that are divisible by 3, and then double each of the filtered numbers.\n",
    "\n",
    "# Use only: lambda, filter, and map."
   ]
  },
  {
   "cell_type": "code",
   "execution_count": 74,
   "id": "fae868dd",
   "metadata": {},
   "outputs": [
    {
     "data": {
      "text/plain": [
       "[6, 12, 18, 24, 30, 36]"
      ]
     },
     "execution_count": 74,
     "metadata": {},
     "output_type": "execute_result"
    }
   ],
   "source": [
    "numbers = list(range(1,21))\n",
    "\n",
    "result = list(map(lambda num:num*2, filter(lambda num:num % 3 == 0,numbers)))\n",
    "result\n"
   ]
  },
  {
   "cell_type": "code",
   "execution_count": null,
   "id": "15693286",
   "metadata": {},
   "outputs": [
    {
     "data": {
      "text/plain": [
       "[6, 12, 18, 24, 30, 36]"
      ]
     },
     "execution_count": 73,
     "metadata": {},
     "output_type": "execute_result"
    }
   ],
   "source": [
    "# 2.You have a list of integers from 1 to 30.\n",
    "# First, filter out only the numbers that are divisible by 2 and 5.\n",
    "# Then, square those filtered numbers using map."
   ]
  },
  {
   "cell_type": "code",
   "execution_count": 40,
   "id": "1542e546",
   "metadata": {},
   "outputs": [
    {
     "data": {
      "text/plain": [
       "[100, 400, 900]"
      ]
     },
     "execution_count": 40,
     "metadata": {},
     "output_type": "execute_result"
    }
   ],
   "source": [
    "numbers = list(range(1,31))\n",
    "\n",
    "result = list(map(lambda number:number**2 ,filter(lambda number: number %2 == 0 and number % 5 == 0,numbers)))\n",
    "result"
   ]
  },
  {
   "cell_type": "code",
   "execution_count": null,
   "id": "b70366a5",
   "metadata": {},
   "outputs": [],
   "source": []
  }
 ],
 "metadata": {
  "kernelspec": {
   "display_name": "Python 3",
   "language": "python",
   "name": "python3"
  },
  "language_info": {
   "codemirror_mode": {
    "name": "ipython",
    "version": 3
   },
   "file_extension": ".py",
   "mimetype": "text/x-python",
   "name": "python",
   "nbconvert_exporter": "python",
   "pygments_lexer": "ipython3",
   "version": "3.12.0"
  }
 },
 "nbformat": 4,
 "nbformat_minor": 5
}
