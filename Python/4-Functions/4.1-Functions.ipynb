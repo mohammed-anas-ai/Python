{
 "cells": [
  {
   "cell_type": "markdown",
   "id": "ecf43857",
   "metadata": {},
   "source": [
    "#### Introduction to Functions.\n",
    "\n",
    "Function is a block of code that performs a specific task. Functions assists in organizing code, resuing the code furthermore, it improves the redability."
   ]
  },
  {
   "cell_type": "code",
   "execution_count": 63,
   "id": "42a12c2b",
   "metadata": {},
   "outputs": [],
   "source": [
    "# Function Syntax\n",
    "\n",
    "def function_name(parameters):\n",
    "    \"\"\"Doc string\"\"\"\n",
    "\n",
    "    # Function body\n",
    "\n",
    "    return expressions\n",
    "\n",
    "    "
   ]
  },
  {
   "cell_type": "code",
   "execution_count": 3,
   "id": "89af4bde",
   "metadata": {},
   "outputs": [
    {
     "name": "stdout",
     "output_type": "stream",
     "text": [
      "The number - 18 is even.\n"
     ]
    }
   ],
   "source": [
    "## The sole rationale why we use functions is for resuability of code.\n",
    "\n",
    "num = 18\n",
    "\n",
    "if num%2 == 0:\n",
    "    print(f\"The number - {num} is even.\")\n",
    "else:\n",
    "    print(f\"The number - {num} is odd.\")    "
   ]
  },
  {
   "cell_type": "code",
   "execution_count": 4,
   "id": "b7a869bc",
   "metadata": {},
   "outputs": [],
   "source": [
    "def even_or_odd(num):\n",
    "    \"\"\"This function finds either even or odd.\"\"\"\n",
    "\n",
    "    if num%2 == 0:\n",
    "        print(f\"The number - {num} is even.\")\n",
    "    else:\n",
    "        print(f\"The number - {num} is odd\")    "
   ]
  },
  {
   "cell_type": "code",
   "execution_count": 18,
   "id": "0e4f3f28",
   "metadata": {},
   "outputs": [
    {
     "name": "stdout",
     "output_type": "stream",
     "text": [
      "The number is -11 is odd.\n"
     ]
    }
   ],
   "source": [
    "# Calling the function.\n",
    "\n",
    "even_or_odd(11)"
   ]
  },
  {
   "cell_type": "code",
   "execution_count": 17,
   "id": "5aac3ff7",
   "metadata": {},
   "outputs": [
    {
     "name": "stdout",
     "output_type": "stream",
     "text": [
      "The 2020 is a leap year\n"
     ]
    }
   ],
   "source": [
    "def leap_year(year):\n",
    "    \"\"\"The function finds whether the given year is a leap year or not.\"\"\"\n",
    "\n",
    "    if year % 4 == 0:\n",
    "        if year % 100 == 0:\n",
    "            if year % 400 == 0:\n",
    "                return f\"The {year} is a leap year.\"\n",
    "            else:\n",
    "                return f\"The {year} is not a leap year.\"  \n",
    "        else:\n",
    "            return f\"The {year} is a leap year\"\n",
    "\n",
    "    else:\n",
    "        return f\"The {year} is not a leap year.\"\n",
    "\n",
    "print(leap_year(2020))\n"
   ]
  },
  {
   "cell_type": "code",
   "execution_count": 8,
   "id": "5ec84da1",
   "metadata": {},
   "outputs": [
    {
     "name": "stdout",
     "output_type": "stream",
     "text": [
      "8\n"
     ]
    }
   ],
   "source": [
    "## Function with multiple parameters.\n",
    "\n",
    "def add(a,b):\n",
    "    return a+b\n",
    "\n",
    "print(add(6,2))"
   ]
  },
  {
   "cell_type": "code",
   "execution_count": 20,
   "id": "03b4e542",
   "metadata": {},
   "outputs": [
    {
     "name": "stdout",
     "output_type": "stream",
     "text": [
      "Total is (9, 3)\n"
     ]
    }
   ],
   "source": [
    "def multiply(x,y):\n",
    "    return x*y,x\n",
    "\n",
    "total = multiply(3,3)\n",
    "print(f\"Total is {total}\")"
   ]
  },
  {
   "cell_type": "code",
   "execution_count": null,
   "id": "a1bcef0f",
   "metadata": {},
   "outputs": [
    {
     "name": "stdout",
     "output_type": "stream",
     "text": [
      "Hello Guest welcome.\n",
      "None\n"
     ]
    }
   ],
   "source": [
    "# Default parameter\n",
    "\n",
    "def greet(name='Guest'):\n",
    "    print(f\"Hello {name} welcome.\")\n",
    "\n",
    "greet()"
   ]
  },
  {
   "cell_type": "code",
   "execution_count": 14,
   "id": "9233e741",
   "metadata": {},
   "outputs": [
    {
     "name": "stdout",
     "output_type": "stream",
     "text": [
      "hello anas\n"
     ]
    }
   ],
   "source": [
    "def greet(name='Guest'):\n",
    "    print(f\"hello {name}\")\n",
    "\n",
    "greet('anas')"
   ]
  },
  {
   "cell_type": "code",
   "execution_count": null,
   "id": "38c1b002",
   "metadata": {},
   "outputs": [
    {
     "name": "stdout",
     "output_type": "stream",
     "text": [
      "Sum: 15\n"
     ]
    }
   ],
   "source": [
    "## Variable length arguments\n",
    "\n",
    "# Positional arguments\n",
    "\n",
    "def addition(*args):\n",
    "    \"\"\"*args allows you to pass any number of positional arguments to the function as a tuple.\"\"\"\n",
    "    total = 0\n",
    "    for number in args:\n",
    "        total += number\n",
    "    print(f\"Sum: {total}\")  \n",
    "\n",
    "addition(1, 2, 3, 4, 5)             "
   ]
  },
  {
   "cell_type": "code",
   "execution_count": 2,
   "id": "fe903d83",
   "metadata": {},
   "outputs": [
    {
     "data": {
      "text/plain": [
       "8"
      ]
     },
     "execution_count": 2,
     "metadata": {},
     "output_type": "execute_result"
    }
   ],
   "source": [
    "def add(*args):\n",
    "    total = sum(args)\n",
    "    return total \n",
    "\n",
    "add(2,2,2,2)"
   ]
  },
  {
   "cell_type": "code",
   "execution_count": 5,
   "id": "8a53153f",
   "metadata": {},
   "outputs": [
    {
     "data": {
      "text/plain": [
       "12"
      ]
     },
     "execution_count": 5,
     "metadata": {},
     "output_type": "execute_result"
    }
   ],
   "source": [
    "def sum_even_numbers(*args):\n",
    "    even_numbers = [x for x in args if x%2 == 0]\n",
    "\n",
    "    return sum(even_numbers)\n",
    "\n",
    "sum_even_numbers(1,2,3,4,5,6)\n",
    "\n",
    "\n",
    "\n",
    "\n",
    "    "
   ]
  },
  {
   "cell_type": "code",
   "execution_count": 8,
   "id": "5b75a2c2",
   "metadata": {},
   "outputs": [
    {
     "name": "stdout",
     "output_type": "stream",
     "text": [
      "name:anas\n",
      "<class 'dict'>\n",
      "age:23\n",
      "<class 'dict'>\n",
      "height:5.9\n",
      "<class 'dict'>\n"
     ]
    }
   ],
   "source": [
    "# keyword arguments.\n",
    "\n",
    "def student_details(**kwargs):\n",
    "\n",
    "    \"\"\"This function comprise of keyword argument\"\"\"\n",
    "    \n",
    "    for key,value in kwargs.items():\n",
    "        print(f\"{key}:{value}\")\n",
    "        print(type(kwargs))\n",
    "        \n",
    "student_details(name='anas',age=23,height=5.9)"
   ]
  },
  {
   "cell_type": "code",
   "execution_count": null,
   "id": "2252bcd6",
   "metadata": {},
   "outputs": [
    {
     "name": "stdout",
     "output_type": "stream",
     "text": [
      "1\n",
      "2\n",
      "3\n",
      "4\n",
      "5\n",
      "name:anas\n",
      "designation:Ai scientist\n"
     ]
    }
   ],
   "source": [
    "def details(*args,**kwargs):\n",
    "\n",
    "    \"\"\"Using both positional and keyword arguments together in the function body\"\"\"\n",
    "\n",
    "    for value in args:\n",
    "        print(f\"{value}\")\n",
    "\n",
    "    for key,value in kwargs.items():\n",
    "        print(f\"{key}:{value}\")   \n",
    "\n",
    "details(1,2,3,4,5,name='anas',designation='Ai scientist')         "
   ]
  },
  {
   "cell_type": "code",
   "execution_count": 88,
   "id": "7b536de2",
   "metadata": {},
   "outputs": [
    {
     "data": {
      "text/plain": [
       "9"
      ]
     },
     "execution_count": 88,
     "metadata": {},
     "output_type": "execute_result"
    }
   ],
   "source": [
    "# return statement\n",
    "\n",
    "def multiply(x,y):\n",
    "    return x*y\n",
    "\n",
    "multiply(3,3)"
   ]
  },
  {
   "cell_type": "code",
   "execution_count": 91,
   "id": "73a934e8",
   "metadata": {},
   "outputs": [
    {
     "data": {
      "text/plain": [
       "(9, 3)"
      ]
     },
     "execution_count": 91,
     "metadata": {},
     "output_type": "execute_result"
    }
   ],
   "source": [
    "# return multiple parameters\n",
    "\n",
    "def multiply(x,y):\n",
    "    return x*y,y\n",
    "\n",
    "multiply(3,3)    "
   ]
  },
  {
   "cell_type": "code",
   "execution_count": null,
   "id": "05fcee12",
   "metadata": {},
   "outputs": [
    {
     "data": {
      "text/plain": [
       "{'h': 1, 'e': 1, 'l': 3, 'o': 2, 'w': 1, 'r': 1, 'd': 1}"
      ]
     },
     "execution_count": 6,
     "metadata": {},
     "output_type": "execute_result"
    }
   ],
   "source": [
    "def count_freq(s):\n",
    "    dict_count = {}\n",
    "\n",
    "    for word in s:\n",
    "        if word in dict_count:\n",
    "            dict_count[word] += 1\n",
    "        else:\n",
    "            dict_count[word] = 1\n",
    "    return dict_count\n",
    "\n",
    "strn = 'hello world'.replace(' ','')\n",
    "count_freq(strn)            "
   ]
  },
  {
   "cell_type": "code",
   "execution_count": 5,
   "id": "d5a9fb93",
   "metadata": {},
   "outputs": [
    {
     "name": "stdout",
     "output_type": "stream",
     "text": [
      "{'h': 1, 'e': 1, 'l': 3, 'o': 2, 'w': 1, 'r': 1, 'd': 1}\n"
     ]
    }
   ],
   "source": [
    "def count_frequency(s):\n",
    "    dict_count = {}\n",
    "\n",
    "    for char in s:\n",
    "        dict_count[char] = dict_count.get(char,0) + 1\n",
    "    return dict_count\n",
    "\n",
    "string = 'hello world'.replace(' ','')\n",
    "print(count_frequency(string))"
   ]
  },
  {
   "cell_type": "code",
   "execution_count": null,
   "id": "5657f2ef",
   "metadata": {},
   "outputs": [],
   "source": [
    "# Task:d\n",
    "# Write a Python function called count_vowels(sentence) that takes a string sentence as input and returns the number of vowels (a, e, i, o, u) in it."
   ]
  },
  {
   "cell_type": "code",
   "execution_count": 101,
   "id": "2fbb1a51",
   "metadata": {},
   "outputs": [
    {
     "name": "stdout",
     "output_type": "stream",
     "text": [
      "6\n"
     ]
    }
   ],
   "source": [
    "def vowels_count(sentence):\n",
    "    '''This function counts the vowels present in the input string'''\n",
    "\n",
    "    vowels = 'aeiouAEIOU'\n",
    "    count = 0\n",
    "\n",
    "    for char in sentence:\n",
    "        if char in vowels:\n",
    "            count += 1\n",
    "    return count        \n",
    "\n",
    "print(vowels_count(\"Python is Awesome\"))\n"
   ]
  },
  {
   "cell_type": "code",
   "execution_count": null,
   "id": "d208ba63",
   "metadata": {},
   "outputs": [],
   "source": [
    "# Write a function called count_upper_lower\n",
    "# that takes a string as input and returns a dictionary with the count of:\n",
    "\n",
    "# uppercase letters\n",
    "\n",
    "# lowercase letters"
   ]
  },
  {
   "cell_type": "code",
   "execution_count": 104,
   "id": "2631940a",
   "metadata": {},
   "outputs": [
    {
     "name": "stdout",
     "output_type": "stream",
     "text": [
      "{'uppercase': 2, 'lowercase': 8}\n"
     ]
    }
   ],
   "source": [
    "def count_upper_lower(s):\n",
    "\n",
    "    dict_count = {'uppercase':0,'lowercase':0}\n",
    "\n",
    "    for char in s:\n",
    "        if char.isupper():\n",
    "            dict_count['uppercase'] += 1\n",
    "        elif char.islower():\n",
    "            dict_count['lowercase'] += 1\n",
    "    return dict_count        \n",
    "\n",
    "print(count_upper_lower(\"Hello World!\"))\n"
   ]
  },
  {
   "cell_type": "code",
   "execution_count": 116,
   "id": "d1ba1554",
   "metadata": {},
   "outputs": [
    {
     "name": "stdout",
     "output_type": "stream",
     "text": [
      "racecar is palindrome.\n"
     ]
    }
   ],
   "source": [
    "# Function Problem : Palindrome Checker\n",
    "\n",
    "def is_palindrome(word):\n",
    "    '''check if the given word is palidrome'''\n",
    "    word = word.lower()\n",
    "    if word == word[::-1]:\n",
    "        print(f\"{word} is palindrome.\")\n",
    "    else:\n",
    "        print(f\"{word} is not a palidrome.\")  \n",
    "\n",
    "is_palindrome('racecar')"
   ]
  },
  {
   "cell_type": "code",
   "execution_count": 121,
   "id": "40bb3b3f",
   "metadata": {},
   "outputs": [
    {
     "data": {
      "text/plain": [
       "6"
      ]
     },
     "execution_count": 121,
     "metadata": {},
     "output_type": "execute_result"
    }
   ],
   "source": [
    "# Function Problem: Vowel Counter\n",
    "\n",
    "def count_vowels(text):\n",
    "    '''Counts the number of vowels in the input text'''\n",
    "    vowels = 'aeiou'\n",
    "    count = sum(1 for char in text.lower() if char in vowels)\n",
    "    return count\n",
    "\n",
    "count_vowels(\"python is awesome\")\n"
   ]
  }
 ],
 "metadata": {
  "kernelspec": {
   "display_name": "Python 3",
   "language": "python",
   "name": "python3"
  },
  "language_info": {
   "codemirror_mode": {
    "name": "ipython",
    "version": 3
   },
   "file_extension": ".py",
   "mimetype": "text/x-python",
   "name": "python",
   "nbconvert_exporter": "python",
   "pygments_lexer": "ipython3",
   "version": "3.12.0"
  }
 },
 "nbformat": 4,
 "nbformat_minor": 5
}
