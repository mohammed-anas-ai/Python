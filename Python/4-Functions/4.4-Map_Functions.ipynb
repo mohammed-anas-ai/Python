{
 "cells": [
  {
   "cell_type": "markdown",
   "id": "39c5dca1",
   "metadata": {},
   "source": [
    "#### Introduction to map() Function in Python\n",
    "\n",
    "The map() function applies a given function to all items in an input list (or any other iterable) and returns a map object (an iterator). This is particularly useful for transforming data in a list comprehensively."
   ]
  },
  {
   "cell_type": "code",
   "execution_count": null,
   "id": "d3799e79",
   "metadata": {},
   "outputs": [
    {
     "name": "stdout",
     "output_type": "stream",
     "text": [
      "25\n"
     ]
    }
   ],
   "source": [
    "def square(x):\n",
    "    return x*x\n",
    "d\n",
    "print(square(5))"
   ]
  },
  {
   "cell_type": "code",
   "execution_count": 4,
   "id": "050e26fa",
   "metadata": {},
   "outputs": [
    {
     "data": {
      "text/plain": [
       "(1, 4, 9, 16, 25)"
      ]
     },
     "execution_count": 4,
     "metadata": {},
     "output_type": "execute_result"
    }
   ],
   "source": [
    "tpl = tuple((1,2,3,4,5))\n",
    "\n",
    "tuple(map(square,tpl)) # Map function takes function, iterable."
   ]
  },
  {
   "cell_type": "code",
   "execution_count": 10,
   "id": "adfb3d91",
   "metadata": {},
   "outputs": [
    {
     "data": {
      "text/plain": [
       "(1, 4, 9, 16, 25)"
      ]
     },
     "execution_count": 10,
     "metadata": {},
     "output_type": "execute_result"
    }
   ],
   "source": [
    "# Lambda function with map\n",
    "\n",
    "tpl = tuple((1,2,3,4,5))\n",
    "\n",
    "tuple(map(lambda x:x*x,tpl))"
   ]
  },
  {
   "cell_type": "code",
   "execution_count": 15,
   "id": "3655c31a",
   "metadata": {},
   "outputs": [
    {
     "data": {
      "text/plain": [
       "[6, 8, 10, 12]"
      ]
     },
     "execution_count": 15,
     "metadata": {},
     "output_type": "execute_result"
    }
   ],
   "source": [
    "# Map multiple iterables\n",
    "\n",
    "L1 = [1,2,3,4]\n",
    "L2 = [5,6,7,8]\n",
    "\n",
    "list(map(lambda X1,Y2:X1+Y2,L1,L2))"
   ]
  },
  {
   "cell_type": "code",
   "execution_count": 13,
   "id": "5e6ea2d0",
   "metadata": {},
   "outputs": [
    {
     "name": "stdout",
     "output_type": "stream",
     "text": [
      "['1', '2', '3', '4', '5']\n",
      "[1, 2, 3, 4, 5]\n"
     ]
    }
   ],
   "source": [
    "# Map() to convert a list of strings to integers\n",
    "\n",
    "lst_strngs = ['1','2','3','4','5']\n",
    "print(lst_strngs)\n",
    "\n",
    "lst_int = list(map(int,lst_strngs))\n",
    "print(lst_int)"
   ]
  },
  {
   "cell_type": "code",
   "execution_count": 23,
   "id": "8121ab01",
   "metadata": {},
   "outputs": [
    {
     "data": {
      "text/plain": [
       "['APPLE', 'CHERRY', 'ORANGE']"
      ]
     },
     "execution_count": 23,
     "metadata": {},
     "output_type": "execute_result"
    }
   ],
   "source": [
    "# Map function with multiple string functions.\n",
    "\n",
    "fruits = ['apple','cherry','orange']\n",
    "\n",
    "list(map(str.upper,fruits))"
   ]
  },
  {
   "cell_type": "code",
   "execution_count": 24,
   "id": "c986ba44",
   "metadata": {},
   "outputs": [
    {
     "data": {
      "text/plain": [
       "['Apple', 'Cherry', 'Orange']"
      ]
     },
     "execution_count": 24,
     "metadata": {},
     "output_type": "execute_result"
    }
   ],
   "source": [
    "fruits = ['apple','cherry','orange']\n",
    "\n",
    "list(map(str.title,fruits))"
   ]
  },
  {
   "cell_type": "code",
   "execution_count": 23,
   "id": "583c7368",
   "metadata": {},
   "outputs": [
    {
     "data": {
      "text/plain": [
       "['anas', 'hafsa', 'aliza']"
      ]
     },
     "execution_count": 23,
     "metadata": {},
     "output_type": "execute_result"
    }
   ],
   "source": [
    "def get_name(person):\n",
    "    return person['name']\n",
    "\n",
    "student_details = [\n",
    "\n",
    "    {'name':'anas','age':23},\n",
    "    {'name':'hafsa','age':2},\n",
    "    {'name':'aliza','age':9}\n",
    "\n",
    "\n",
    "]    \n",
    "\n",
    "list(map(get_name,student_details))"
   ]
  },
  {
   "cell_type": "code",
   "execution_count": 31,
   "id": "03277d91",
   "metadata": {},
   "outputs": [],
   "source": [
    "\n",
    "# 1.You are given a list of numbers. Write a lambda function using map to cube each number in the list."
   ]
  },
  {
   "cell_type": "code",
   "execution_count": 27,
   "id": "077b93d9",
   "metadata": {},
   "outputs": [
    {
     "name": "stdout",
     "output_type": "stream",
     "text": [
      "[1, 8, 27, 64, 125, 216]\n"
     ]
    }
   ],
   "source": [
    "numbers = list(range(1,7))\n",
    "\n",
    "cube = list(map(lambda num:num**3,numbers))\n",
    "print(cube)"
   ]
  },
  {
   "cell_type": "code",
   "execution_count": null,
   "id": "f53c7f0e",
   "metadata": {},
   "outputs": [],
   "source": [
    "# 2.Given a list of strings, use map  to convert each string to uppercase."
   ]
  },
  {
   "cell_type": "code",
   "execution_count": 37,
   "id": "c9d3d44d",
   "metadata": {},
   "outputs": [
    {
     "data": {
      "text/plain": [
       "['APPLE', 'BANANA', 'CHERRY']"
      ]
     },
     "execution_count": 37,
     "metadata": {},
     "output_type": "execute_result"
    }
   ],
   "source": [
    "fruits = ['apple','banana','cherry']\n",
    "\n",
    "upper = list(map(str.upper,fruits))\n",
    "upper"
   ]
  },
  {
   "cell_type": "code",
   "execution_count": null,
   "id": "ed2a5c9c",
   "metadata": {},
   "outputs": [],
   "source": [
    "#  Question 3:\n",
    "# Given a list of integers, return a new list where each number is replaced with:\n",
    "\n",
    "# 'even' if the number is even\n",
    "\n",
    "# 'odd' if the number is odd"
   ]
  },
  {
   "cell_type": "code",
   "execution_count": 41,
   "id": "3a76f7a3",
   "metadata": {},
   "outputs": [
    {
     "name": "stdout",
     "output_type": "stream",
     "text": [
      "['odd', 'even', 'odd', 'even', 'odd', 'even']\n"
     ]
    }
   ],
   "source": [
    "lst = list(range(1,7))\n",
    "\n",
    "even_odd = list(map(lambda num: 'even' if num%2 == 0 else 'odd',lst))\n",
    "print(even_odd)"
   ]
  },
  {
   "cell_type": "code",
   "execution_count": null,
   "id": "b8f98b93",
   "metadata": {},
   "outputs": [],
   "source": []
  }
 ],
 "metadata": {
  "kernelspec": {
   "display_name": "Python 3",
   "language": "python",
   "name": "python3"
  },
  "language_info": {
   "codemirror_mode": {
    "name": "ipython",
    "version": 3
   },
   "file_extension": ".py",
   "mimetype": "text/x-python",
   "name": "python",
   "nbconvert_exporter": "python",
   "pygments_lexer": "ipython3",
   "version": "3.12.0"
  }
 },
 "nbformat": 4,
 "nbformat_minor": 5
}
