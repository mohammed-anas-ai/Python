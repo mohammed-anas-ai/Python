{
 "cells": [
  {
   "cell_type": "markdown",
   "id": "cb188d10",
   "metadata": {},
   "source": [
    "#### Example 1: Temperature Conversion"
   ]
  },
  {
   "cell_type": "code",
   "execution_count": 4,
   "id": "0fbb43a2",
   "metadata": {},
   "outputs": [
    {
     "name": "stdout",
     "output_type": "stream",
     "text": [
      "77.0\n",
      "25.0\n"
     ]
    }
   ],
   "source": [
    "def temperature_conversion(temp,unit):\n",
    "\n",
    "    \"\"\"This function converts celcius to farenheit and vice versa.\"\"\"\n",
    "    if unit == 'C':\n",
    "        return temp * 9/5 + 32 # Celcius to Farenheit.\n",
    "    elif unit =='F':\n",
    "        return (temp-32) * 5/9 # Farenheit to celcius.\n",
    "    else:\n",
    "        None\n",
    "\n",
    "print(temperature_conversion(25,'C')) \n",
    "print(temperature_conversion(77,'F'))             \n",
    "\n"
   ]
  },
  {
   "cell_type": "markdown",
   "id": "cbee184f",
   "metadata": {},
   "source": [
    "##### Example 2: Password Strength Checker"
   ]
  },
  {
   "cell_type": "code",
   "execution_count": 8,
   "id": "04e4e799",
   "metadata": {},
   "outputs": [
    {
     "name": "stdout",
     "output_type": "stream",
     "text": [
      "False\n",
      "True\n"
     ]
    }
   ],
   "source": [
    "def password_strength(password):\n",
    "\n",
    "    \"\"\"This function check whether the entered password is strong or not.\"\"\"\n",
    "\n",
    "    if len(password) < 8:\n",
    "        return False\n",
    "    if not any(char.isdigit() for char in password):\n",
    "        return False\n",
    "    if not any(char.islower() for char in password):\n",
    "        return False\n",
    "    if not any(char.isupper() for char in password):\n",
    "        return False\n",
    "    if not any(char in '!@#$%^&*()_+' for char in password):\n",
    "        return False\n",
    "    return True\n",
    "\n",
    "print(password_strength('Weakpwd'))         \n",
    "print(password_strength('Str0ngPwd!#'))               "
   ]
  },
  {
   "cell_type": "markdown",
   "id": "ae1374fb",
   "metadata": {},
   "source": [
    "##### Example 3: Calculate the Total Cost Of Items In a Shopping Cart"
   ]
  },
  {
   "cell_type": "code",
   "execution_count": 17,
   "id": "8c85d015",
   "metadata": {},
   "outputs": [
    {
     "name": "stdout",
     "output_type": "stream",
     "text": [
      "8.899999999999999\n"
     ]
    }
   ],
   "source": [
    "def total_cost_items(cart):\n",
    "    \n",
    "    \"\"\"This function calculates the total cost of the cart\"\"\"\n",
    "\n",
    "    total_cost = 0\n",
    "\n",
    "    for item in cart:\n",
    "        total_cost += item['price'] * item['quantity']\n",
    "    return total_cost    \n",
    "\n",
    "      \n",
    "\n",
    "cart = [\n",
    "        {'name':'apple','price':0.5,'quantity':4},\n",
    "        {'name':'cherry','price':0.7,'quantity':6},\n",
    "        {'name':'grapes','price':0.9,'quantity':3}\n",
    "      ]\n",
    "\n",
    "total= total_cost_items(cart)\n",
    "print(total)"
   ]
  },
  {
   "cell_type": "markdown",
   "id": "c8af0f6c",
   "metadata": {},
   "source": [
    "### Example 4: Calculate the factorials of a number using recursion"
   ]
  },
  {
   "cell_type": "code",
   "execution_count": null,
   "id": "c05086fc",
   "metadata": {},
   "outputs": [
    {
     "name": "stdout",
     "output_type": "stream",
     "text": [
      "120\n"
     ]
    }
   ],
   "source": [
    "def factorial(num):\n",
    "\n",
    "    \"\"\"This function calculates the factorial\"\"\"\n",
    "\n",
    "    if num == 0:\n",
    "        return 1\n",
    "    else:\n",
    "        return num * factorial(num-1)\n",
    "\n",
    "print(factorial(5))"
   ]
  },
  {
   "cell_type": "markdown",
   "id": "19761674",
   "metadata": {},
   "source": [
    "##### Example 5: Check IF a String Is Palindrome"
   ]
  },
  {
   "cell_type": "code",
   "execution_count": 24,
   "id": "83b7d972",
   "metadata": {},
   "outputs": [
    {
     "name": "stdout",
     "output_type": "stream",
     "text": [
      "True\n",
      "False\n"
     ]
    }
   ],
   "source": [
    "def palindrome(strings):\n",
    "\n",
    "    '''This programs check whether the given number is palindrome or not.'''\n",
    "\n",
    "    strings = strings.lower().replace(' ','')\n",
    "    return strings==strings[::-1]\n",
    "\n",
    "print(palindrome('racecar'))\n",
    "print(palindrome('hello'))\n"
   ]
  },
  {
   "cell_type": "markdown",
   "id": "38c07dad",
   "metadata": {},
   "source": [
    "##### Example 6: A Function To Read A File and count the frequency of each word"
   ]
  },
  {
   "cell_type": "code",
   "execution_count": 26,
   "id": "f0c9c0bd",
   "metadata": {},
   "outputs": [
    {
     "name": "stdout",
     "output_type": "stream",
     "text": [
      "{'hi': 1, 'anas': 1, 'python': 1, 'is': 1, 'my': 1, 'favourite': 1, 'programming': 1, 'language': 1, 'i': 1, 'am': 1, 'very': 1, 'passionate': 1, 'towards': 1, 'artifical': 1, 'intelligence': 1}\n"
     ]
    }
   ],
   "source": [
    "def word_count_frq(file_path):\n",
    "\n",
    "    '''This function counts the frqeuency of the character present in the specifed file in the working directory.'''\n",
    "\n",
    "    word_count = {}\n",
    "\n",
    "    with open(file_path,'r') as file:\n",
    "        for line in file:\n",
    "            words = line.split()\n",
    "            for word in words:\n",
    "                word = word.lower().strip('.,!?\"\\'')\n",
    "                word_count[word] = word_count.get(word,0) +1\n",
    "    return word_count\n",
    "\n",
    "filepath = 'sample.txt'\n",
    "word_frq = word_count_frq(filepath)\n",
    "print(word_frq)                "
   ]
  },
  {
   "cell_type": "code",
   "execution_count": null,
   "id": "70b07ff0",
   "metadata": {},
   "outputs": [
    {
     "name": "stdout",
     "output_type": "stream",
     "text": [
      "Counter({'python': 2, 'is': 2, 'learning': 1, 'fun': 1, 'and': 1, 'powerful': 1})\n"
     ]
    }
   ],
   "source": [
    "from collections import Counter\n",
    "\n",
    "sentence = 'learning python is fun and python is powerful'\n",
    "words = sentence.split()\n",
    "count = Counter(words)\n",
    "print(count)"
   ]
  },
  {
   "cell_type": "code",
   "execution_count": 43,
   "id": "85bd59f4",
   "metadata": {},
   "outputs": [
    {
     "name": "stdout",
     "output_type": "stream",
     "text": [
      "Most frequent character: 'o' (appeared 3 times)\n"
     ]
    }
   ],
   "source": [
    "from collections import Counter\n",
    "\n",
    "def most_frequent_char(s):\n",
    "    # Optional: Convert to lowercase and remove spaces\n",
    "    s = s.replace(\" \", \"\").lower()\n",
    "\n",
    "    # Count frequency of each character\n",
    "    count = Counter(s)\n",
    "\n",
    "    # Get the most common character and its count\n",
    "    most_common = count.most_common(1)[0]  # returns a tuple: (char, count)\n",
    "\n",
    "    print(f\"Most frequent character: '{most_common[0]}' (appeared {most_common[1]} times)\")\n",
    "\n",
    "\n",
    "most_frequent_char(\"programming is cool!!\")\n",
    "\n"
   ]
  },
  {
   "cell_type": "markdown",
   "id": "5b56335f",
   "metadata": {},
   "source": [
    "##### Example 7: Validate Email Address"
   ]
  },
  {
   "cell_type": "code",
   "execution_count": 52,
   "id": "6442f225",
   "metadata": {},
   "outputs": [
    {
     "name": "stdout",
     "output_type": "stream",
     "text": [
      "True\n",
      "False\n"
     ]
    }
   ],
   "source": [
    "import re\n",
    "\n",
    "def valid_email(email):\n",
    "\n",
    "    '''This code checks whether the given email is valid or not.'''\n",
    "\n",
    "    pattern = r'^[a-zA-Z0-9_.+-]+@[a-zA-Z0-9-]+\\.[a-zA-Z0-9-]+$'\n",
    "    return re.match(pattern,email) is not None\n",
    "\n",
    "# Calling the function\n",
    "print(valid_email(\"test@example.com\"))  # Output: True\n",
    "print(valid_email(\"invalid-email\"))  # Output: False\n"
   ]
  },
  {
   "cell_type": "code",
   "execution_count": null,
   "id": "bd32dd1f",
   "metadata": {},
   "outputs": [],
   "source": []
  }
 ],
 "metadata": {
  "kernelspec": {
   "display_name": "Python 3",
   "language": "python",
   "name": "python3"
  },
  "language_info": {
   "codemirror_mode": {
    "name": "ipython",
    "version": 3
   },
   "file_extension": ".py",
   "mimetype": "text/x-python",
   "name": "python",
   "nbconvert_exporter": "python",
   "pygments_lexer": "ipython3",
   "version": "3.12.0"
  }
 },
 "nbformat": 4,
 "nbformat_minor": 5
}
